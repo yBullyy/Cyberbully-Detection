{
  "nbformat": 4,
  "nbformat_minor": 0,
  "metadata": {
    "colab": {
      "name": "yBully-FYP(C30).ipynb",
      "provenance": [],
      "collapsed_sections": [
        "GRKqgHzIUOC-",
        "DyaGs3gfZdPA",
        "eXfXachOZylL",
        "fFzHn_PoY4BA",
        "EcHfFe3Bcvet",
        "0GUFn0bXcNnY",
        "OoFWmtZeIQKQ",
        "g6xK6kr_JzId",
        "V9C1VxoeT2-g",
        "gYWBco7QbmUA",
        "c6yrehX0Cj_z"
      ]
    },
    "kernelspec": {
      "name": "python3",
      "display_name": "Python 3"
    },
    "language_info": {
      "name": "python"
    },
    "accelerator": "GPU"
  },
  "cells": [
    {
      "cell_type": "markdown",
      "metadata": {
        "id": "NQeY-4myj9ug"
      },
      "source": [
        "# CyberBullying Detection\n",
        "\n",
        "\n",
        "**Datasets are collected from the following links :**\n",
        "\n",
        "* [https://data.mendeley.com/datasets/jf4pzyvnpj/1](https://data.mendeley.com/datasets/jf4pzyvnpj/1)\n",
        "* [https://www.kaggle.com/vkrahul/twitter-hate-speech?select=train_E6oV3lV.csv](https://www.kaggle.com/vkrahul/twitter-hate-speech?select=train_E6oV3lV.csv)\n",
        "\n",
        "\n",
        "**Glove Embeddings link :**\n",
        "* [https://nlp.stanford.edu/data/glove.6B.zip](https://nlp.stanford.edu/data/glove.6B.zip)\n",
        "\n"
      ]
    },
    {
      "cell_type": "code",
      "metadata": {
        "colab": {
          "base_uri": "https://localhost:8080/"
        },
        "id": "9NlGCr3rQ9v7",
        "outputId": "a333f79e-3235-420f-fa31-dea73470e7a2"
      },
      "source": [
        "from google.colab import drive\n",
        "drive.mount('/content/drive')"
      ],
      "execution_count": null,
      "outputs": [
        {
          "output_type": "stream",
          "name": "stdout",
          "text": [
            "Mounted at /content/drive\n"
          ]
        }
      ]
    },
    {
      "cell_type": "code",
      "metadata": {
        "id": "1HNkmhXERRfk"
      },
      "source": [
        "import numpy as np\n",
        "import pandas as pd\n",
        "import os\n",
        "import matplotlib.pyplot as plt"
      ],
      "execution_count": null,
      "outputs": []
    },
    {
      "cell_type": "markdown",
      "metadata": {
        "id": "GRKqgHzIUOC-"
      },
      "source": [
        "## Data pre-processing"
      ]
    },
    {
      "cell_type": "code",
      "metadata": {
        "id": "0K85QlQsSg5F"
      },
      "source": [
        "dataset_path = \"/content/drive/MyDrive/yBully-dataset/\""
      ],
      "execution_count": null,
      "outputs": []
    },
    {
      "cell_type": "markdown",
      "metadata": {
        "id": "FSrkNVZ3AA1v"
      },
      "source": [
        "#### Kaggle Dataset Cleaning"
      ]
    },
    {
      "cell_type": "code",
      "metadata": {
        "colab": {
          "base_uri": "https://localhost:8080/",
          "height": 583
        },
        "id": "o5_8Fo9HRk7D",
        "outputId": "252dbca1-c2b5-4923-baaf-afcfd6525723"
      },
      "source": [
        "kaggle_data = pd.read_csv(dataset_path + \"kaggle_parsed_dataset.csv\")\n",
        "kaggle_data.head()"
      ],
      "execution_count": null,
      "outputs": [
        {
          "output_type": "execute_result",
          "data": {
            "text/html": [
              "\n",
              "  <div id=\"df-76c0a521-620f-4ad5-8d4f-5cfdb53573c1\">\n",
              "    <div class=\"colab-df-container\">\n",
              "      <div>\n",
              "<style scoped>\n",
              "    .dataframe tbody tr th:only-of-type {\n",
              "        vertical-align: middle;\n",
              "    }\n",
              "\n",
              "    .dataframe tbody tr th {\n",
              "        vertical-align: top;\n",
              "    }\n",
              "\n",
              "    .dataframe thead th {\n",
              "        text-align: right;\n",
              "    }\n",
              "</style>\n",
              "<table border=\"1\" class=\"dataframe\">\n",
              "  <thead>\n",
              "    <tr style=\"text-align: right;\">\n",
              "      <th></th>\n",
              "      <th>index</th>\n",
              "      <th>oh_label</th>\n",
              "      <th>Date</th>\n",
              "      <th>Text</th>\n",
              "    </tr>\n",
              "  </thead>\n",
              "  <tbody>\n",
              "    <tr>\n",
              "      <th>0</th>\n",
              "      <td>0</td>\n",
              "      <td>1</td>\n",
              "      <td>20120618192155Z</td>\n",
              "      <td>\"You fuck your dad.\"</td>\n",
              "    </tr>\n",
              "    <tr>\n",
              "      <th>1</th>\n",
              "      <td>1</td>\n",
              "      <td>0</td>\n",
              "      <td>20120528192215Z</td>\n",
              "      <td>\"i really don't understand your point.\\xa0 It ...</td>\n",
              "    </tr>\n",
              "    <tr>\n",
              "      <th>2</th>\n",
              "      <td>2</td>\n",
              "      <td>0</td>\n",
              "      <td>NaN</td>\n",
              "      <td>\"A\\\\xc2\\\\xa0majority of Canadians can and has ...</td>\n",
              "    </tr>\n",
              "    <tr>\n",
              "      <th>3</th>\n",
              "      <td>3</td>\n",
              "      <td>0</td>\n",
              "      <td>NaN</td>\n",
              "      <td>\"listen if you dont wanna get married to a man...</td>\n",
              "    </tr>\n",
              "    <tr>\n",
              "      <th>4</th>\n",
              "      <td>4</td>\n",
              "      <td>0</td>\n",
              "      <td>20120619094753Z</td>\n",
              "      <td>\"C\\xe1c b\\u1ea1n xu\\u1ed1ng \\u0111\\u01b0\\u1edd...</td>\n",
              "    </tr>\n",
              "  </tbody>\n",
              "</table>\n",
              "</div>\n",
              "      <button class=\"colab-df-convert\" onclick=\"convertToInteractive('df-76c0a521-620f-4ad5-8d4f-5cfdb53573c1')\"\n",
              "              title=\"Convert this dataframe to an interactive table.\"\n",
              "              style=\"display:none;\">\n",
              "        \n",
              "  <svg xmlns=\"http://www.w3.org/2000/svg\" height=\"24px\"viewBox=\"0 0 24 24\"\n",
              "       width=\"24px\">\n",
              "    <path d=\"M0 0h24v24H0V0z\" fill=\"none\"/>\n",
              "    <path d=\"M18.56 5.44l.94 2.06.94-2.06 2.06-.94-2.06-.94-.94-2.06-.94 2.06-2.06.94zm-11 1L8.5 8.5l.94-2.06 2.06-.94-2.06-.94L8.5 2.5l-.94 2.06-2.06.94zm10 10l.94 2.06.94-2.06 2.06-.94-2.06-.94-.94-2.06-.94 2.06-2.06.94z\"/><path d=\"M17.41 7.96l-1.37-1.37c-.4-.4-.92-.59-1.43-.59-.52 0-1.04.2-1.43.59L10.3 9.45l-7.72 7.72c-.78.78-.78 2.05 0 2.83L4 21.41c.39.39.9.59 1.41.59.51 0 1.02-.2 1.41-.59l7.78-7.78 2.81-2.81c.8-.78.8-2.07 0-2.86zM5.41 20L4 18.59l7.72-7.72 1.47 1.35L5.41 20z\"/>\n",
              "  </svg>\n",
              "      </button>\n",
              "      \n",
              "  <style>\n",
              "    .colab-df-container {\n",
              "      display:flex;\n",
              "      flex-wrap:wrap;\n",
              "      gap: 12px;\n",
              "    }\n",
              "\n",
              "    .colab-df-convert {\n",
              "      background-color: #E8F0FE;\n",
              "      border: none;\n",
              "      border-radius: 50%;\n",
              "      cursor: pointer;\n",
              "      display: none;\n",
              "      fill: #1967D2;\n",
              "      height: 32px;\n",
              "      padding: 0 0 0 0;\n",
              "      width: 32px;\n",
              "    }\n",
              "\n",
              "    .colab-df-convert:hover {\n",
              "      background-color: #E2EBFA;\n",
              "      box-shadow: 0px 1px 2px rgba(60, 64, 67, 0.3), 0px 1px 3px 1px rgba(60, 64, 67, 0.15);\n",
              "      fill: #174EA6;\n",
              "    }\n",
              "\n",
              "    [theme=dark] .colab-df-convert {\n",
              "      background-color: #3B4455;\n",
              "      fill: #D2E3FC;\n",
              "    }\n",
              "\n",
              "    [theme=dark] .colab-df-convert:hover {\n",
              "      background-color: #434B5C;\n",
              "      box-shadow: 0px 1px 3px 1px rgba(0, 0, 0, 0.15);\n",
              "      filter: drop-shadow(0px 1px 2px rgba(0, 0, 0, 0.3));\n",
              "      fill: #FFFFFF;\n",
              "    }\n",
              "  </style>\n",
              "\n",
              "      <script>\n",
              "        const buttonEl =\n",
              "          document.querySelector('#df-76c0a521-620f-4ad5-8d4f-5cfdb53573c1 button.colab-df-convert');\n",
              "        buttonEl.style.display =\n",
              "          google.colab.kernel.accessAllowed ? 'block' : 'none';\n",
              "\n",
              "        async function convertToInteractive(key) {\n",
              "          const element = document.querySelector('#df-76c0a521-620f-4ad5-8d4f-5cfdb53573c1');\n",
              "          const dataTable =\n",
              "            await google.colab.kernel.invokeFunction('convertToInteractive',\n",
              "                                                     [key], {});\n",
              "          if (!dataTable) return;\n",
              "\n",
              "          const docLinkHtml = 'Like what you see? Visit the ' +\n",
              "            '<a target=\"_blank\" href=https://colab.research.google.com/notebooks/data_table.ipynb>data table notebook</a>'\n",
              "            + ' to learn more about interactive tables.';\n",
              "          element.innerHTML = '';\n",
              "          dataTable['output_type'] = 'display_data';\n",
              "          await google.colab.output.renderOutput(dataTable, element);\n",
              "          const docLink = document.createElement('div');\n",
              "          docLink.innerHTML = docLinkHtml;\n",
              "          element.appendChild(docLink);\n",
              "        }\n",
              "      </script>\n",
              "    </div>\n",
              "  </div>\n",
              "  "
            ],
            "text/plain": [
              "   index  ...                                               Text\n",
              "0      0  ...                               \"You fuck your dad.\"\n",
              "1      1  ...  \"i really don't understand your point.\\xa0 It ...\n",
              "2      2  ...  \"A\\\\xc2\\\\xa0majority of Canadians can and has ...\n",
              "3      3  ...  \"listen if you dont wanna get married to a man...\n",
              "4      4  ...  \"C\\xe1c b\\u1ea1n xu\\u1ed1ng \\u0111\\u01b0\\u1edd...\n",
              "\n",
              "[5 rows x 4 columns]"
            ]
          },
          "metadata": {},
          "execution_count": 4
        }
      ]
    },
    {
      "cell_type": "code",
      "metadata": {
        "id": "SWhswDw-RxAa",
        "colab": {
          "base_uri": "https://localhost:8080/"
        },
        "outputId": "5cac9922-8d08-410a-b7d2-7d6e58bab559"
      },
      "source": [
        "kaggle_data.isna().sum()"
      ],
      "execution_count": null,
      "outputs": [
        {
          "output_type": "execute_result",
          "data": {
            "text/plain": [
              "index          0\n",
              "oh_label       0\n",
              "Date        1242\n",
              "Text           0\n",
              "dtype: int64"
            ]
          },
          "metadata": {},
          "execution_count": 5
        }
      ]
    },
    {
      "cell_type": "code",
      "metadata": {
        "colab": {
          "base_uri": "https://localhost:8080/",
          "height": 583
        },
        "id": "Ip0jhbwIUcBd",
        "outputId": "43ebdc1c-c2fd-43c8-e409-c58dc946c9ea"
      },
      "source": [
        "kaggle_data = kaggle_data.drop(['index', 'Date'], axis=1)\n",
        "kaggle_data.head()"
      ],
      "execution_count": null,
      "outputs": [
        {
          "output_type": "execute_result",
          "data": {
            "text/html": [
              "\n",
              "  <div id=\"df-6dc7fa58-0c81-47f2-9d8f-4dd3de8b4bd7\">\n",
              "    <div class=\"colab-df-container\">\n",
              "      <div>\n",
              "<style scoped>\n",
              "    .dataframe tbody tr th:only-of-type {\n",
              "        vertical-align: middle;\n",
              "    }\n",
              "\n",
              "    .dataframe tbody tr th {\n",
              "        vertical-align: top;\n",
              "    }\n",
              "\n",
              "    .dataframe thead th {\n",
              "        text-align: right;\n",
              "    }\n",
              "</style>\n",
              "<table border=\"1\" class=\"dataframe\">\n",
              "  <thead>\n",
              "    <tr style=\"text-align: right;\">\n",
              "      <th></th>\n",
              "      <th>oh_label</th>\n",
              "      <th>Text</th>\n",
              "    </tr>\n",
              "  </thead>\n",
              "  <tbody>\n",
              "    <tr>\n",
              "      <th>0</th>\n",
              "      <td>1</td>\n",
              "      <td>\"You fuck your dad.\"</td>\n",
              "    </tr>\n",
              "    <tr>\n",
              "      <th>1</th>\n",
              "      <td>0</td>\n",
              "      <td>\"i really don't understand your point.\\xa0 It ...</td>\n",
              "    </tr>\n",
              "    <tr>\n",
              "      <th>2</th>\n",
              "      <td>0</td>\n",
              "      <td>\"A\\\\xc2\\\\xa0majority of Canadians can and has ...</td>\n",
              "    </tr>\n",
              "    <tr>\n",
              "      <th>3</th>\n",
              "      <td>0</td>\n",
              "      <td>\"listen if you dont wanna get married to a man...</td>\n",
              "    </tr>\n",
              "    <tr>\n",
              "      <th>4</th>\n",
              "      <td>0</td>\n",
              "      <td>\"C\\xe1c b\\u1ea1n xu\\u1ed1ng \\u0111\\u01b0\\u1edd...</td>\n",
              "    </tr>\n",
              "  </tbody>\n",
              "</table>\n",
              "</div>\n",
              "      <button class=\"colab-df-convert\" onclick=\"convertToInteractive('df-6dc7fa58-0c81-47f2-9d8f-4dd3de8b4bd7')\"\n",
              "              title=\"Convert this dataframe to an interactive table.\"\n",
              "              style=\"display:none;\">\n",
              "        \n",
              "  <svg xmlns=\"http://www.w3.org/2000/svg\" height=\"24px\"viewBox=\"0 0 24 24\"\n",
              "       width=\"24px\">\n",
              "    <path d=\"M0 0h24v24H0V0z\" fill=\"none\"/>\n",
              "    <path d=\"M18.56 5.44l.94 2.06.94-2.06 2.06-.94-2.06-.94-.94-2.06-.94 2.06-2.06.94zm-11 1L8.5 8.5l.94-2.06 2.06-.94-2.06-.94L8.5 2.5l-.94 2.06-2.06.94zm10 10l.94 2.06.94-2.06 2.06-.94-2.06-.94-.94-2.06-.94 2.06-2.06.94z\"/><path d=\"M17.41 7.96l-1.37-1.37c-.4-.4-.92-.59-1.43-.59-.52 0-1.04.2-1.43.59L10.3 9.45l-7.72 7.72c-.78.78-.78 2.05 0 2.83L4 21.41c.39.39.9.59 1.41.59.51 0 1.02-.2 1.41-.59l7.78-7.78 2.81-2.81c.8-.78.8-2.07 0-2.86zM5.41 20L4 18.59l7.72-7.72 1.47 1.35L5.41 20z\"/>\n",
              "  </svg>\n",
              "      </button>\n",
              "      \n",
              "  <style>\n",
              "    .colab-df-container {\n",
              "      display:flex;\n",
              "      flex-wrap:wrap;\n",
              "      gap: 12px;\n",
              "    }\n",
              "\n",
              "    .colab-df-convert {\n",
              "      background-color: #E8F0FE;\n",
              "      border: none;\n",
              "      border-radius: 50%;\n",
              "      cursor: pointer;\n",
              "      display: none;\n",
              "      fill: #1967D2;\n",
              "      height: 32px;\n",
              "      padding: 0 0 0 0;\n",
              "      width: 32px;\n",
              "    }\n",
              "\n",
              "    .colab-df-convert:hover {\n",
              "      background-color: #E2EBFA;\n",
              "      box-shadow: 0px 1px 2px rgba(60, 64, 67, 0.3), 0px 1px 3px 1px rgba(60, 64, 67, 0.15);\n",
              "      fill: #174EA6;\n",
              "    }\n",
              "\n",
              "    [theme=dark] .colab-df-convert {\n",
              "      background-color: #3B4455;\n",
              "      fill: #D2E3FC;\n",
              "    }\n",
              "\n",
              "    [theme=dark] .colab-df-convert:hover {\n",
              "      background-color: #434B5C;\n",
              "      box-shadow: 0px 1px 3px 1px rgba(0, 0, 0, 0.15);\n",
              "      filter: drop-shadow(0px 1px 2px rgba(0, 0, 0, 0.3));\n",
              "      fill: #FFFFFF;\n",
              "    }\n",
              "  </style>\n",
              "\n",
              "      <script>\n",
              "        const buttonEl =\n",
              "          document.querySelector('#df-6dc7fa58-0c81-47f2-9d8f-4dd3de8b4bd7 button.colab-df-convert');\n",
              "        buttonEl.style.display =\n",
              "          google.colab.kernel.accessAllowed ? 'block' : 'none';\n",
              "\n",
              "        async function convertToInteractive(key) {\n",
              "          const element = document.querySelector('#df-6dc7fa58-0c81-47f2-9d8f-4dd3de8b4bd7');\n",
              "          const dataTable =\n",
              "            await google.colab.kernel.invokeFunction('convertToInteractive',\n",
              "                                                     [key], {});\n",
              "          if (!dataTable) return;\n",
              "\n",
              "          const docLinkHtml = 'Like what you see? Visit the ' +\n",
              "            '<a target=\"_blank\" href=https://colab.research.google.com/notebooks/data_table.ipynb>data table notebook</a>'\n",
              "            + ' to learn more about interactive tables.';\n",
              "          element.innerHTML = '';\n",
              "          dataTable['output_type'] = 'display_data';\n",
              "          await google.colab.output.renderOutput(dataTable, element);\n",
              "          const docLink = document.createElement('div');\n",
              "          docLink.innerHTML = docLinkHtml;\n",
              "          element.appendChild(docLink);\n",
              "        }\n",
              "      </script>\n",
              "    </div>\n",
              "  </div>\n",
              "  "
            ],
            "text/plain": [
              "   oh_label                                               Text\n",
              "0         1                               \"You fuck your dad.\"\n",
              "1         0  \"i really don't understand your point.\\xa0 It ...\n",
              "2         0  \"A\\\\xc2\\\\xa0majority of Canadians can and has ...\n",
              "3         0  \"listen if you dont wanna get married to a man...\n",
              "4         0  \"C\\xe1c b\\u1ea1n xu\\u1ed1ng \\u0111\\u01b0\\u1edd..."
            ]
          },
          "metadata": {},
          "execution_count": 6
        }
      ]
    },
    {
      "cell_type": "markdown",
      "metadata": {
        "id": "DyaGs3gfZdPA"
      },
      "source": [
        "#### Twitter Data Cleaning"
      ]
    },
    {
      "cell_type": "code",
      "metadata": {
        "colab": {
          "base_uri": "https://localhost:8080/",
          "height": 496
        },
        "id": "xxZpY9EJZgMb",
        "outputId": "35c0639f-1b38-483d-f42e-e95e85440759"
      },
      "source": [
        "twitter_data = pd.read_csv(dataset_path + \"./twitter_parsed_dataset.csv\")\n",
        "twitter_data.head()"
      ],
      "execution_count": null,
      "outputs": [
        {
          "output_type": "execute_result",
          "data": {
            "text/html": [
              "\n",
              "  <div id=\"df-c950981b-0e49-4ef4-b748-cbef7b9d8582\">\n",
              "    <div class=\"colab-df-container\">\n",
              "      <div>\n",
              "<style scoped>\n",
              "    .dataframe tbody tr th:only-of-type {\n",
              "        vertical-align: middle;\n",
              "    }\n",
              "\n",
              "    .dataframe tbody tr th {\n",
              "        vertical-align: top;\n",
              "    }\n",
              "\n",
              "    .dataframe thead th {\n",
              "        text-align: right;\n",
              "    }\n",
              "</style>\n",
              "<table border=\"1\" class=\"dataframe\">\n",
              "  <thead>\n",
              "    <tr style=\"text-align: right;\">\n",
              "      <th></th>\n",
              "      <th>index</th>\n",
              "      <th>id</th>\n",
              "      <th>Text</th>\n",
              "      <th>Annotation</th>\n",
              "      <th>oh_label</th>\n",
              "    </tr>\n",
              "  </thead>\n",
              "  <tbody>\n",
              "    <tr>\n",
              "      <th>0</th>\n",
              "      <td>5.74948705591165E+017</td>\n",
              "      <td>5.74948705591165E+017</td>\n",
              "      <td>@halalflaws @biebervalue @greenlinerzjm I read...</td>\n",
              "      <td>none</td>\n",
              "      <td>0.0</td>\n",
              "    </tr>\n",
              "    <tr>\n",
              "      <th>1</th>\n",
              "      <td>5.71917888690393E+017</td>\n",
              "      <td>5.71917888690393E+017</td>\n",
              "      <td>@ShreyaBafna3 Now you idiots claim that people...</td>\n",
              "      <td>none</td>\n",
              "      <td>0.0</td>\n",
              "    </tr>\n",
              "    <tr>\n",
              "      <th>2</th>\n",
              "      <td>3.90255841338601E+017</td>\n",
              "      <td>3.90255841338601E+017</td>\n",
              "      <td>RT @Mooseoftorment Call me sexist, but when I ...</td>\n",
              "      <td>sexism</td>\n",
              "      <td>1.0</td>\n",
              "    </tr>\n",
              "    <tr>\n",
              "      <th>3</th>\n",
              "      <td>5.68208850655916E+017</td>\n",
              "      <td>5.68208850655916E+017</td>\n",
              "      <td>@g0ssipsquirrelx Wrong, ISIS follows the examp...</td>\n",
              "      <td>racism</td>\n",
              "      <td>1.0</td>\n",
              "    </tr>\n",
              "    <tr>\n",
              "      <th>4</th>\n",
              "      <td>5.75596338802373E+017</td>\n",
              "      <td>5.75596338802373E+017</td>\n",
              "      <td>#mkr No No No No No No</td>\n",
              "      <td>none</td>\n",
              "      <td>0.0</td>\n",
              "    </tr>\n",
              "  </tbody>\n",
              "</table>\n",
              "</div>\n",
              "      <button class=\"colab-df-convert\" onclick=\"convertToInteractive('df-c950981b-0e49-4ef4-b748-cbef7b9d8582')\"\n",
              "              title=\"Convert this dataframe to an interactive table.\"\n",
              "              style=\"display:none;\">\n",
              "        \n",
              "  <svg xmlns=\"http://www.w3.org/2000/svg\" height=\"24px\"viewBox=\"0 0 24 24\"\n",
              "       width=\"24px\">\n",
              "    <path d=\"M0 0h24v24H0V0z\" fill=\"none\"/>\n",
              "    <path d=\"M18.56 5.44l.94 2.06.94-2.06 2.06-.94-2.06-.94-.94-2.06-.94 2.06-2.06.94zm-11 1L8.5 8.5l.94-2.06 2.06-.94-2.06-.94L8.5 2.5l-.94 2.06-2.06.94zm10 10l.94 2.06.94-2.06 2.06-.94-2.06-.94-.94-2.06-.94 2.06-2.06.94z\"/><path d=\"M17.41 7.96l-1.37-1.37c-.4-.4-.92-.59-1.43-.59-.52 0-1.04.2-1.43.59L10.3 9.45l-7.72 7.72c-.78.78-.78 2.05 0 2.83L4 21.41c.39.39.9.59 1.41.59.51 0 1.02-.2 1.41-.59l7.78-7.78 2.81-2.81c.8-.78.8-2.07 0-2.86zM5.41 20L4 18.59l7.72-7.72 1.47 1.35L5.41 20z\"/>\n",
              "  </svg>\n",
              "      </button>\n",
              "      \n",
              "  <style>\n",
              "    .colab-df-container {\n",
              "      display:flex;\n",
              "      flex-wrap:wrap;\n",
              "      gap: 12px;\n",
              "    }\n",
              "\n",
              "    .colab-df-convert {\n",
              "      background-color: #E8F0FE;\n",
              "      border: none;\n",
              "      border-radius: 50%;\n",
              "      cursor: pointer;\n",
              "      display: none;\n",
              "      fill: #1967D2;\n",
              "      height: 32px;\n",
              "      padding: 0 0 0 0;\n",
              "      width: 32px;\n",
              "    }\n",
              "\n",
              "    .colab-df-convert:hover {\n",
              "      background-color: #E2EBFA;\n",
              "      box-shadow: 0px 1px 2px rgba(60, 64, 67, 0.3), 0px 1px 3px 1px rgba(60, 64, 67, 0.15);\n",
              "      fill: #174EA6;\n",
              "    }\n",
              "\n",
              "    [theme=dark] .colab-df-convert {\n",
              "      background-color: #3B4455;\n",
              "      fill: #D2E3FC;\n",
              "    }\n",
              "\n",
              "    [theme=dark] .colab-df-convert:hover {\n",
              "      background-color: #434B5C;\n",
              "      box-shadow: 0px 1px 3px 1px rgba(0, 0, 0, 0.15);\n",
              "      filter: drop-shadow(0px 1px 2px rgba(0, 0, 0, 0.3));\n",
              "      fill: #FFFFFF;\n",
              "    }\n",
              "  </style>\n",
              "\n",
              "      <script>\n",
              "        const buttonEl =\n",
              "          document.querySelector('#df-c950981b-0e49-4ef4-b748-cbef7b9d8582 button.colab-df-convert');\n",
              "        buttonEl.style.display =\n",
              "          google.colab.kernel.accessAllowed ? 'block' : 'none';\n",
              "\n",
              "        async function convertToInteractive(key) {\n",
              "          const element = document.querySelector('#df-c950981b-0e49-4ef4-b748-cbef7b9d8582');\n",
              "          const dataTable =\n",
              "            await google.colab.kernel.invokeFunction('convertToInteractive',\n",
              "                                                     [key], {});\n",
              "          if (!dataTable) return;\n",
              "\n",
              "          const docLinkHtml = 'Like what you see? Visit the ' +\n",
              "            '<a target=\"_blank\" href=https://colab.research.google.com/notebooks/data_table.ipynb>data table notebook</a>'\n",
              "            + ' to learn more about interactive tables.';\n",
              "          element.innerHTML = '';\n",
              "          dataTable['output_type'] = 'display_data';\n",
              "          await google.colab.output.renderOutput(dataTable, element);\n",
              "          const docLink = document.createElement('div');\n",
              "          docLink.innerHTML = docLinkHtml;\n",
              "          element.appendChild(docLink);\n",
              "        }\n",
              "      </script>\n",
              "    </div>\n",
              "  </div>\n",
              "  "
            ],
            "text/plain": [
              "                   index                     id  ... Annotation oh_label\n",
              "0  5.74948705591165E+017  5.74948705591165E+017  ...       none      0.0\n",
              "1  5.71917888690393E+017  5.71917888690393E+017  ...       none      0.0\n",
              "2  3.90255841338601E+017  3.90255841338601E+017  ...     sexism      1.0\n",
              "3  5.68208850655916E+017  5.68208850655916E+017  ...     racism      1.0\n",
              "4  5.75596338802373E+017  5.75596338802373E+017  ...       none      0.0\n",
              "\n",
              "[5 rows x 5 columns]"
            ]
          },
          "metadata": {},
          "execution_count": 7
        }
      ]
    },
    {
      "cell_type": "code",
      "metadata": {
        "id": "a_Jh7SZLHW7P",
        "colab": {
          "base_uri": "https://localhost:8080/",
          "height": 496
        },
        "outputId": "8f2024c3-dd9c-4397-f00f-70466678e459"
      },
      "source": [
        "twitter_data = twitter_data.drop(['index', 'id', 'Annotation'], axis=1)\n",
        "twitter_data.head()"
      ],
      "execution_count": null,
      "outputs": [
        {
          "output_type": "execute_result",
          "data": {
            "text/html": [
              "\n",
              "  <div id=\"df-f7af10ef-474d-449e-94f5-5d671e31566b\">\n",
              "    <div class=\"colab-df-container\">\n",
              "      <div>\n",
              "<style scoped>\n",
              "    .dataframe tbody tr th:only-of-type {\n",
              "        vertical-align: middle;\n",
              "    }\n",
              "\n",
              "    .dataframe tbody tr th {\n",
              "        vertical-align: top;\n",
              "    }\n",
              "\n",
              "    .dataframe thead th {\n",
              "        text-align: right;\n",
              "    }\n",
              "</style>\n",
              "<table border=\"1\" class=\"dataframe\">\n",
              "  <thead>\n",
              "    <tr style=\"text-align: right;\">\n",
              "      <th></th>\n",
              "      <th>Text</th>\n",
              "      <th>oh_label</th>\n",
              "    </tr>\n",
              "  </thead>\n",
              "  <tbody>\n",
              "    <tr>\n",
              "      <th>0</th>\n",
              "      <td>@halalflaws @biebervalue @greenlinerzjm I read...</td>\n",
              "      <td>0.0</td>\n",
              "    </tr>\n",
              "    <tr>\n",
              "      <th>1</th>\n",
              "      <td>@ShreyaBafna3 Now you idiots claim that people...</td>\n",
              "      <td>0.0</td>\n",
              "    </tr>\n",
              "    <tr>\n",
              "      <th>2</th>\n",
              "      <td>RT @Mooseoftorment Call me sexist, but when I ...</td>\n",
              "      <td>1.0</td>\n",
              "    </tr>\n",
              "    <tr>\n",
              "      <th>3</th>\n",
              "      <td>@g0ssipsquirrelx Wrong, ISIS follows the examp...</td>\n",
              "      <td>1.0</td>\n",
              "    </tr>\n",
              "    <tr>\n",
              "      <th>4</th>\n",
              "      <td>#mkr No No No No No No</td>\n",
              "      <td>0.0</td>\n",
              "    </tr>\n",
              "  </tbody>\n",
              "</table>\n",
              "</div>\n",
              "      <button class=\"colab-df-convert\" onclick=\"convertToInteractive('df-f7af10ef-474d-449e-94f5-5d671e31566b')\"\n",
              "              title=\"Convert this dataframe to an interactive table.\"\n",
              "              style=\"display:none;\">\n",
              "        \n",
              "  <svg xmlns=\"http://www.w3.org/2000/svg\" height=\"24px\"viewBox=\"0 0 24 24\"\n",
              "       width=\"24px\">\n",
              "    <path d=\"M0 0h24v24H0V0z\" fill=\"none\"/>\n",
              "    <path d=\"M18.56 5.44l.94 2.06.94-2.06 2.06-.94-2.06-.94-.94-2.06-.94 2.06-2.06.94zm-11 1L8.5 8.5l.94-2.06 2.06-.94-2.06-.94L8.5 2.5l-.94 2.06-2.06.94zm10 10l.94 2.06.94-2.06 2.06-.94-2.06-.94-.94-2.06-.94 2.06-2.06.94z\"/><path d=\"M17.41 7.96l-1.37-1.37c-.4-.4-.92-.59-1.43-.59-.52 0-1.04.2-1.43.59L10.3 9.45l-7.72 7.72c-.78.78-.78 2.05 0 2.83L4 21.41c.39.39.9.59 1.41.59.51 0 1.02-.2 1.41-.59l7.78-7.78 2.81-2.81c.8-.78.8-2.07 0-2.86zM5.41 20L4 18.59l7.72-7.72 1.47 1.35L5.41 20z\"/>\n",
              "  </svg>\n",
              "      </button>\n",
              "      \n",
              "  <style>\n",
              "    .colab-df-container {\n",
              "      display:flex;\n",
              "      flex-wrap:wrap;\n",
              "      gap: 12px;\n",
              "    }\n",
              "\n",
              "    .colab-df-convert {\n",
              "      background-color: #E8F0FE;\n",
              "      border: none;\n",
              "      border-radius: 50%;\n",
              "      cursor: pointer;\n",
              "      display: none;\n",
              "      fill: #1967D2;\n",
              "      height: 32px;\n",
              "      padding: 0 0 0 0;\n",
              "      width: 32px;\n",
              "    }\n",
              "\n",
              "    .colab-df-convert:hover {\n",
              "      background-color: #E2EBFA;\n",
              "      box-shadow: 0px 1px 2px rgba(60, 64, 67, 0.3), 0px 1px 3px 1px rgba(60, 64, 67, 0.15);\n",
              "      fill: #174EA6;\n",
              "    }\n",
              "\n",
              "    [theme=dark] .colab-df-convert {\n",
              "      background-color: #3B4455;\n",
              "      fill: #D2E3FC;\n",
              "    }\n",
              "\n",
              "    [theme=dark] .colab-df-convert:hover {\n",
              "      background-color: #434B5C;\n",
              "      box-shadow: 0px 1px 3px 1px rgba(0, 0, 0, 0.15);\n",
              "      filter: drop-shadow(0px 1px 2px rgba(0, 0, 0, 0.3));\n",
              "      fill: #FFFFFF;\n",
              "    }\n",
              "  </style>\n",
              "\n",
              "      <script>\n",
              "        const buttonEl =\n",
              "          document.querySelector('#df-f7af10ef-474d-449e-94f5-5d671e31566b button.colab-df-convert');\n",
              "        buttonEl.style.display =\n",
              "          google.colab.kernel.accessAllowed ? 'block' : 'none';\n",
              "\n",
              "        async function convertToInteractive(key) {\n",
              "          const element = document.querySelector('#df-f7af10ef-474d-449e-94f5-5d671e31566b');\n",
              "          const dataTable =\n",
              "            await google.colab.kernel.invokeFunction('convertToInteractive',\n",
              "                                                     [key], {});\n",
              "          if (!dataTable) return;\n",
              "\n",
              "          const docLinkHtml = 'Like what you see? Visit the ' +\n",
              "            '<a target=\"_blank\" href=https://colab.research.google.com/notebooks/data_table.ipynb>data table notebook</a>'\n",
              "            + ' to learn more about interactive tables.';\n",
              "          element.innerHTML = '';\n",
              "          dataTable['output_type'] = 'display_data';\n",
              "          await google.colab.output.renderOutput(dataTable, element);\n",
              "          const docLink = document.createElement('div');\n",
              "          docLink.innerHTML = docLinkHtml;\n",
              "          element.appendChild(docLink);\n",
              "        }\n",
              "      </script>\n",
              "    </div>\n",
              "  </div>\n",
              "  "
            ],
            "text/plain": [
              "                                                Text  oh_label\n",
              "0  @halalflaws @biebervalue @greenlinerzjm I read...       0.0\n",
              "1  @ShreyaBafna3 Now you idiots claim that people...       0.0\n",
              "2  RT @Mooseoftorment Call me sexist, but when I ...       1.0\n",
              "3  @g0ssipsquirrelx Wrong, ISIS follows the examp...       1.0\n",
              "4                             #mkr No No No No No No       0.0"
            ]
          },
          "metadata": {},
          "execution_count": 8
        }
      ]
    },
    {
      "cell_type": "markdown",
      "metadata": {
        "id": "eXfXachOZylL"
      },
      "source": [
        "#### Aggression Data Cleaning"
      ]
    },
    {
      "cell_type": "code",
      "metadata": {
        "id": "07eIvFvfW-T3",
        "colab": {
          "base_uri": "https://localhost:8080/",
          "height": 496
        },
        "outputId": "f9ab76f3-8028-4f95-9904-eb291b558c66"
      },
      "source": [
        "aggression_data = pd.read_csv(dataset_path + \"./aggression_parsed_dataset.csv\")\n",
        "aggression_data.head()"
      ],
      "execution_count": null,
      "outputs": [
        {
          "output_type": "execute_result",
          "data": {
            "text/html": [
              "\n",
              "  <div id=\"df-0e719e38-fe96-48ac-b2c6-b2d5b2f8d9e4\">\n",
              "    <div class=\"colab-df-container\">\n",
              "      <div>\n",
              "<style scoped>\n",
              "    .dataframe tbody tr th:only-of-type {\n",
              "        vertical-align: middle;\n",
              "    }\n",
              "\n",
              "    .dataframe tbody tr th {\n",
              "        vertical-align: top;\n",
              "    }\n",
              "\n",
              "    .dataframe thead th {\n",
              "        text-align: right;\n",
              "    }\n",
              "</style>\n",
              "<table border=\"1\" class=\"dataframe\">\n",
              "  <thead>\n",
              "    <tr style=\"text-align: right;\">\n",
              "      <th></th>\n",
              "      <th>index</th>\n",
              "      <th>Text</th>\n",
              "      <th>ed_label_0</th>\n",
              "      <th>ed_label_1</th>\n",
              "      <th>oh_label</th>\n",
              "    </tr>\n",
              "  </thead>\n",
              "  <tbody>\n",
              "    <tr>\n",
              "      <th>0</th>\n",
              "      <td>0</td>\n",
              "      <td>`- This is not ``creative``.  Those are the di...</td>\n",
              "      <td>0.900000</td>\n",
              "      <td>0.100000</td>\n",
              "      <td>0</td>\n",
              "    </tr>\n",
              "    <tr>\n",
              "      <th>1</th>\n",
              "      <td>1</td>\n",
              "      <td>`  :: the term ``standard model`` is itself le...</td>\n",
              "      <td>1.000000</td>\n",
              "      <td>0.000000</td>\n",
              "      <td>0</td>\n",
              "    </tr>\n",
              "    <tr>\n",
              "      <th>2</th>\n",
              "      <td>2</td>\n",
              "      <td>True or false, the situation as of March 200...</td>\n",
              "      <td>1.000000</td>\n",
              "      <td>0.000000</td>\n",
              "      <td>0</td>\n",
              "    </tr>\n",
              "    <tr>\n",
              "      <th>3</th>\n",
              "      <td>3</td>\n",
              "      <td>Next, maybe you could work on being less cond...</td>\n",
              "      <td>0.555556</td>\n",
              "      <td>0.444444</td>\n",
              "      <td>0</td>\n",
              "    </tr>\n",
              "    <tr>\n",
              "      <th>4</th>\n",
              "      <td>4</td>\n",
              "      <td>This page will need disambiguation.</td>\n",
              "      <td>1.000000</td>\n",
              "      <td>0.000000</td>\n",
              "      <td>0</td>\n",
              "    </tr>\n",
              "  </tbody>\n",
              "</table>\n",
              "</div>\n",
              "      <button class=\"colab-df-convert\" onclick=\"convertToInteractive('df-0e719e38-fe96-48ac-b2c6-b2d5b2f8d9e4')\"\n",
              "              title=\"Convert this dataframe to an interactive table.\"\n",
              "              style=\"display:none;\">\n",
              "        \n",
              "  <svg xmlns=\"http://www.w3.org/2000/svg\" height=\"24px\"viewBox=\"0 0 24 24\"\n",
              "       width=\"24px\">\n",
              "    <path d=\"M0 0h24v24H0V0z\" fill=\"none\"/>\n",
              "    <path d=\"M18.56 5.44l.94 2.06.94-2.06 2.06-.94-2.06-.94-.94-2.06-.94 2.06-2.06.94zm-11 1L8.5 8.5l.94-2.06 2.06-.94-2.06-.94L8.5 2.5l-.94 2.06-2.06.94zm10 10l.94 2.06.94-2.06 2.06-.94-2.06-.94-.94-2.06-.94 2.06-2.06.94z\"/><path d=\"M17.41 7.96l-1.37-1.37c-.4-.4-.92-.59-1.43-.59-.52 0-1.04.2-1.43.59L10.3 9.45l-7.72 7.72c-.78.78-.78 2.05 0 2.83L4 21.41c.39.39.9.59 1.41.59.51 0 1.02-.2 1.41-.59l7.78-7.78 2.81-2.81c.8-.78.8-2.07 0-2.86zM5.41 20L4 18.59l7.72-7.72 1.47 1.35L5.41 20z\"/>\n",
              "  </svg>\n",
              "      </button>\n",
              "      \n",
              "  <style>\n",
              "    .colab-df-container {\n",
              "      display:flex;\n",
              "      flex-wrap:wrap;\n",
              "      gap: 12px;\n",
              "    }\n",
              "\n",
              "    .colab-df-convert {\n",
              "      background-color: #E8F0FE;\n",
              "      border: none;\n",
              "      border-radius: 50%;\n",
              "      cursor: pointer;\n",
              "      display: none;\n",
              "      fill: #1967D2;\n",
              "      height: 32px;\n",
              "      padding: 0 0 0 0;\n",
              "      width: 32px;\n",
              "    }\n",
              "\n",
              "    .colab-df-convert:hover {\n",
              "      background-color: #E2EBFA;\n",
              "      box-shadow: 0px 1px 2px rgba(60, 64, 67, 0.3), 0px 1px 3px 1px rgba(60, 64, 67, 0.15);\n",
              "      fill: #174EA6;\n",
              "    }\n",
              "\n",
              "    [theme=dark] .colab-df-convert {\n",
              "      background-color: #3B4455;\n",
              "      fill: #D2E3FC;\n",
              "    }\n",
              "\n",
              "    [theme=dark] .colab-df-convert:hover {\n",
              "      background-color: #434B5C;\n",
              "      box-shadow: 0px 1px 3px 1px rgba(0, 0, 0, 0.15);\n",
              "      filter: drop-shadow(0px 1px 2px rgba(0, 0, 0, 0.3));\n",
              "      fill: #FFFFFF;\n",
              "    }\n",
              "  </style>\n",
              "\n",
              "      <script>\n",
              "        const buttonEl =\n",
              "          document.querySelector('#df-0e719e38-fe96-48ac-b2c6-b2d5b2f8d9e4 button.colab-df-convert');\n",
              "        buttonEl.style.display =\n",
              "          google.colab.kernel.accessAllowed ? 'block' : 'none';\n",
              "\n",
              "        async function convertToInteractive(key) {\n",
              "          const element = document.querySelector('#df-0e719e38-fe96-48ac-b2c6-b2d5b2f8d9e4');\n",
              "          const dataTable =\n",
              "            await google.colab.kernel.invokeFunction('convertToInteractive',\n",
              "                                                     [key], {});\n",
              "          if (!dataTable) return;\n",
              "\n",
              "          const docLinkHtml = 'Like what you see? Visit the ' +\n",
              "            '<a target=\"_blank\" href=https://colab.research.google.com/notebooks/data_table.ipynb>data table notebook</a>'\n",
              "            + ' to learn more about interactive tables.';\n",
              "          element.innerHTML = '';\n",
              "          dataTable['output_type'] = 'display_data';\n",
              "          await google.colab.output.renderOutput(dataTable, element);\n",
              "          const docLink = document.createElement('div');\n",
              "          docLink.innerHTML = docLinkHtml;\n",
              "          element.appendChild(docLink);\n",
              "        }\n",
              "      </script>\n",
              "    </div>\n",
              "  </div>\n",
              "  "
            ],
            "text/plain": [
              "   index  ... oh_label\n",
              "0      0  ...        0\n",
              "1      1  ...        0\n",
              "2      2  ...        0\n",
              "3      3  ...        0\n",
              "4      4  ...        0\n",
              "\n",
              "[5 rows x 5 columns]"
            ]
          },
          "metadata": {},
          "execution_count": 9
        }
      ]
    },
    {
      "cell_type": "code",
      "metadata": {
        "id": "wJhXkj-8X09w",
        "colab": {
          "base_uri": "https://localhost:8080/",
          "height": 496
        },
        "outputId": "ac153018-91c6-413b-fe83-0bbe2d32334e"
      },
      "source": [
        "aggression_data = aggression_data.drop(['ed_label_0', 'ed_label_1', 'index'], axis=1)\n",
        "aggression_data.head()"
      ],
      "execution_count": null,
      "outputs": [
        {
          "output_type": "execute_result",
          "data": {
            "text/html": [
              "\n",
              "  <div id=\"df-8f6fba4c-0736-4de2-aceb-437582faaa5d\">\n",
              "    <div class=\"colab-df-container\">\n",
              "      <div>\n",
              "<style scoped>\n",
              "    .dataframe tbody tr th:only-of-type {\n",
              "        vertical-align: middle;\n",
              "    }\n",
              "\n",
              "    .dataframe tbody tr th {\n",
              "        vertical-align: top;\n",
              "    }\n",
              "\n",
              "    .dataframe thead th {\n",
              "        text-align: right;\n",
              "    }\n",
              "</style>\n",
              "<table border=\"1\" class=\"dataframe\">\n",
              "  <thead>\n",
              "    <tr style=\"text-align: right;\">\n",
              "      <th></th>\n",
              "      <th>Text</th>\n",
              "      <th>oh_label</th>\n",
              "    </tr>\n",
              "  </thead>\n",
              "  <tbody>\n",
              "    <tr>\n",
              "      <th>0</th>\n",
              "      <td>`- This is not ``creative``.  Those are the di...</td>\n",
              "      <td>0</td>\n",
              "    </tr>\n",
              "    <tr>\n",
              "      <th>1</th>\n",
              "      <td>`  :: the term ``standard model`` is itself le...</td>\n",
              "      <td>0</td>\n",
              "    </tr>\n",
              "    <tr>\n",
              "      <th>2</th>\n",
              "      <td>True or false, the situation as of March 200...</td>\n",
              "      <td>0</td>\n",
              "    </tr>\n",
              "    <tr>\n",
              "      <th>3</th>\n",
              "      <td>Next, maybe you could work on being less cond...</td>\n",
              "      <td>0</td>\n",
              "    </tr>\n",
              "    <tr>\n",
              "      <th>4</th>\n",
              "      <td>This page will need disambiguation.</td>\n",
              "      <td>0</td>\n",
              "    </tr>\n",
              "  </tbody>\n",
              "</table>\n",
              "</div>\n",
              "      <button class=\"colab-df-convert\" onclick=\"convertToInteractive('df-8f6fba4c-0736-4de2-aceb-437582faaa5d')\"\n",
              "              title=\"Convert this dataframe to an interactive table.\"\n",
              "              style=\"display:none;\">\n",
              "        \n",
              "  <svg xmlns=\"http://www.w3.org/2000/svg\" height=\"24px\"viewBox=\"0 0 24 24\"\n",
              "       width=\"24px\">\n",
              "    <path d=\"M0 0h24v24H0V0z\" fill=\"none\"/>\n",
              "    <path d=\"M18.56 5.44l.94 2.06.94-2.06 2.06-.94-2.06-.94-.94-2.06-.94 2.06-2.06.94zm-11 1L8.5 8.5l.94-2.06 2.06-.94-2.06-.94L8.5 2.5l-.94 2.06-2.06.94zm10 10l.94 2.06.94-2.06 2.06-.94-2.06-.94-.94-2.06-.94 2.06-2.06.94z\"/><path d=\"M17.41 7.96l-1.37-1.37c-.4-.4-.92-.59-1.43-.59-.52 0-1.04.2-1.43.59L10.3 9.45l-7.72 7.72c-.78.78-.78 2.05 0 2.83L4 21.41c.39.39.9.59 1.41.59.51 0 1.02-.2 1.41-.59l7.78-7.78 2.81-2.81c.8-.78.8-2.07 0-2.86zM5.41 20L4 18.59l7.72-7.72 1.47 1.35L5.41 20z\"/>\n",
              "  </svg>\n",
              "      </button>\n",
              "      \n",
              "  <style>\n",
              "    .colab-df-container {\n",
              "      display:flex;\n",
              "      flex-wrap:wrap;\n",
              "      gap: 12px;\n",
              "    }\n",
              "\n",
              "    .colab-df-convert {\n",
              "      background-color: #E8F0FE;\n",
              "      border: none;\n",
              "      border-radius: 50%;\n",
              "      cursor: pointer;\n",
              "      display: none;\n",
              "      fill: #1967D2;\n",
              "      height: 32px;\n",
              "      padding: 0 0 0 0;\n",
              "      width: 32px;\n",
              "    }\n",
              "\n",
              "    .colab-df-convert:hover {\n",
              "      background-color: #E2EBFA;\n",
              "      box-shadow: 0px 1px 2px rgba(60, 64, 67, 0.3), 0px 1px 3px 1px rgba(60, 64, 67, 0.15);\n",
              "      fill: #174EA6;\n",
              "    }\n",
              "\n",
              "    [theme=dark] .colab-df-convert {\n",
              "      background-color: #3B4455;\n",
              "      fill: #D2E3FC;\n",
              "    }\n",
              "\n",
              "    [theme=dark] .colab-df-convert:hover {\n",
              "      background-color: #434B5C;\n",
              "      box-shadow: 0px 1px 3px 1px rgba(0, 0, 0, 0.15);\n",
              "      filter: drop-shadow(0px 1px 2px rgba(0, 0, 0, 0.3));\n",
              "      fill: #FFFFFF;\n",
              "    }\n",
              "  </style>\n",
              "\n",
              "      <script>\n",
              "        const buttonEl =\n",
              "          document.querySelector('#df-8f6fba4c-0736-4de2-aceb-437582faaa5d button.colab-df-convert');\n",
              "        buttonEl.style.display =\n",
              "          google.colab.kernel.accessAllowed ? 'block' : 'none';\n",
              "\n",
              "        async function convertToInteractive(key) {\n",
              "          const element = document.querySelector('#df-8f6fba4c-0736-4de2-aceb-437582faaa5d');\n",
              "          const dataTable =\n",
              "            await google.colab.kernel.invokeFunction('convertToInteractive',\n",
              "                                                     [key], {});\n",
              "          if (!dataTable) return;\n",
              "\n",
              "          const docLinkHtml = 'Like what you see? Visit the ' +\n",
              "            '<a target=\"_blank\" href=https://colab.research.google.com/notebooks/data_table.ipynb>data table notebook</a>'\n",
              "            + ' to learn more about interactive tables.';\n",
              "          element.innerHTML = '';\n",
              "          dataTable['output_type'] = 'display_data';\n",
              "          await google.colab.output.renderOutput(dataTable, element);\n",
              "          const docLink = document.createElement('div');\n",
              "          docLink.innerHTML = docLinkHtml;\n",
              "          element.appendChild(docLink);\n",
              "        }\n",
              "      </script>\n",
              "    </div>\n",
              "  </div>\n",
              "  "
            ],
            "text/plain": [
              "                                                Text  oh_label\n",
              "0  `- This is not ``creative``.  Those are the di...         0\n",
              "1  `  :: the term ``standard model`` is itself le...         0\n",
              "2    True or false, the situation as of March 200...         0\n",
              "3   Next, maybe you could work on being less cond...         0\n",
              "4               This page will need disambiguation.          0"
            ]
          },
          "metadata": {},
          "execution_count": 10
        }
      ]
    },
    {
      "cell_type": "markdown",
      "metadata": {
        "id": "fFzHn_PoY4BA"
      },
      "source": [
        "#### Attack Dataset Cleaning"
      ]
    },
    {
      "cell_type": "code",
      "metadata": {
        "colab": {
          "base_uri": "https://localhost:8080/",
          "height": 496
        },
        "id": "QKutU-zOYcTO",
        "outputId": "d8711f03-b726-4487-cf94-058f9ce9fee9"
      },
      "source": [
        "attack_data = pd.read_csv(dataset_path +\"./attack_parsed_dataset.csv\")\n",
        "attack_data.head()"
      ],
      "execution_count": null,
      "outputs": [
        {
          "output_type": "execute_result",
          "data": {
            "text/html": [
              "\n",
              "  <div id=\"df-0739b1ea-8f4f-47fa-8d52-a952c9f89680\">\n",
              "    <div class=\"colab-df-container\">\n",
              "      <div>\n",
              "<style scoped>\n",
              "    .dataframe tbody tr th:only-of-type {\n",
              "        vertical-align: middle;\n",
              "    }\n",
              "\n",
              "    .dataframe tbody tr th {\n",
              "        vertical-align: top;\n",
              "    }\n",
              "\n",
              "    .dataframe thead th {\n",
              "        text-align: right;\n",
              "    }\n",
              "</style>\n",
              "<table border=\"1\" class=\"dataframe\">\n",
              "  <thead>\n",
              "    <tr style=\"text-align: right;\">\n",
              "      <th></th>\n",
              "      <th>index</th>\n",
              "      <th>Text</th>\n",
              "      <th>ed_label_0</th>\n",
              "      <th>ed_label_1</th>\n",
              "      <th>oh_label</th>\n",
              "    </tr>\n",
              "  </thead>\n",
              "  <tbody>\n",
              "    <tr>\n",
              "      <th>0</th>\n",
              "      <td>0</td>\n",
              "      <td>`- This is not ``creative``.  Those are the di...</td>\n",
              "      <td>1.000000</td>\n",
              "      <td>0.000000</td>\n",
              "      <td>0</td>\n",
              "    </tr>\n",
              "    <tr>\n",
              "      <th>1</th>\n",
              "      <td>1</td>\n",
              "      <td>`  :: the term ``standard model`` is itself le...</td>\n",
              "      <td>1.000000</td>\n",
              "      <td>0.000000</td>\n",
              "      <td>0</td>\n",
              "    </tr>\n",
              "    <tr>\n",
              "      <th>2</th>\n",
              "      <td>2</td>\n",
              "      <td>True or false, the situation as of March 200...</td>\n",
              "      <td>1.000000</td>\n",
              "      <td>0.000000</td>\n",
              "      <td>0</td>\n",
              "    </tr>\n",
              "    <tr>\n",
              "      <th>3</th>\n",
              "      <td>3</td>\n",
              "      <td>Next, maybe you could work on being less cond...</td>\n",
              "      <td>0.555556</td>\n",
              "      <td>0.444444</td>\n",
              "      <td>0</td>\n",
              "    </tr>\n",
              "    <tr>\n",
              "      <th>4</th>\n",
              "      <td>4</td>\n",
              "      <td>This page will need disambiguation.</td>\n",
              "      <td>1.000000</td>\n",
              "      <td>0.000000</td>\n",
              "      <td>0</td>\n",
              "    </tr>\n",
              "  </tbody>\n",
              "</table>\n",
              "</div>\n",
              "      <button class=\"colab-df-convert\" onclick=\"convertToInteractive('df-0739b1ea-8f4f-47fa-8d52-a952c9f89680')\"\n",
              "              title=\"Convert this dataframe to an interactive table.\"\n",
              "              style=\"display:none;\">\n",
              "        \n",
              "  <svg xmlns=\"http://www.w3.org/2000/svg\" height=\"24px\"viewBox=\"0 0 24 24\"\n",
              "       width=\"24px\">\n",
              "    <path d=\"M0 0h24v24H0V0z\" fill=\"none\"/>\n",
              "    <path d=\"M18.56 5.44l.94 2.06.94-2.06 2.06-.94-2.06-.94-.94-2.06-.94 2.06-2.06.94zm-11 1L8.5 8.5l.94-2.06 2.06-.94-2.06-.94L8.5 2.5l-.94 2.06-2.06.94zm10 10l.94 2.06.94-2.06 2.06-.94-2.06-.94-.94-2.06-.94 2.06-2.06.94z\"/><path d=\"M17.41 7.96l-1.37-1.37c-.4-.4-.92-.59-1.43-.59-.52 0-1.04.2-1.43.59L10.3 9.45l-7.72 7.72c-.78.78-.78 2.05 0 2.83L4 21.41c.39.39.9.59 1.41.59.51 0 1.02-.2 1.41-.59l7.78-7.78 2.81-2.81c.8-.78.8-2.07 0-2.86zM5.41 20L4 18.59l7.72-7.72 1.47 1.35L5.41 20z\"/>\n",
              "  </svg>\n",
              "      </button>\n",
              "      \n",
              "  <style>\n",
              "    .colab-df-container {\n",
              "      display:flex;\n",
              "      flex-wrap:wrap;\n",
              "      gap: 12px;\n",
              "    }\n",
              "\n",
              "    .colab-df-convert {\n",
              "      background-color: #E8F0FE;\n",
              "      border: none;\n",
              "      border-radius: 50%;\n",
              "      cursor: pointer;\n",
              "      display: none;\n",
              "      fill: #1967D2;\n",
              "      height: 32px;\n",
              "      padding: 0 0 0 0;\n",
              "      width: 32px;\n",
              "    }\n",
              "\n",
              "    .colab-df-convert:hover {\n",
              "      background-color: #E2EBFA;\n",
              "      box-shadow: 0px 1px 2px rgba(60, 64, 67, 0.3), 0px 1px 3px 1px rgba(60, 64, 67, 0.15);\n",
              "      fill: #174EA6;\n",
              "    }\n",
              "\n",
              "    [theme=dark] .colab-df-convert {\n",
              "      background-color: #3B4455;\n",
              "      fill: #D2E3FC;\n",
              "    }\n",
              "\n",
              "    [theme=dark] .colab-df-convert:hover {\n",
              "      background-color: #434B5C;\n",
              "      box-shadow: 0px 1px 3px 1px rgba(0, 0, 0, 0.15);\n",
              "      filter: drop-shadow(0px 1px 2px rgba(0, 0, 0, 0.3));\n",
              "      fill: #FFFFFF;\n",
              "    }\n",
              "  </style>\n",
              "\n",
              "      <script>\n",
              "        const buttonEl =\n",
              "          document.querySelector('#df-0739b1ea-8f4f-47fa-8d52-a952c9f89680 button.colab-df-convert');\n",
              "        buttonEl.style.display =\n",
              "          google.colab.kernel.accessAllowed ? 'block' : 'none';\n",
              "\n",
              "        async function convertToInteractive(key) {\n",
              "          const element = document.querySelector('#df-0739b1ea-8f4f-47fa-8d52-a952c9f89680');\n",
              "          const dataTable =\n",
              "            await google.colab.kernel.invokeFunction('convertToInteractive',\n",
              "                                                     [key], {});\n",
              "          if (!dataTable) return;\n",
              "\n",
              "          const docLinkHtml = 'Like what you see? Visit the ' +\n",
              "            '<a target=\"_blank\" href=https://colab.research.google.com/notebooks/data_table.ipynb>data table notebook</a>'\n",
              "            + ' to learn more about interactive tables.';\n",
              "          element.innerHTML = '';\n",
              "          dataTable['output_type'] = 'display_data';\n",
              "          await google.colab.output.renderOutput(dataTable, element);\n",
              "          const docLink = document.createElement('div');\n",
              "          docLink.innerHTML = docLinkHtml;\n",
              "          element.appendChild(docLink);\n",
              "        }\n",
              "      </script>\n",
              "    </div>\n",
              "  </div>\n",
              "  "
            ],
            "text/plain": [
              "   index  ... oh_label\n",
              "0      0  ...        0\n",
              "1      1  ...        0\n",
              "2      2  ...        0\n",
              "3      3  ...        0\n",
              "4      4  ...        0\n",
              "\n",
              "[5 rows x 5 columns]"
            ]
          },
          "metadata": {},
          "execution_count": 11
        }
      ]
    },
    {
      "cell_type": "code",
      "metadata": {
        "id": "ln7M7r-rYcQx",
        "colab": {
          "base_uri": "https://localhost:8080/",
          "height": 496
        },
        "outputId": "59ef08ae-1ffb-4611-d180-9265d6e97f79"
      },
      "source": [
        "attack_data = attack_data.drop(['ed_label_0', 'ed_label_1', 'index'], axis=1)\n",
        "attack_data.head()"
      ],
      "execution_count": null,
      "outputs": [
        {
          "output_type": "execute_result",
          "data": {
            "text/html": [
              "\n",
              "  <div id=\"df-0077ef0c-7578-4dd4-bf76-4c029ab382c8\">\n",
              "    <div class=\"colab-df-container\">\n",
              "      <div>\n",
              "<style scoped>\n",
              "    .dataframe tbody tr th:only-of-type {\n",
              "        vertical-align: middle;\n",
              "    }\n",
              "\n",
              "    .dataframe tbody tr th {\n",
              "        vertical-align: top;\n",
              "    }\n",
              "\n",
              "    .dataframe thead th {\n",
              "        text-align: right;\n",
              "    }\n",
              "</style>\n",
              "<table border=\"1\" class=\"dataframe\">\n",
              "  <thead>\n",
              "    <tr style=\"text-align: right;\">\n",
              "      <th></th>\n",
              "      <th>Text</th>\n",
              "      <th>oh_label</th>\n",
              "    </tr>\n",
              "  </thead>\n",
              "  <tbody>\n",
              "    <tr>\n",
              "      <th>0</th>\n",
              "      <td>`- This is not ``creative``.  Those are the di...</td>\n",
              "      <td>0</td>\n",
              "    </tr>\n",
              "    <tr>\n",
              "      <th>1</th>\n",
              "      <td>`  :: the term ``standard model`` is itself le...</td>\n",
              "      <td>0</td>\n",
              "    </tr>\n",
              "    <tr>\n",
              "      <th>2</th>\n",
              "      <td>True or false, the situation as of March 200...</td>\n",
              "      <td>0</td>\n",
              "    </tr>\n",
              "    <tr>\n",
              "      <th>3</th>\n",
              "      <td>Next, maybe you could work on being less cond...</td>\n",
              "      <td>0</td>\n",
              "    </tr>\n",
              "    <tr>\n",
              "      <th>4</th>\n",
              "      <td>This page will need disambiguation.</td>\n",
              "      <td>0</td>\n",
              "    </tr>\n",
              "  </tbody>\n",
              "</table>\n",
              "</div>\n",
              "      <button class=\"colab-df-convert\" onclick=\"convertToInteractive('df-0077ef0c-7578-4dd4-bf76-4c029ab382c8')\"\n",
              "              title=\"Convert this dataframe to an interactive table.\"\n",
              "              style=\"display:none;\">\n",
              "        \n",
              "  <svg xmlns=\"http://www.w3.org/2000/svg\" height=\"24px\"viewBox=\"0 0 24 24\"\n",
              "       width=\"24px\">\n",
              "    <path d=\"M0 0h24v24H0V0z\" fill=\"none\"/>\n",
              "    <path d=\"M18.56 5.44l.94 2.06.94-2.06 2.06-.94-2.06-.94-.94-2.06-.94 2.06-2.06.94zm-11 1L8.5 8.5l.94-2.06 2.06-.94-2.06-.94L8.5 2.5l-.94 2.06-2.06.94zm10 10l.94 2.06.94-2.06 2.06-.94-2.06-.94-.94-2.06-.94 2.06-2.06.94z\"/><path d=\"M17.41 7.96l-1.37-1.37c-.4-.4-.92-.59-1.43-.59-.52 0-1.04.2-1.43.59L10.3 9.45l-7.72 7.72c-.78.78-.78 2.05 0 2.83L4 21.41c.39.39.9.59 1.41.59.51 0 1.02-.2 1.41-.59l7.78-7.78 2.81-2.81c.8-.78.8-2.07 0-2.86zM5.41 20L4 18.59l7.72-7.72 1.47 1.35L5.41 20z\"/>\n",
              "  </svg>\n",
              "      </button>\n",
              "      \n",
              "  <style>\n",
              "    .colab-df-container {\n",
              "      display:flex;\n",
              "      flex-wrap:wrap;\n",
              "      gap: 12px;\n",
              "    }\n",
              "\n",
              "    .colab-df-convert {\n",
              "      background-color: #E8F0FE;\n",
              "      border: none;\n",
              "      border-radius: 50%;\n",
              "      cursor: pointer;\n",
              "      display: none;\n",
              "      fill: #1967D2;\n",
              "      height: 32px;\n",
              "      padding: 0 0 0 0;\n",
              "      width: 32px;\n",
              "    }\n",
              "\n",
              "    .colab-df-convert:hover {\n",
              "      background-color: #E2EBFA;\n",
              "      box-shadow: 0px 1px 2px rgba(60, 64, 67, 0.3), 0px 1px 3px 1px rgba(60, 64, 67, 0.15);\n",
              "      fill: #174EA6;\n",
              "    }\n",
              "\n",
              "    [theme=dark] .colab-df-convert {\n",
              "      background-color: #3B4455;\n",
              "      fill: #D2E3FC;\n",
              "    }\n",
              "\n",
              "    [theme=dark] .colab-df-convert:hover {\n",
              "      background-color: #434B5C;\n",
              "      box-shadow: 0px 1px 3px 1px rgba(0, 0, 0, 0.15);\n",
              "      filter: drop-shadow(0px 1px 2px rgba(0, 0, 0, 0.3));\n",
              "      fill: #FFFFFF;\n",
              "    }\n",
              "  </style>\n",
              "\n",
              "      <script>\n",
              "        const buttonEl =\n",
              "          document.querySelector('#df-0077ef0c-7578-4dd4-bf76-4c029ab382c8 button.colab-df-convert');\n",
              "        buttonEl.style.display =\n",
              "          google.colab.kernel.accessAllowed ? 'block' : 'none';\n",
              "\n",
              "        async function convertToInteractive(key) {\n",
              "          const element = document.querySelector('#df-0077ef0c-7578-4dd4-bf76-4c029ab382c8');\n",
              "          const dataTable =\n",
              "            await google.colab.kernel.invokeFunction('convertToInteractive',\n",
              "                                                     [key], {});\n",
              "          if (!dataTable) return;\n",
              "\n",
              "          const docLinkHtml = 'Like what you see? Visit the ' +\n",
              "            '<a target=\"_blank\" href=https://colab.research.google.com/notebooks/data_table.ipynb>data table notebook</a>'\n",
              "            + ' to learn more about interactive tables.';\n",
              "          element.innerHTML = '';\n",
              "          dataTable['output_type'] = 'display_data';\n",
              "          await google.colab.output.renderOutput(dataTable, element);\n",
              "          const docLink = document.createElement('div');\n",
              "          docLink.innerHTML = docLinkHtml;\n",
              "          element.appendChild(docLink);\n",
              "        }\n",
              "      </script>\n",
              "    </div>\n",
              "  </div>\n",
              "  "
            ],
            "text/plain": [
              "                                                Text  oh_label\n",
              "0  `- This is not ``creative``.  Those are the di...         0\n",
              "1  `  :: the term ``standard model`` is itself le...         0\n",
              "2    True or false, the situation as of March 200...         0\n",
              "3   Next, maybe you could work on being less cond...         0\n",
              "4               This page will need disambiguation.          0"
            ]
          },
          "metadata": {},
          "execution_count": 12
        }
      ]
    },
    {
      "cell_type": "markdown",
      "metadata": {
        "id": "EcHfFe3Bcvet"
      },
      "source": [
        "#### Toxicity Data Cleaning"
      ]
    },
    {
      "cell_type": "code",
      "metadata": {
        "colab": {
          "base_uri": "https://localhost:8080/",
          "height": 496
        },
        "id": "2pwahl9Qcs3t",
        "outputId": "03ccaef1-8e79-412b-f472-0ff32dfc0d65"
      },
      "source": [
        "toxicity_data = pd.read_csv(dataset_path +\"./toxicity_parsed_dataset.csv\")\n",
        "toxicity_data.head()"
      ],
      "execution_count": null,
      "outputs": [
        {
          "output_type": "execute_result",
          "data": {
            "text/html": [
              "\n",
              "  <div id=\"df-7d4ecdaa-8e34-43c6-8d06-11ee8956370c\">\n",
              "    <div class=\"colab-df-container\">\n",
              "      <div>\n",
              "<style scoped>\n",
              "    .dataframe tbody tr th:only-of-type {\n",
              "        vertical-align: middle;\n",
              "    }\n",
              "\n",
              "    .dataframe tbody tr th {\n",
              "        vertical-align: top;\n",
              "    }\n",
              "\n",
              "    .dataframe thead th {\n",
              "        text-align: right;\n",
              "    }\n",
              "</style>\n",
              "<table border=\"1\" class=\"dataframe\">\n",
              "  <thead>\n",
              "    <tr style=\"text-align: right;\">\n",
              "      <th></th>\n",
              "      <th>index</th>\n",
              "      <th>Text</th>\n",
              "      <th>ed_label_0</th>\n",
              "      <th>ed_label_1</th>\n",
              "      <th>oh_label</th>\n",
              "    </tr>\n",
              "  </thead>\n",
              "  <tbody>\n",
              "    <tr>\n",
              "      <th>0</th>\n",
              "      <td>0</td>\n",
              "      <td>This: :One can make an analogy in mathematical...</td>\n",
              "      <td>0.9</td>\n",
              "      <td>0.1</td>\n",
              "      <td>0</td>\n",
              "    </tr>\n",
              "    <tr>\n",
              "      <th>1</th>\n",
              "      <td>1</td>\n",
              "      <td>`  :Clarification for you  (and Zundark's righ...</td>\n",
              "      <td>1.0</td>\n",
              "      <td>0.0</td>\n",
              "      <td>0</td>\n",
              "    </tr>\n",
              "    <tr>\n",
              "      <th>2</th>\n",
              "      <td>2</td>\n",
              "      <td>Elected or Electoral? JHK</td>\n",
              "      <td>1.0</td>\n",
              "      <td>0.0</td>\n",
              "      <td>0</td>\n",
              "    </tr>\n",
              "    <tr>\n",
              "      <th>3</th>\n",
              "      <td>3</td>\n",
              "      <td>`This is such a fun entry.   Devotchka  I once...</td>\n",
              "      <td>1.0</td>\n",
              "      <td>0.0</td>\n",
              "      <td>0</td>\n",
              "    </tr>\n",
              "    <tr>\n",
              "      <th>4</th>\n",
              "      <td>4</td>\n",
              "      <td>Please relate the ozone hole to increases in c...</td>\n",
              "      <td>0.8</td>\n",
              "      <td>0.2</td>\n",
              "      <td>0</td>\n",
              "    </tr>\n",
              "  </tbody>\n",
              "</table>\n",
              "</div>\n",
              "      <button class=\"colab-df-convert\" onclick=\"convertToInteractive('df-7d4ecdaa-8e34-43c6-8d06-11ee8956370c')\"\n",
              "              title=\"Convert this dataframe to an interactive table.\"\n",
              "              style=\"display:none;\">\n",
              "        \n",
              "  <svg xmlns=\"http://www.w3.org/2000/svg\" height=\"24px\"viewBox=\"0 0 24 24\"\n",
              "       width=\"24px\">\n",
              "    <path d=\"M0 0h24v24H0V0z\" fill=\"none\"/>\n",
              "    <path d=\"M18.56 5.44l.94 2.06.94-2.06 2.06-.94-2.06-.94-.94-2.06-.94 2.06-2.06.94zm-11 1L8.5 8.5l.94-2.06 2.06-.94-2.06-.94L8.5 2.5l-.94 2.06-2.06.94zm10 10l.94 2.06.94-2.06 2.06-.94-2.06-.94-.94-2.06-.94 2.06-2.06.94z\"/><path d=\"M17.41 7.96l-1.37-1.37c-.4-.4-.92-.59-1.43-.59-.52 0-1.04.2-1.43.59L10.3 9.45l-7.72 7.72c-.78.78-.78 2.05 0 2.83L4 21.41c.39.39.9.59 1.41.59.51 0 1.02-.2 1.41-.59l7.78-7.78 2.81-2.81c.8-.78.8-2.07 0-2.86zM5.41 20L4 18.59l7.72-7.72 1.47 1.35L5.41 20z\"/>\n",
              "  </svg>\n",
              "      </button>\n",
              "      \n",
              "  <style>\n",
              "    .colab-df-container {\n",
              "      display:flex;\n",
              "      flex-wrap:wrap;\n",
              "      gap: 12px;\n",
              "    }\n",
              "\n",
              "    .colab-df-convert {\n",
              "      background-color: #E8F0FE;\n",
              "      border: none;\n",
              "      border-radius: 50%;\n",
              "      cursor: pointer;\n",
              "      display: none;\n",
              "      fill: #1967D2;\n",
              "      height: 32px;\n",
              "      padding: 0 0 0 0;\n",
              "      width: 32px;\n",
              "    }\n",
              "\n",
              "    .colab-df-convert:hover {\n",
              "      background-color: #E2EBFA;\n",
              "      box-shadow: 0px 1px 2px rgba(60, 64, 67, 0.3), 0px 1px 3px 1px rgba(60, 64, 67, 0.15);\n",
              "      fill: #174EA6;\n",
              "    }\n",
              "\n",
              "    [theme=dark] .colab-df-convert {\n",
              "      background-color: #3B4455;\n",
              "      fill: #D2E3FC;\n",
              "    }\n",
              "\n",
              "    [theme=dark] .colab-df-convert:hover {\n",
              "      background-color: #434B5C;\n",
              "      box-shadow: 0px 1px 3px 1px rgba(0, 0, 0, 0.15);\n",
              "      filter: drop-shadow(0px 1px 2px rgba(0, 0, 0, 0.3));\n",
              "      fill: #FFFFFF;\n",
              "    }\n",
              "  </style>\n",
              "\n",
              "      <script>\n",
              "        const buttonEl =\n",
              "          document.querySelector('#df-7d4ecdaa-8e34-43c6-8d06-11ee8956370c button.colab-df-convert');\n",
              "        buttonEl.style.display =\n",
              "          google.colab.kernel.accessAllowed ? 'block' : 'none';\n",
              "\n",
              "        async function convertToInteractive(key) {\n",
              "          const element = document.querySelector('#df-7d4ecdaa-8e34-43c6-8d06-11ee8956370c');\n",
              "          const dataTable =\n",
              "            await google.colab.kernel.invokeFunction('convertToInteractive',\n",
              "                                                     [key], {});\n",
              "          if (!dataTable) return;\n",
              "\n",
              "          const docLinkHtml = 'Like what you see? Visit the ' +\n",
              "            '<a target=\"_blank\" href=https://colab.research.google.com/notebooks/data_table.ipynb>data table notebook</a>'\n",
              "            + ' to learn more about interactive tables.';\n",
              "          element.innerHTML = '';\n",
              "          dataTable['output_type'] = 'display_data';\n",
              "          await google.colab.output.renderOutput(dataTable, element);\n",
              "          const docLink = document.createElement('div');\n",
              "          docLink.innerHTML = docLinkHtml;\n",
              "          element.appendChild(docLink);\n",
              "        }\n",
              "      </script>\n",
              "    </div>\n",
              "  </div>\n",
              "  "
            ],
            "text/plain": [
              "   index  ... oh_label\n",
              "0      0  ...        0\n",
              "1      1  ...        0\n",
              "2      2  ...        0\n",
              "3      3  ...        0\n",
              "4      4  ...        0\n",
              "\n",
              "[5 rows x 5 columns]"
            ]
          },
          "metadata": {},
          "execution_count": 13
        }
      ]
    },
    {
      "cell_type": "code",
      "metadata": {
        "colab": {
          "base_uri": "https://localhost:8080/"
        },
        "id": "AAtTkaq7csmN",
        "outputId": "255e67ae-bf47-4a4c-f4aa-cb7e53654e7b"
      },
      "source": [
        "n = len(pd.unique(toxicity_data['Text']))\n",
        "print(\"Unique -\", n)\n",
        "print(\"Total -\", toxicity_data.shape[0])\n",
        "print(\"Duplicates\", toxicity_data.shape[0] - n)\n",
        "print(toxicity_data.shape)"
      ],
      "execution_count": null,
      "outputs": [
        {
          "output_type": "stream",
          "name": "stdout",
          "text": [
            "Unique - 159388\n",
            "Total - 159686\n",
            "Duplicates 298\n",
            "(159686, 5)\n"
          ]
        }
      ]
    },
    {
      "cell_type": "code",
      "metadata": {
        "colab": {
          "base_uri": "https://localhost:8080/"
        },
        "id": "szVXmMExcsgz",
        "outputId": "9b4952b5-3519-4185-c02f-f4aed409851c"
      },
      "source": [
        "toxicity_data = toxicity_data.drop(['ed_label_0', 'ed_label_1', 'index'], axis=1)\n",
        "toxicity_data.head()\n",
        "print(toxicity_data.shape)"
      ],
      "execution_count": null,
      "outputs": [
        {
          "output_type": "stream",
          "name": "stdout",
          "text": [
            "(159686, 2)\n"
          ]
        }
      ]
    },
    {
      "cell_type": "markdown",
      "metadata": {
        "id": "8kmBbux4de1d"
      },
      "source": [
        "#### Youtube Data Cleaning"
      ]
    },
    {
      "cell_type": "code",
      "metadata": {
        "colab": {
          "base_uri": "https://localhost:8080/",
          "height": 548
        },
        "id": "uWt5LA7Scsdo",
        "outputId": "fa159963-5ba1-4ff4-d38a-6e83c91837ef"
      },
      "source": [
        "youtube_data = pd.read_csv(dataset_path +\"./youtube_parsed_dataset.csv\")\n",
        "youtube_data.head()"
      ],
      "execution_count": null,
      "outputs": [
        {
          "output_type": "execute_result",
          "data": {
            "text/html": [
              "\n",
              "  <div id=\"df-ee7e0e09-f22f-4bf9-96cc-d2a2fe84e75d\">\n",
              "    <div class=\"colab-df-container\">\n",
              "      <div>\n",
              "<style scoped>\n",
              "    .dataframe tbody tr th:only-of-type {\n",
              "        vertical-align: middle;\n",
              "    }\n",
              "\n",
              "    .dataframe tbody tr th {\n",
              "        vertical-align: top;\n",
              "    }\n",
              "\n",
              "    .dataframe thead th {\n",
              "        text-align: right;\n",
              "    }\n",
              "</style>\n",
              "<table border=\"1\" class=\"dataframe\">\n",
              "  <thead>\n",
              "    <tr style=\"text-align: right;\">\n",
              "      <th></th>\n",
              "      <th>index</th>\n",
              "      <th>UserIndex</th>\n",
              "      <th>Text</th>\n",
              "      <th>Number of Comments</th>\n",
              "      <th>Number of Subscribers</th>\n",
              "      <th>Membership Duration</th>\n",
              "      <th>Number of Uploads</th>\n",
              "      <th>Profanity in UserID</th>\n",
              "      <th>Age</th>\n",
              "      <th>oh_label</th>\n",
              "    </tr>\n",
              "  </thead>\n",
              "  <tbody>\n",
              "    <tr>\n",
              "      <th>0</th>\n",
              "      <td>0</td>\n",
              "      <td>X1</td>\n",
              "      <td>Does N.e.bodyelse Hear her Crazy ass Screamin ...</td>\n",
              "      <td>10</td>\n",
              "      <td>1</td>\n",
              "      <td>3</td>\n",
              "      <td>3</td>\n",
              "      <td>0</td>\n",
              "      <td>15</td>\n",
              "      <td>0</td>\n",
              "    </tr>\n",
              "    <tr>\n",
              "      <th>1</th>\n",
              "      <td>1</td>\n",
              "      <td>X2</td>\n",
              "      <td>There are so many things that are incorrect wi...</td>\n",
              "      <td>3</td>\n",
              "      <td>0</td>\n",
              "      <td>6</td>\n",
              "      <td>5</td>\n",
              "      <td>0</td>\n",
              "      <td>31</td>\n",
              "      <td>0</td>\n",
              "    </tr>\n",
              "    <tr>\n",
              "      <th>2</th>\n",
              "      <td>2</td>\n",
              "      <td>X3</td>\n",
              "      <td>3:26 hahah my boyfriend showed this song to me...</td>\n",
              "      <td>7</td>\n",
              "      <td>0</td>\n",
              "      <td>3</td>\n",
              "      <td>5</td>\n",
              "      <td>0</td>\n",
              "      <td>43</td>\n",
              "      <td>1</td>\n",
              "    </tr>\n",
              "    <tr>\n",
              "      <th>3</th>\n",
              "      <td>3</td>\n",
              "      <td>X2218</td>\n",
              "      <td>dick beyonce fuck y a ass hole you are truely ...</td>\n",
              "      <td>34</td>\n",
              "      <td>0</td>\n",
              "      <td>3</td>\n",
              "      <td>5</td>\n",
              "      <td>0</td>\n",
              "      <td>44</td>\n",
              "      <td>1</td>\n",
              "    </tr>\n",
              "    <tr>\n",
              "      <th>4</th>\n",
              "      <td>4</td>\n",
              "      <td>X5</td>\n",
              "      <td>DongHaeTaemin and Kai ;A; luhansehun and bacon...</td>\n",
              "      <td>11</td>\n",
              "      <td>173</td>\n",
              "      <td>5</td>\n",
              "      <td>5</td>\n",
              "      <td>0</td>\n",
              "      <td>21</td>\n",
              "      <td>0</td>\n",
              "    </tr>\n",
              "  </tbody>\n",
              "</table>\n",
              "</div>\n",
              "      <button class=\"colab-df-convert\" onclick=\"convertToInteractive('df-ee7e0e09-f22f-4bf9-96cc-d2a2fe84e75d')\"\n",
              "              title=\"Convert this dataframe to an interactive table.\"\n",
              "              style=\"display:none;\">\n",
              "        \n",
              "  <svg xmlns=\"http://www.w3.org/2000/svg\" height=\"24px\"viewBox=\"0 0 24 24\"\n",
              "       width=\"24px\">\n",
              "    <path d=\"M0 0h24v24H0V0z\" fill=\"none\"/>\n",
              "    <path d=\"M18.56 5.44l.94 2.06.94-2.06 2.06-.94-2.06-.94-.94-2.06-.94 2.06-2.06.94zm-11 1L8.5 8.5l.94-2.06 2.06-.94-2.06-.94L8.5 2.5l-.94 2.06-2.06.94zm10 10l.94 2.06.94-2.06 2.06-.94-2.06-.94-.94-2.06-.94 2.06-2.06.94z\"/><path d=\"M17.41 7.96l-1.37-1.37c-.4-.4-.92-.59-1.43-.59-.52 0-1.04.2-1.43.59L10.3 9.45l-7.72 7.72c-.78.78-.78 2.05 0 2.83L4 21.41c.39.39.9.59 1.41.59.51 0 1.02-.2 1.41-.59l7.78-7.78 2.81-2.81c.8-.78.8-2.07 0-2.86zM5.41 20L4 18.59l7.72-7.72 1.47 1.35L5.41 20z\"/>\n",
              "  </svg>\n",
              "      </button>\n",
              "      \n",
              "  <style>\n",
              "    .colab-df-container {\n",
              "      display:flex;\n",
              "      flex-wrap:wrap;\n",
              "      gap: 12px;\n",
              "    }\n",
              "\n",
              "    .colab-df-convert {\n",
              "      background-color: #E8F0FE;\n",
              "      border: none;\n",
              "      border-radius: 50%;\n",
              "      cursor: pointer;\n",
              "      display: none;\n",
              "      fill: #1967D2;\n",
              "      height: 32px;\n",
              "      padding: 0 0 0 0;\n",
              "      width: 32px;\n",
              "    }\n",
              "\n",
              "    .colab-df-convert:hover {\n",
              "      background-color: #E2EBFA;\n",
              "      box-shadow: 0px 1px 2px rgba(60, 64, 67, 0.3), 0px 1px 3px 1px rgba(60, 64, 67, 0.15);\n",
              "      fill: #174EA6;\n",
              "    }\n",
              "\n",
              "    [theme=dark] .colab-df-convert {\n",
              "      background-color: #3B4455;\n",
              "      fill: #D2E3FC;\n",
              "    }\n",
              "\n",
              "    [theme=dark] .colab-df-convert:hover {\n",
              "      background-color: #434B5C;\n",
              "      box-shadow: 0px 1px 3px 1px rgba(0, 0, 0, 0.15);\n",
              "      filter: drop-shadow(0px 1px 2px rgba(0, 0, 0, 0.3));\n",
              "      fill: #FFFFFF;\n",
              "    }\n",
              "  </style>\n",
              "\n",
              "      <script>\n",
              "        const buttonEl =\n",
              "          document.querySelector('#df-ee7e0e09-f22f-4bf9-96cc-d2a2fe84e75d button.colab-df-convert');\n",
              "        buttonEl.style.display =\n",
              "          google.colab.kernel.accessAllowed ? 'block' : 'none';\n",
              "\n",
              "        async function convertToInteractive(key) {\n",
              "          const element = document.querySelector('#df-ee7e0e09-f22f-4bf9-96cc-d2a2fe84e75d');\n",
              "          const dataTable =\n",
              "            await google.colab.kernel.invokeFunction('convertToInteractive',\n",
              "                                                     [key], {});\n",
              "          if (!dataTable) return;\n",
              "\n",
              "          const docLinkHtml = 'Like what you see? Visit the ' +\n",
              "            '<a target=\"_blank\" href=https://colab.research.google.com/notebooks/data_table.ipynb>data table notebook</a>'\n",
              "            + ' to learn more about interactive tables.';\n",
              "          element.innerHTML = '';\n",
              "          dataTable['output_type'] = 'display_data';\n",
              "          await google.colab.output.renderOutput(dataTable, element);\n",
              "          const docLink = document.createElement('div');\n",
              "          docLink.innerHTML = docLinkHtml;\n",
              "          element.appendChild(docLink);\n",
              "        }\n",
              "      </script>\n",
              "    </div>\n",
              "  </div>\n",
              "  "
            ],
            "text/plain": [
              "   index UserIndex  ... Age  oh_label\n",
              "0      0        X1  ...  15         0\n",
              "1      1        X2  ...  31         0\n",
              "2      2        X3  ...  43         1\n",
              "3      3     X2218  ...  44         1\n",
              "4      4        X5  ...  21         0\n",
              "\n",
              "[5 rows x 10 columns]"
            ]
          },
          "metadata": {},
          "execution_count": 16
        }
      ]
    },
    {
      "cell_type": "code",
      "metadata": {
        "colab": {
          "base_uri": "https://localhost:8080/",
          "height": 513
        },
        "id": "AnhkZg3hcsak",
        "outputId": "0f089aa3-3529-4385-cfa4-e1247fa25180"
      },
      "source": [
        "youtube_data = youtube_data.drop(['index', 'UserIndex', 'Number of Comments', 'Number of Subscribers', 'Membership Duration', 'Number of Uploads', 'Profanity in UserID', 'Age'], axis=1)\n",
        "youtube_data.head()"
      ],
      "execution_count": null,
      "outputs": [
        {
          "output_type": "execute_result",
          "data": {
            "text/html": [
              "\n",
              "  <div id=\"df-8a0fb8b0-4198-4a3d-86e4-912bff807e05\">\n",
              "    <div class=\"colab-df-container\">\n",
              "      <div>\n",
              "<style scoped>\n",
              "    .dataframe tbody tr th:only-of-type {\n",
              "        vertical-align: middle;\n",
              "    }\n",
              "\n",
              "    .dataframe tbody tr th {\n",
              "        vertical-align: top;\n",
              "    }\n",
              "\n",
              "    .dataframe thead th {\n",
              "        text-align: right;\n",
              "    }\n",
              "</style>\n",
              "<table border=\"1\" class=\"dataframe\">\n",
              "  <thead>\n",
              "    <tr style=\"text-align: right;\">\n",
              "      <th></th>\n",
              "      <th>Text</th>\n",
              "      <th>oh_label</th>\n",
              "    </tr>\n",
              "  </thead>\n",
              "  <tbody>\n",
              "    <tr>\n",
              "      <th>0</th>\n",
              "      <td>Does N.e.bodyelse Hear her Crazy ass Screamin ...</td>\n",
              "      <td>0</td>\n",
              "    </tr>\n",
              "    <tr>\n",
              "      <th>1</th>\n",
              "      <td>There are so many things that are incorrect wi...</td>\n",
              "      <td>0</td>\n",
              "    </tr>\n",
              "    <tr>\n",
              "      <th>2</th>\n",
              "      <td>3:26 hahah my boyfriend showed this song to me...</td>\n",
              "      <td>1</td>\n",
              "    </tr>\n",
              "    <tr>\n",
              "      <th>3</th>\n",
              "      <td>dick beyonce fuck y a ass hole you are truely ...</td>\n",
              "      <td>1</td>\n",
              "    </tr>\n",
              "    <tr>\n",
              "      <th>4</th>\n",
              "      <td>DongHaeTaemin and Kai ;A; luhansehun and bacon...</td>\n",
              "      <td>0</td>\n",
              "    </tr>\n",
              "  </tbody>\n",
              "</table>\n",
              "</div>\n",
              "      <button class=\"colab-df-convert\" onclick=\"convertToInteractive('df-8a0fb8b0-4198-4a3d-86e4-912bff807e05')\"\n",
              "              title=\"Convert this dataframe to an interactive table.\"\n",
              "              style=\"display:none;\">\n",
              "        \n",
              "  <svg xmlns=\"http://www.w3.org/2000/svg\" height=\"24px\"viewBox=\"0 0 24 24\"\n",
              "       width=\"24px\">\n",
              "    <path d=\"M0 0h24v24H0V0z\" fill=\"none\"/>\n",
              "    <path d=\"M18.56 5.44l.94 2.06.94-2.06 2.06-.94-2.06-.94-.94-2.06-.94 2.06-2.06.94zm-11 1L8.5 8.5l.94-2.06 2.06-.94-2.06-.94L8.5 2.5l-.94 2.06-2.06.94zm10 10l.94 2.06.94-2.06 2.06-.94-2.06-.94-.94-2.06-.94 2.06-2.06.94z\"/><path d=\"M17.41 7.96l-1.37-1.37c-.4-.4-.92-.59-1.43-.59-.52 0-1.04.2-1.43.59L10.3 9.45l-7.72 7.72c-.78.78-.78 2.05 0 2.83L4 21.41c.39.39.9.59 1.41.59.51 0 1.02-.2 1.41-.59l7.78-7.78 2.81-2.81c.8-.78.8-2.07 0-2.86zM5.41 20L4 18.59l7.72-7.72 1.47 1.35L5.41 20z\"/>\n",
              "  </svg>\n",
              "      </button>\n",
              "      \n",
              "  <style>\n",
              "    .colab-df-container {\n",
              "      display:flex;\n",
              "      flex-wrap:wrap;\n",
              "      gap: 12px;\n",
              "    }\n",
              "\n",
              "    .colab-df-convert {\n",
              "      background-color: #E8F0FE;\n",
              "      border: none;\n",
              "      border-radius: 50%;\n",
              "      cursor: pointer;\n",
              "      display: none;\n",
              "      fill: #1967D2;\n",
              "      height: 32px;\n",
              "      padding: 0 0 0 0;\n",
              "      width: 32px;\n",
              "    }\n",
              "\n",
              "    .colab-df-convert:hover {\n",
              "      background-color: #E2EBFA;\n",
              "      box-shadow: 0px 1px 2px rgba(60, 64, 67, 0.3), 0px 1px 3px 1px rgba(60, 64, 67, 0.15);\n",
              "      fill: #174EA6;\n",
              "    }\n",
              "\n",
              "    [theme=dark] .colab-df-convert {\n",
              "      background-color: #3B4455;\n",
              "      fill: #D2E3FC;\n",
              "    }\n",
              "\n",
              "    [theme=dark] .colab-df-convert:hover {\n",
              "      background-color: #434B5C;\n",
              "      box-shadow: 0px 1px 3px 1px rgba(0, 0, 0, 0.15);\n",
              "      filter: drop-shadow(0px 1px 2px rgba(0, 0, 0, 0.3));\n",
              "      fill: #FFFFFF;\n",
              "    }\n",
              "  </style>\n",
              "\n",
              "      <script>\n",
              "        const buttonEl =\n",
              "          document.querySelector('#df-8a0fb8b0-4198-4a3d-86e4-912bff807e05 button.colab-df-convert');\n",
              "        buttonEl.style.display =\n",
              "          google.colab.kernel.accessAllowed ? 'block' : 'none';\n",
              "\n",
              "        async function convertToInteractive(key) {\n",
              "          const element = document.querySelector('#df-8a0fb8b0-4198-4a3d-86e4-912bff807e05');\n",
              "          const dataTable =\n",
              "            await google.colab.kernel.invokeFunction('convertToInteractive',\n",
              "                                                     [key], {});\n",
              "          if (!dataTable) return;\n",
              "\n",
              "          const docLinkHtml = 'Like what you see? Visit the ' +\n",
              "            '<a target=\"_blank\" href=https://colab.research.google.com/notebooks/data_table.ipynb>data table notebook</a>'\n",
              "            + ' to learn more about interactive tables.';\n",
              "          element.innerHTML = '';\n",
              "          dataTable['output_type'] = 'display_data';\n",
              "          await google.colab.output.renderOutput(dataTable, element);\n",
              "          const docLink = document.createElement('div');\n",
              "          docLink.innerHTML = docLinkHtml;\n",
              "          element.appendChild(docLink);\n",
              "        }\n",
              "      </script>\n",
              "    </div>\n",
              "  </div>\n",
              "  "
            ],
            "text/plain": [
              "                                                Text  oh_label\n",
              "0  Does N.e.bodyelse Hear her Crazy ass Screamin ...         0\n",
              "1  There are so many things that are incorrect wi...         0\n",
              "2  3:26 hahah my boyfriend showed this song to me...         1\n",
              "3  dick beyonce fuck y a ass hole you are truely ...         1\n",
              "4  DongHaeTaemin and Kai ;A; luhansehun and bacon...         0"
            ]
          },
          "metadata": {},
          "execution_count": 17
        }
      ]
    },
    {
      "cell_type": "markdown",
      "metadata": {
        "id": "0GUFn0bXcNnY"
      },
      "source": [
        "#### Twitter Dataset 2"
      ]
    },
    {
      "cell_type": "code",
      "metadata": {
        "id": "mkk1ADirUicV",
        "colab": {
          "base_uri": "https://localhost:8080/",
          "height": 496
        },
        "outputId": "fb044af0-8a50-4751-b78f-9cf5bc14263b"
      },
      "source": [
        "twitter_data2 = pd.read_csv(dataset_path + 'twitter_2.csv')\n",
        "twitter_data2.rename(columns={'label': 'oh_label', 'tweet': 'Text'}, inplace = True)\n",
        "twitter_data2 = twitter_data2.drop(['id'], axis = 1)\n",
        "twitter_data2.head()"
      ],
      "execution_count": null,
      "outputs": [
        {
          "output_type": "execute_result",
          "data": {
            "text/html": [
              "\n",
              "  <div id=\"df-3a35c99c-6b0d-4644-9177-38dbc0b6cfb5\">\n",
              "    <div class=\"colab-df-container\">\n",
              "      <div>\n",
              "<style scoped>\n",
              "    .dataframe tbody tr th:only-of-type {\n",
              "        vertical-align: middle;\n",
              "    }\n",
              "\n",
              "    .dataframe tbody tr th {\n",
              "        vertical-align: top;\n",
              "    }\n",
              "\n",
              "    .dataframe thead th {\n",
              "        text-align: right;\n",
              "    }\n",
              "</style>\n",
              "<table border=\"1\" class=\"dataframe\">\n",
              "  <thead>\n",
              "    <tr style=\"text-align: right;\">\n",
              "      <th></th>\n",
              "      <th>oh_label</th>\n",
              "      <th>Text</th>\n",
              "    </tr>\n",
              "  </thead>\n",
              "  <tbody>\n",
              "    <tr>\n",
              "      <th>0</th>\n",
              "      <td>0</td>\n",
              "      <td>@user when a father is dysfunctional and is so...</td>\n",
              "    </tr>\n",
              "    <tr>\n",
              "      <th>1</th>\n",
              "      <td>0</td>\n",
              "      <td>@user @user thanks for #lyft credit i can't us...</td>\n",
              "    </tr>\n",
              "    <tr>\n",
              "      <th>2</th>\n",
              "      <td>0</td>\n",
              "      <td>bihday your majesty</td>\n",
              "    </tr>\n",
              "    <tr>\n",
              "      <th>3</th>\n",
              "      <td>0</td>\n",
              "      <td>#model   i love u take with u all the time in ...</td>\n",
              "    </tr>\n",
              "    <tr>\n",
              "      <th>4</th>\n",
              "      <td>0</td>\n",
              "      <td>factsguide: society now    #motivation</td>\n",
              "    </tr>\n",
              "  </tbody>\n",
              "</table>\n",
              "</div>\n",
              "      <button class=\"colab-df-convert\" onclick=\"convertToInteractive('df-3a35c99c-6b0d-4644-9177-38dbc0b6cfb5')\"\n",
              "              title=\"Convert this dataframe to an interactive table.\"\n",
              "              style=\"display:none;\">\n",
              "        \n",
              "  <svg xmlns=\"http://www.w3.org/2000/svg\" height=\"24px\"viewBox=\"0 0 24 24\"\n",
              "       width=\"24px\">\n",
              "    <path d=\"M0 0h24v24H0V0z\" fill=\"none\"/>\n",
              "    <path d=\"M18.56 5.44l.94 2.06.94-2.06 2.06-.94-2.06-.94-.94-2.06-.94 2.06-2.06.94zm-11 1L8.5 8.5l.94-2.06 2.06-.94-2.06-.94L8.5 2.5l-.94 2.06-2.06.94zm10 10l.94 2.06.94-2.06 2.06-.94-2.06-.94-.94-2.06-.94 2.06-2.06.94z\"/><path d=\"M17.41 7.96l-1.37-1.37c-.4-.4-.92-.59-1.43-.59-.52 0-1.04.2-1.43.59L10.3 9.45l-7.72 7.72c-.78.78-.78 2.05 0 2.83L4 21.41c.39.39.9.59 1.41.59.51 0 1.02-.2 1.41-.59l7.78-7.78 2.81-2.81c.8-.78.8-2.07 0-2.86zM5.41 20L4 18.59l7.72-7.72 1.47 1.35L5.41 20z\"/>\n",
              "  </svg>\n",
              "      </button>\n",
              "      \n",
              "  <style>\n",
              "    .colab-df-container {\n",
              "      display:flex;\n",
              "      flex-wrap:wrap;\n",
              "      gap: 12px;\n",
              "    }\n",
              "\n",
              "    .colab-df-convert {\n",
              "      background-color: #E8F0FE;\n",
              "      border: none;\n",
              "      border-radius: 50%;\n",
              "      cursor: pointer;\n",
              "      display: none;\n",
              "      fill: #1967D2;\n",
              "      height: 32px;\n",
              "      padding: 0 0 0 0;\n",
              "      width: 32px;\n",
              "    }\n",
              "\n",
              "    .colab-df-convert:hover {\n",
              "      background-color: #E2EBFA;\n",
              "      box-shadow: 0px 1px 2px rgba(60, 64, 67, 0.3), 0px 1px 3px 1px rgba(60, 64, 67, 0.15);\n",
              "      fill: #174EA6;\n",
              "    }\n",
              "\n",
              "    [theme=dark] .colab-df-convert {\n",
              "      background-color: #3B4455;\n",
              "      fill: #D2E3FC;\n",
              "    }\n",
              "\n",
              "    [theme=dark] .colab-df-convert:hover {\n",
              "      background-color: #434B5C;\n",
              "      box-shadow: 0px 1px 3px 1px rgba(0, 0, 0, 0.15);\n",
              "      filter: drop-shadow(0px 1px 2px rgba(0, 0, 0, 0.3));\n",
              "      fill: #FFFFFF;\n",
              "    }\n",
              "  </style>\n",
              "\n",
              "      <script>\n",
              "        const buttonEl =\n",
              "          document.querySelector('#df-3a35c99c-6b0d-4644-9177-38dbc0b6cfb5 button.colab-df-convert');\n",
              "        buttonEl.style.display =\n",
              "          google.colab.kernel.accessAllowed ? 'block' : 'none';\n",
              "\n",
              "        async function convertToInteractive(key) {\n",
              "          const element = document.querySelector('#df-3a35c99c-6b0d-4644-9177-38dbc0b6cfb5');\n",
              "          const dataTable =\n",
              "            await google.colab.kernel.invokeFunction('convertToInteractive',\n",
              "                                                     [key], {});\n",
              "          if (!dataTable) return;\n",
              "\n",
              "          const docLinkHtml = 'Like what you see? Visit the ' +\n",
              "            '<a target=\"_blank\" href=https://colab.research.google.com/notebooks/data_table.ipynb>data table notebook</a>'\n",
              "            + ' to learn more about interactive tables.';\n",
              "          element.innerHTML = '';\n",
              "          dataTable['output_type'] = 'display_data';\n",
              "          await google.colab.output.renderOutput(dataTable, element);\n",
              "          const docLink = document.createElement('div');\n",
              "          docLink.innerHTML = docLinkHtml;\n",
              "          element.appendChild(docLink);\n",
              "        }\n",
              "      </script>\n",
              "    </div>\n",
              "  </div>\n",
              "  "
            ],
            "text/plain": [
              "   oh_label                                               Text\n",
              "0         0  @user when a father is dysfunctional and is so...\n",
              "1         0  @user @user thanks for #lyft credit i can't us...\n",
              "2         0                                bihday your majesty\n",
              "3         0  #model   i love u take with u all the time in ...\n",
              "4         0             factsguide: society now    #motivation"
            ]
          },
          "metadata": {},
          "execution_count": 18
        }
      ]
    },
    {
      "cell_type": "markdown",
      "metadata": {
        "id": "ojJ9Ks6WDKgn"
      },
      "source": [
        "#### Merging all Data"
      ]
    },
    {
      "cell_type": "code",
      "metadata": {
        "id": "N00K_gDWZUAl"
      },
      "source": [
        "final_data = pd.concat([kaggle_data, twitter_data, aggression_data, attack_data, toxicity_data, youtube_data, twitter_data2])"
      ],
      "execution_count": null,
      "outputs": []
    },
    {
      "cell_type": "code",
      "metadata": {
        "id": "JfScUB9QDXDl",
        "colab": {
          "base_uri": "https://localhost:8080/"
        },
        "outputId": "94a7e2b3-c5d9-45c5-9d97-afea933aaa88"
      },
      "source": [
        "print(\"Data Shape : \",final_data.shape)\n",
        "print(\"Total Data : \",final_data.shape[0])"
      ],
      "execution_count": null,
      "outputs": [
        {
          "output_type": "stream",
          "name": "stdout",
          "text": [
            "Data Shape :  (452917, 2)\n",
            "Total Data :  452917\n"
          ]
        }
      ]
    },
    {
      "cell_type": "code",
      "metadata": {
        "id": "jSW2H-ZNDXol",
        "colab": {
          "base_uri": "https://localhost:8080/",
          "height": 583
        },
        "outputId": "bc331014-3c7b-43e6-a9a9-e7be80d91908"
      },
      "source": [
        "final_data.head()"
      ],
      "execution_count": null,
      "outputs": [
        {
          "output_type": "execute_result",
          "data": {
            "text/html": [
              "\n",
              "  <div id=\"df-3dc7b6e4-5e46-4bb7-bcf2-9103aae86b25\">\n",
              "    <div class=\"colab-df-container\">\n",
              "      <div>\n",
              "<style scoped>\n",
              "    .dataframe tbody tr th:only-of-type {\n",
              "        vertical-align: middle;\n",
              "    }\n",
              "\n",
              "    .dataframe tbody tr th {\n",
              "        vertical-align: top;\n",
              "    }\n",
              "\n",
              "    .dataframe thead th {\n",
              "        text-align: right;\n",
              "    }\n",
              "</style>\n",
              "<table border=\"1\" class=\"dataframe\">\n",
              "  <thead>\n",
              "    <tr style=\"text-align: right;\">\n",
              "      <th></th>\n",
              "      <th>oh_label</th>\n",
              "      <th>Text</th>\n",
              "    </tr>\n",
              "  </thead>\n",
              "  <tbody>\n",
              "    <tr>\n",
              "      <th>0</th>\n",
              "      <td>1.0</td>\n",
              "      <td>\"You fuck your dad.\"</td>\n",
              "    </tr>\n",
              "    <tr>\n",
              "      <th>1</th>\n",
              "      <td>0.0</td>\n",
              "      <td>\"i really don't understand your point.\\xa0 It ...</td>\n",
              "    </tr>\n",
              "    <tr>\n",
              "      <th>2</th>\n",
              "      <td>0.0</td>\n",
              "      <td>\"A\\\\xc2\\\\xa0majority of Canadians can and has ...</td>\n",
              "    </tr>\n",
              "    <tr>\n",
              "      <th>3</th>\n",
              "      <td>0.0</td>\n",
              "      <td>\"listen if you dont wanna get married to a man...</td>\n",
              "    </tr>\n",
              "    <tr>\n",
              "      <th>4</th>\n",
              "      <td>0.0</td>\n",
              "      <td>\"C\\xe1c b\\u1ea1n xu\\u1ed1ng \\u0111\\u01b0\\u1edd...</td>\n",
              "    </tr>\n",
              "  </tbody>\n",
              "</table>\n",
              "</div>\n",
              "      <button class=\"colab-df-convert\" onclick=\"convertToInteractive('df-3dc7b6e4-5e46-4bb7-bcf2-9103aae86b25')\"\n",
              "              title=\"Convert this dataframe to an interactive table.\"\n",
              "              style=\"display:none;\">\n",
              "        \n",
              "  <svg xmlns=\"http://www.w3.org/2000/svg\" height=\"24px\"viewBox=\"0 0 24 24\"\n",
              "       width=\"24px\">\n",
              "    <path d=\"M0 0h24v24H0V0z\" fill=\"none\"/>\n",
              "    <path d=\"M18.56 5.44l.94 2.06.94-2.06 2.06-.94-2.06-.94-.94-2.06-.94 2.06-2.06.94zm-11 1L8.5 8.5l.94-2.06 2.06-.94-2.06-.94L8.5 2.5l-.94 2.06-2.06.94zm10 10l.94 2.06.94-2.06 2.06-.94-2.06-.94-.94-2.06-.94 2.06-2.06.94z\"/><path d=\"M17.41 7.96l-1.37-1.37c-.4-.4-.92-.59-1.43-.59-.52 0-1.04.2-1.43.59L10.3 9.45l-7.72 7.72c-.78.78-.78 2.05 0 2.83L4 21.41c.39.39.9.59 1.41.59.51 0 1.02-.2 1.41-.59l7.78-7.78 2.81-2.81c.8-.78.8-2.07 0-2.86zM5.41 20L4 18.59l7.72-7.72 1.47 1.35L5.41 20z\"/>\n",
              "  </svg>\n",
              "      </button>\n",
              "      \n",
              "  <style>\n",
              "    .colab-df-container {\n",
              "      display:flex;\n",
              "      flex-wrap:wrap;\n",
              "      gap: 12px;\n",
              "    }\n",
              "\n",
              "    .colab-df-convert {\n",
              "      background-color: #E8F0FE;\n",
              "      border: none;\n",
              "      border-radius: 50%;\n",
              "      cursor: pointer;\n",
              "      display: none;\n",
              "      fill: #1967D2;\n",
              "      height: 32px;\n",
              "      padding: 0 0 0 0;\n",
              "      width: 32px;\n",
              "    }\n",
              "\n",
              "    .colab-df-convert:hover {\n",
              "      background-color: #E2EBFA;\n",
              "      box-shadow: 0px 1px 2px rgba(60, 64, 67, 0.3), 0px 1px 3px 1px rgba(60, 64, 67, 0.15);\n",
              "      fill: #174EA6;\n",
              "    }\n",
              "\n",
              "    [theme=dark] .colab-df-convert {\n",
              "      background-color: #3B4455;\n",
              "      fill: #D2E3FC;\n",
              "    }\n",
              "\n",
              "    [theme=dark] .colab-df-convert:hover {\n",
              "      background-color: #434B5C;\n",
              "      box-shadow: 0px 1px 3px 1px rgba(0, 0, 0, 0.15);\n",
              "      filter: drop-shadow(0px 1px 2px rgba(0, 0, 0, 0.3));\n",
              "      fill: #FFFFFF;\n",
              "    }\n",
              "  </style>\n",
              "\n",
              "      <script>\n",
              "        const buttonEl =\n",
              "          document.querySelector('#df-3dc7b6e4-5e46-4bb7-bcf2-9103aae86b25 button.colab-df-convert');\n",
              "        buttonEl.style.display =\n",
              "          google.colab.kernel.accessAllowed ? 'block' : 'none';\n",
              "\n",
              "        async function convertToInteractive(key) {\n",
              "          const element = document.querySelector('#df-3dc7b6e4-5e46-4bb7-bcf2-9103aae86b25');\n",
              "          const dataTable =\n",
              "            await google.colab.kernel.invokeFunction('convertToInteractive',\n",
              "                                                     [key], {});\n",
              "          if (!dataTable) return;\n",
              "\n",
              "          const docLinkHtml = 'Like what you see? Visit the ' +\n",
              "            '<a target=\"_blank\" href=https://colab.research.google.com/notebooks/data_table.ipynb>data table notebook</a>'\n",
              "            + ' to learn more about interactive tables.';\n",
              "          element.innerHTML = '';\n",
              "          dataTable['output_type'] = 'display_data';\n",
              "          await google.colab.output.renderOutput(dataTable, element);\n",
              "          const docLink = document.createElement('div');\n",
              "          docLink.innerHTML = docLinkHtml;\n",
              "          element.appendChild(docLink);\n",
              "        }\n",
              "      </script>\n",
              "    </div>\n",
              "  </div>\n",
              "  "
            ],
            "text/plain": [
              "   oh_label                                               Text\n",
              "0       1.0                               \"You fuck your dad.\"\n",
              "1       0.0  \"i really don't understand your point.\\xa0 It ...\n",
              "2       0.0  \"A\\\\xc2\\\\xa0majority of Canadians can and has ...\n",
              "3       0.0  \"listen if you dont wanna get married to a man...\n",
              "4       0.0  \"C\\xe1c b\\u1ea1n xu\\u1ed1ng \\u0111\\u01b0\\u1edd..."
            ]
          },
          "metadata": {},
          "execution_count": 21
        }
      ]
    },
    {
      "cell_type": "markdown",
      "metadata": {
        "id": "OoFWmtZeIQKQ"
      },
      "source": [
        "## Exploratory Data Analysis"
      ]
    },
    {
      "cell_type": "code",
      "metadata": {
        "colab": {
          "base_uri": "https://localhost:8080/"
        },
        "id": "LMTxf745IPaq",
        "outputId": "36cdb9e1-0fc8-4959-e03e-9567a11ad8c4"
      },
      "source": [
        "final_data.isna().sum()"
      ],
      "execution_count": null,
      "outputs": [
        {
          "output_type": "execute_result",
          "data": {
            "text/plain": [
              "oh_label    3\n",
              "Text        1\n",
              "dtype: int64"
            ]
          },
          "metadata": {},
          "execution_count": 22
        }
      ]
    },
    {
      "cell_type": "code",
      "metadata": {
        "colab": {
          "base_uri": "https://localhost:8080/"
        },
        "id": "DyACPaoAIi-o",
        "outputId": "1525712f-296f-4f56-9327-37ac5cc13fa7"
      },
      "source": [
        "master_data = final_data.dropna()\n",
        "master_data.isna().sum()"
      ],
      "execution_count": null,
      "outputs": [
        {
          "output_type": "execute_result",
          "data": {
            "text/plain": [
              "oh_label    0\n",
              "Text        0\n",
              "dtype: int64"
            ]
          },
          "metadata": {},
          "execution_count": 23
        }
      ]
    },
    {
      "cell_type": "code",
      "metadata": {
        "colab": {
          "base_uri": "https://localhost:8080/",
          "height": 352
        },
        "id": "tEQI-YfaItc5",
        "outputId": "98eba2f3-0f6a-48c1-c948-f05ba9a3d5fc"
      },
      "source": [
        "cyberbully = master_data[master_data.oh_label==1.0].count()[0]\n",
        "nocyberbully = master_data[master_data.oh_label==0.0].count()[0]\n",
        "value = [nocyberbully, cyberbully]\n",
        "labels = [ \"no-cyberbully\", \"cyberbully\"]\n",
        "plt.figure(figsize=(6,4))\n",
        "plt.bar(np.arange(len(value)),value);\n",
        "plt.title(\"Comparison between number of cyberbully and nocyberbully text detected\")\n",
        "plt.xlabel(\"Labels\")\n",
        "plt.ylabel(\"Count\")\n",
        "plt.show()\n",
        "print(value)\n",
        "print(\"Count of Cyberbully data = \",cyberbully)\n",
        "print(\"Count of No Cyberbully data = \",nocyberbully)"
      ],
      "execution_count": null,
      "outputs": [
        {
          "output_type": "display_data",
          "data": {
            "image/png": "[encoded data removed]",
            "text/plain": [
              "<Figure size 432x288 with 1 Axes>"
            ]
          },
          "metadata": {
            "needs_background": "light"
          }
        },
        {
          "output_type": "stream",
          "name": "stdout",
          "text": [
            "[397941, 54973]\n",
            "Count of Cyberbully data =  54973\n",
            "Count of No Cyberbully data =  397941\n"
          ]
        }
      ]
    },
    {
      "cell_type": "markdown",
      "metadata": {
        "id": "uWSbeOGFI_PT"
      },
      "source": [
        "Find and Remove Duplicate Text"
      ]
    },
    {
      "cell_type": "code",
      "metadata": {
        "colab": {
          "base_uri": "https://localhost:8080/"
        },
        "id": "nvPAzf8TI8ZQ",
        "outputId": "85e1a625-90b7-44a5-ed0e-c70256e32fb4"
      },
      "source": [
        "n = len(pd.unique(master_data['Text']))\n",
        "print(\"Unique -\" , n)\n",
        "print(\"Total -\", master_data.shape[0])\n",
        "print(\"Duplicates\", master_data.shape[0] - n)\n",
        "print(master_data.shape)"
      ],
      "execution_count": null,
      "outputs": [
        {
          "output_type": "stream",
          "name": "stdout",
          "text": [
            "Unique - 255281\n",
            "Total - 452914\n",
            "Duplicates 197633\n",
            "(452914, 2)\n"
          ]
        }
      ]
    },
    {
      "cell_type": "code",
      "metadata": {
        "id": "OrummmvtJFhZ"
      },
      "source": [
        "nondup_data = master_data.drop_duplicates(subset='Text', keep=\"first\")\n",
        "nondup_data = nondup_data[~(nondup_data['Text'].duplicated(keep=False))]"
      ],
      "execution_count": null,
      "outputs": []
    },
    {
      "cell_type": "code",
      "metadata": {
        "colab": {
          "base_uri": "https://localhost:8080/",
          "height": 225
        },
        "id": "PEd0iUvpJYz4",
        "outputId": "0b8120b7-2f06-4e03-827a-38a725c54515"
      },
      "source": [
        "print(nondup_data.shape)\n",
        "nondup_data.head()"
      ],
      "execution_count": null,
      "outputs": [
        {
          "output_type": "stream",
          "name": "stdout",
          "text": [
            "(255281, 2)\n"
          ]
        },
        {
          "output_type": "execute_result",
          "data": {
            "text/html": [
              "\n",
              "  <div id=\"df-a3e398aa-6263-4b9b-9f9e-06f051ce49ad\">\n",
              "    <div class=\"colab-df-container\">\n",
              "      <div>\n",
              "<style scoped>\n",
              "    .dataframe tbody tr th:only-of-type {\n",
              "        vertical-align: middle;\n",
              "    }\n",
              "\n",
              "    .dataframe tbody tr th {\n",
              "        vertical-align: top;\n",
              "    }\n",
              "\n",
              "    .dataframe thead th {\n",
              "        text-align: right;\n",
              "    }\n",
              "</style>\n",
              "<table border=\"1\" class=\"dataframe\">\n",
              "  <thead>\n",
              "    <tr style=\"text-align: right;\">\n",
              "      <th></th>\n",
              "      <th>oh_label</th>\n",
              "      <th>Text</th>\n",
              "    </tr>\n",
              "  </thead>\n",
              "  <tbody>\n",
              "    <tr>\n",
              "      <th>0</th>\n",
              "      <td>1.0</td>\n",
              "      <td>\"You fuck your dad.\"</td>\n",
              "    </tr>\n",
              "    <tr>\n",
              "      <th>1</th>\n",
              "      <td>0.0</td>\n",
              "      <td>\"i really don't understand your point.\\xa0 It ...</td>\n",
              "    </tr>\n",
              "    <tr>\n",
              "      <th>2</th>\n",
              "      <td>0.0</td>\n",
              "      <td>\"A\\\\xc2\\\\xa0majority of Canadians can and has ...</td>\n",
              "    </tr>\n",
              "    <tr>\n",
              "      <th>3</th>\n",
              "      <td>0.0</td>\n",
              "      <td>\"listen if you dont wanna get married to a man...</td>\n",
              "    </tr>\n",
              "    <tr>\n",
              "      <th>4</th>\n",
              "      <td>0.0</td>\n",
              "      <td>\"C\\xe1c b\\u1ea1n xu\\u1ed1ng \\u0111\\u01b0\\u1edd...</td>\n",
              "    </tr>\n",
              "  </tbody>\n",
              "</table>\n",
              "</div>\n",
              "      <button class=\"colab-df-convert\" onclick=\"convertToInteractive('df-a3e398aa-6263-4b9b-9f9e-06f051ce49ad')\"\n",
              "              title=\"Convert this dataframe to an interactive table.\"\n",
              "              style=\"display:none;\">\n",
              "        \n",
              "  <svg xmlns=\"http://www.w3.org/2000/svg\" height=\"24px\"viewBox=\"0 0 24 24\"\n",
              "       width=\"24px\">\n",
              "    <path d=\"M0 0h24v24H0V0z\" fill=\"none\"/>\n",
              "    <path d=\"M18.56 5.44l.94 2.06.94-2.06 2.06-.94-2.06-.94-.94-2.06-.94 2.06-2.06.94zm-11 1L8.5 8.5l.94-2.06 2.06-.94-2.06-.94L8.5 2.5l-.94 2.06-2.06.94zm10 10l.94 2.06.94-2.06 2.06-.94-2.06-.94-.94-2.06-.94 2.06-2.06.94z\"/><path d=\"M17.41 7.96l-1.37-1.37c-.4-.4-.92-.59-1.43-.59-.52 0-1.04.2-1.43.59L10.3 9.45l-7.72 7.72c-.78.78-.78 2.05 0 2.83L4 21.41c.39.39.9.59 1.41.59.51 0 1.02-.2 1.41-.59l7.78-7.78 2.81-2.81c.8-.78.8-2.07 0-2.86zM5.41 20L4 18.59l7.72-7.72 1.47 1.35L5.41 20z\"/>\n",
              "  </svg>\n",
              "      </button>\n",
              "      \n",
              "  <style>\n",
              "    .colab-df-container {\n",
              "      display:flex;\n",
              "      flex-wrap:wrap;\n",
              "      gap: 12px;\n",
              "    }\n",
              "\n",
              "    .colab-df-convert {\n",
              "      background-color: #E8F0FE;\n",
              "      border: none;\n",
              "      border-radius: 50%;\n",
              "      cursor: pointer;\n",
              "      display: none;\n",
              "      fill: #1967D2;\n",
              "      height: 32px;\n",
              "      padding: 0 0 0 0;\n",
              "      width: 32px;\n",
              "    }\n",
              "\n",
              "    .colab-df-convert:hover {\n",
              "      background-color: #E2EBFA;\n",
              "      box-shadow: 0px 1px 2px rgba(60, 64, 67, 0.3), 0px 1px 3px 1px rgba(60, 64, 67, 0.15);\n",
              "      fill: #174EA6;\n",
              "    }\n",
              "\n",
              "    [theme=dark] .colab-df-convert {\n",
              "      background-color: #3B4455;\n",
              "      fill: #D2E3FC;\n",
              "    }\n",
              "\n",
              "    [theme=dark] .colab-df-convert:hover {\n",
              "      background-color: #434B5C;\n",
              "      box-shadow: 0px 1px 3px 1px rgba(0, 0, 0, 0.15);\n",
              "      filter: drop-shadow(0px 1px 2px rgba(0, 0, 0, 0.3));\n",
              "      fill: #FFFFFF;\n",
              "    }\n",
              "  </style>\n",
              "\n",
              "      <script>\n",
              "        const buttonEl =\n",
              "          document.querySelector('#df-a3e398aa-6263-4b9b-9f9e-06f051ce49ad button.colab-df-convert');\n",
              "        buttonEl.style.display =\n",
              "          google.colab.kernel.accessAllowed ? 'block' : 'none';\n",
              "\n",
              "        async function convertToInteractive(key) {\n",
              "          const element = document.querySelector('#df-a3e398aa-6263-4b9b-9f9e-06f051ce49ad');\n",
              "          const dataTable =\n",
              "            await google.colab.kernel.invokeFunction('convertToInteractive',\n",
              "                                                     [key], {});\n",
              "          if (!dataTable) return;\n",
              "\n",
              "          const docLinkHtml = 'Like what you see? Visit the ' +\n",
              "            '<a target=\"_blank\" href=https://colab.research.google.com/notebooks/data_table.ipynb>data table notebook</a>'\n",
              "            + ' to learn more about interactive tables.';\n",
              "          element.innerHTML = '';\n",
              "          dataTable['output_type'] = 'display_data';\n",
              "          await google.colab.output.renderOutput(dataTable, element);\n",
              "          const docLink = document.createElement('div');\n",
              "          docLink.innerHTML = docLinkHtml;\n",
              "          element.appendChild(docLink);\n",
              "        }\n",
              "      </script>\n",
              "    </div>\n",
              "  </div>\n",
              "  "
            ],
            "text/plain": [
              "   oh_label                                               Text\n",
              "0       1.0                               \"You fuck your dad.\"\n",
              "1       0.0  \"i really don't understand your point.\\xa0 It ...\n",
              "2       0.0  \"A\\\\xc2\\\\xa0majority of Canadians can and has ...\n",
              "3       0.0  \"listen if you dont wanna get married to a man...\n",
              "4       0.0  \"C\\xe1c b\\u1ea1n xu\\u1ed1ng \\u0111\\u01b0\\u1edd..."
            ]
          },
          "metadata": {},
          "execution_count": 27
        }
      ]
    },
    {
      "cell_type": "markdown",
      "metadata": {
        "id": "g6xK6kr_JzId"
      },
      "source": [
        "## Contraction Mapping"
      ]
    },
    {
      "cell_type": "code",
      "metadata": {
        "id": "Y3cTlhXtJtXL"
      },
      "source": [
        "from sklearn.model_selection import train_test_split\n",
        "from sklearn import metrics\n",
        "import re"
      ],
      "execution_count": null,
      "outputs": []
    },
    {
      "cell_type": "code",
      "metadata": {
        "id": "cMdk6v0JLGsM"
      },
      "source": [
        "CONTRACTION_MAP = {\n",
        "\"ain't\": \"is not\",\n",
        "\"aren't\": \"are not\",\n",
        "\"can't\": \"cannot\",\n",
        "\"can't've\": \"cannot have\",\n",
        "\"'cause\": \"because\",\n",
        "\"could've\": \"could have\",\n",
        "\"couldn't\": \"could not\",\n",
        "\"couldn't've\": \"could not have\",\n",
        "\"didn't\": \"did not\",\n",
        "\"doesn't\": \"does not\",\n",
        "\"don't\": \"do not\",\n",
        "\"hadn't\": \"had not\",\n",
        "\"hadn't've\": \"had not have\",\n",
        "\"hasn't\": \"has not\",\n",
        "\"haven't\": \"have not\",\n",
        "\"he'd\": \"he would\",\n",
        "\"he'd've\": \"he would have\",\n",
        "\"he'll\": \"he will\",\n",
        "\"he'll've\": \"he he will have\",\n",
        "\"he's\": \"he is\",\n",
        "\"how'd\": \"how did\",\n",
        "\"how'd'y\": \"how do you\",\n",
        "\"how'll\": \"how will\",\n",
        "\"how's\": \"how is\",\n",
        "\"I'd\": \"I would\",\n",
        "\"I'd've\": \"I would have\",\n",
        "\"I'll\": \"I will\",\n",
        "\"I'll've\": \"I will have\",\n",
        "\"I'm\": \"I am\",\n",
        "\"I've\": \"I have\",\n",
        "\"i'd\": \"i would\",\n",
        "\"i'd've\": \"i would have\",\n",
        "\"i'll\": \"i will\",\n",
        "\"i'll've\": \"i will have\",\n",
        "\"i'm\": \"i am\",\n",
        "\"i've\": \"i have\",\n",
        "\"isn't\": \"is not\",\n",
        "\"it'd\": \"it would\",\n",
        "\"it'd've\": \"it would have\",\n",
        "\"it'll\": \"it will\",\n",
        "\"it'll've\": \"it will have\",\n",
        "\"it's\": \"it is\",\n",
        "\"let's\": \"let us\",\n",
        "\"ma'am\": \"madam\",\n",
        "\"mayn't\": \"may not\",\n",
        "\"might've\": \"might have\",\n",
        "\"mightn't\": \"might not\",\n",
        "\"mightn't've\": \"might not have\",\n",
        "\"must've\": \"must have\",\n",
        "\"mustn't\": \"must not\",\n",
        "\"mustn't've\": \"must not have\",\n",
        "\"needn't\": \"need not\",\n",
        "\"needn't've\": \"need not have\",\n",
        "\"o'clock\": \"of the clock\",\n",
        "\"oughtn't\": \"ought not\",\n",
        "\"oughtn't've\": \"ought not have\",\n",
        "\"shan't\": \"shall not\",\n",
        "\"sha'n't\": \"shall not\",\n",
        "\"shan't've\": \"shall not have\",\n",
        "\"she'd\": \"she would\",\n",
        "\"she'd've\": \"she would have\",\n",
        "\"she'll\": \"she will\",\n",
        "\"she'll've\": \"she will have\",\n",
        "\"she's\": \"she is\",\n",
        "\"should've\": \"should have\",\n",
        "\"shouldn't\": \"should not\",\n",
        "\"shouldn't've\": \"should not have\",\n",
        "\"so've\": \"so have\",\n",
        "\"so's\": \"so as\",\n",
        "\"that'd\": \"that would\",\n",
        "\"that'd've\": \"that would have\",\n",
        "\"that's\": \"that is\",\n",
        "\"there'd\": \"there would\",\n",
        "\"there'd've\": \"there would have\",\n",
        "\"there's\": \"there is\",\n",
        "\"they'd\": \"they would\",\n",
        "\"they'd've\": \"they would have\",\n",
        "\"they'll\": \"they will\",\n",
        "\"they'll've\": \"they will have\",\n",
        "\"they're\": \"they are\",\n",
        "\"they've\": \"they have\",\n",
        "\"to've\": \"to have\",\n",
        "\"wasn't\": \"was not\",\n",
        "\"we'd\": \"we would\",\n",
        "\"we'd've\": \"we would have\",\n",
        "\"we'll\": \"we will\",\n",
        "\"we'll've\": \"we will have\",\n",
        "\"we're\": \"we are\",\n",
        "\"we've\": \"we have\",\n",
        "\"weren't\": \"were not\",\n",
        "\"what'll\": \"what will\",\n",
        "\"what'll've\": \"what will have\",\n",
        "\"what're\": \"what are\",\n",
        "\"what's\": \"what is\",\n",
        "\"what've\": \"what have\",\n",
        "\"when's\": \"when is\",\n",
        "\"when've\": \"when have\",\n",
        "\"where'd\": \"where did\",\n",
        "\"where's\": \"where is\",\n",
        "\"where've\": \"where have\",\n",
        "\"who'll\": \"who will\",\n",
        "\"who'll've\": \"who will have\",\n",
        "\"who's\": \"who is\",\n",
        "\"who've\": \"who have\",\n",
        "\"why's\": \"why is\",\n",
        "\"why've\": \"why have\",\n",
        "\"will've\": \"will have\",\n",
        "\"won't\": \"will not\",\n",
        "\"won't've\": \"will not have\",\n",
        "\"would've\": \"would have\",\n",
        "\"wouldn't\": \"would not\",\n",
        "\"wouldn't've\": \"would not have\",\n",
        "\"y'all\": \"you all\",\n",
        "\"y'all'd\": \"you all would\",\n",
        "\"y'all'd've\": \"you all would have\",\n",
        "\"y'all're\": \"you all are\",\n",
        "\"y'all've\": \"you all have\",\n",
        "\"you'd\": \"you would\",\n",
        "\"you'd've\": \"you would have\",\n",
        "\"you'll\": \"you will\",\n",
        "\"you'll've\": \"you will have\",\n",
        "\"you're\": \"you are\",\n",
        "\"you've\": \"you have\"\n",
        "}"
      ],
      "execution_count": null,
      "outputs": []
    },
    {
      "cell_type": "code",
      "metadata": {
        "id": "hXc5wONpL23h"
      },
      "source": [
        "def expand_contractions(text, contraction_mapping=CONTRACTION_MAP):\n",
        "    text = text.split() # to convert have'nt -> have not\n",
        "    for i in range(len(text)):\n",
        "        word = text[i]\n",
        "        if word in contraction_mapping:\n",
        "            text[i] = contraction_mapping[word]\n",
        "    text = \" \".join(text)\n",
        "    text = text.replace(\"'s\",'') # to convert your's -> your\n",
        "    return text"
      ],
      "execution_count": null,
      "outputs": []
    },
    {
      "cell_type": "code",
      "metadata": {
        "colab": {
          "base_uri": "https://localhost:8080/"
        },
        "id": "P2OR61ptMPPH",
        "outputId": "c73340ae-d634-4add-84c4-87ff3b78e2e8"
      },
      "source": [
        "new_list_1 = []\n",
        "for text in nondup_data['Text']:\n",
        "    new_list_1.append(re.sub(r'[^a-zA-Z0-9. ]','',expand_contractions(text)))\n",
        "new_list_1[1:5]"
      ],
      "execution_count": null,
      "outputs": [
        {
          "output_type": "execute_result",
          "data": {
            "text/plain": [
              "['i really do not understand your point.xa0 It seems that you are mixing apples and oranges.',\n",
              " 'Axc2xa0majority of Canadians can and has been wrong before now and will be again.nnUnless you are supportive of the idea that nothing is full proof or perfect so you take your chances and if we should inadvertently kill your son or daughter then them the breaks and we can always regard you as collateral damage like in wartime  and sorry butxc2xa0the cheques in the mail. ',\n",
              " 'listen if you dont wanna get married to a man or a women DONT DO IT. what would it bother you if gay people got married stay in your lane do you let them do them. And your god is so nice but quick to judg if your not like him thought you wasnt suppose to judge people.',\n",
              " 'Cxe1c bu1ea1n xuu1ed1ng u0111u01b0u1eddng biu1ec3u txecnh 2011 cxf3 xf4n hoxe0 khxf4ng  nCxe1c ngu01b0 dxe2n ngu1ed3i cuxed u0111u1ea7u chiu1ee5 nhu1ee5c cxf3 xf4n hoxe0 khxf4ng nCxe1c nxf4ng dxe2n giu1eef u0111u1ea5t u1edf Vu0103n Giang Cu1ea7n Thu01a1 cxf3 xf4n hoxe0 khxf4ng n.................nRu1ed1t cuu1ed9c u0111u01b0u1ee3c gxecxa0 thxec chxfang ta u0111xe3 biu1ebft nAi cu0169ng yxeau chuu1ed9ng hoxe0 bxecnh nhu01b0ng u0111xf4i khi hoxe0 bxecnh chu1ec9 thu1eadt su1ef1 u0111u1ebfn sau chiu1ebfn tranh mxe0 thxf4i.nKhxf4ng cxf2n con u0111u01b0u1eddng nxe0o chu1ecdn khxe1c u0111xe2u u0111u1eebng mu01a1 thxeam nu01b0xe3.']"
            ]
          },
          "metadata": {},
          "execution_count": 31
        }
      ]
    },
    {
      "cell_type": "code",
      "metadata": {
        "colab": {
          "base_uri": "https://localhost:8080/",
          "height": 206
        },
        "id": "mjEoRnyfQIfQ",
        "outputId": "8febfc5f-7f27-498b-be27-a0ac31dd532a"
      },
      "source": [
        "nondup_data['Updated_Text'] = new_list_1\n",
        "nondup_data['Updated_Text'] = nondup_data['Updated_Text'].str.lower()\n",
        "nondup_data.head()"
      ],
      "execution_count": null,
      "outputs": [
        {
          "output_type": "execute_result",
          "data": {
            "text/html": [
              "\n",
              "  <div id=\"df-7b04b304-6710-46b3-823b-c12379fd15e0\">\n",
              "    <div class=\"colab-df-container\">\n",
              "      <div>\n",
              "<style scoped>\n",
              "    .dataframe tbody tr th:only-of-type {\n",
              "        vertical-align: middle;\n",
              "    }\n",
              "\n",
              "    .dataframe tbody tr th {\n",
              "        vertical-align: top;\n",
              "    }\n",
              "\n",
              "    .dataframe thead th {\n",
              "        text-align: right;\n",
              "    }\n",
              "</style>\n",
              "<table border=\"1\" class=\"dataframe\">\n",
              "  <thead>\n",
              "    <tr style=\"text-align: right;\">\n",
              "      <th></th>\n",
              "      <th>oh_label</th>\n",
              "      <th>Text</th>\n",
              "      <th>Updated_Text</th>\n",
              "    </tr>\n",
              "  </thead>\n",
              "  <tbody>\n",
              "    <tr>\n",
              "      <th>0</th>\n",
              "      <td>1.0</td>\n",
              "      <td>\"You fuck your dad.\"</td>\n",
              "      <td>you fuck your dad.</td>\n",
              "    </tr>\n",
              "    <tr>\n",
              "      <th>1</th>\n",
              "      <td>0.0</td>\n",
              "      <td>\"i really don't understand your point.\\xa0 It ...</td>\n",
              "      <td>i really do not understand your point.xa0 it s...</td>\n",
              "    </tr>\n",
              "    <tr>\n",
              "      <th>2</th>\n",
              "      <td>0.0</td>\n",
              "      <td>\"A\\\\xc2\\\\xa0majority of Canadians can and has ...</td>\n",
              "      <td>axc2xa0majority of canadians can and has been ...</td>\n",
              "    </tr>\n",
              "    <tr>\n",
              "      <th>3</th>\n",
              "      <td>0.0</td>\n",
              "      <td>\"listen if you dont wanna get married to a man...</td>\n",
              "      <td>listen if you dont wanna get married to a man ...</td>\n",
              "    </tr>\n",
              "    <tr>\n",
              "      <th>4</th>\n",
              "      <td>0.0</td>\n",
              "      <td>\"C\\xe1c b\\u1ea1n xu\\u1ed1ng \\u0111\\u01b0\\u1edd...</td>\n",
              "      <td>cxe1c bu1ea1n xuu1ed1ng u0111u01b0u1eddng biu1...</td>\n",
              "    </tr>\n",
              "  </tbody>\n",
              "</table>\n",
              "</div>\n",
              "      <button class=\"colab-df-convert\" onclick=\"convertToInteractive('df-7b04b304-6710-46b3-823b-c12379fd15e0')\"\n",
              "              title=\"Convert this dataframe to an interactive table.\"\n",
              "              style=\"display:none;\">\n",
              "        \n",
              "  <svg xmlns=\"http://www.w3.org/2000/svg\" height=\"24px\"viewBox=\"0 0 24 24\"\n",
              "       width=\"24px\">\n",
              "    <path d=\"M0 0h24v24H0V0z\" fill=\"none\"/>\n",
              "    <path d=\"M18.56 5.44l.94 2.06.94-2.06 2.06-.94-2.06-.94-.94-2.06-.94 2.06-2.06.94zm-11 1L8.5 8.5l.94-2.06 2.06-.94-2.06-.94L8.5 2.5l-.94 2.06-2.06.94zm10 10l.94 2.06.94-2.06 2.06-.94-2.06-.94-.94-2.06-.94 2.06-2.06.94z\"/><path d=\"M17.41 7.96l-1.37-1.37c-.4-.4-.92-.59-1.43-.59-.52 0-1.04.2-1.43.59L10.3 9.45l-7.72 7.72c-.78.78-.78 2.05 0 2.83L4 21.41c.39.39.9.59 1.41.59.51 0 1.02-.2 1.41-.59l7.78-7.78 2.81-2.81c.8-.78.8-2.07 0-2.86zM5.41 20L4 18.59l7.72-7.72 1.47 1.35L5.41 20z\"/>\n",
              "  </svg>\n",
              "      </button>\n",
              "      \n",
              "  <style>\n",
              "    .colab-df-container {\n",
              "      display:flex;\n",
              "      flex-wrap:wrap;\n",
              "      gap: 12px;\n",
              "    }\n",
              "\n",
              "    .colab-df-convert {\n",
              "      background-color: #E8F0FE;\n",
              "      border: none;\n",
              "      border-radius: 50%;\n",
              "      cursor: pointer;\n",
              "      display: none;\n",
              "      fill: #1967D2;\n",
              "      height: 32px;\n",
              "      padding: 0 0 0 0;\n",
              "      width: 32px;\n",
              "    }\n",
              "\n",
              "    .colab-df-convert:hover {\n",
              "      background-color: #E2EBFA;\n",
              "      box-shadow: 0px 1px 2px rgba(60, 64, 67, 0.3), 0px 1px 3px 1px rgba(60, 64, 67, 0.15);\n",
              "      fill: #174EA6;\n",
              "    }\n",
              "\n",
              "    [theme=dark] .colab-df-convert {\n",
              "      background-color: #3B4455;\n",
              "      fill: #D2E3FC;\n",
              "    }\n",
              "\n",
              "    [theme=dark] .colab-df-convert:hover {\n",
              "      background-color: #434B5C;\n",
              "      box-shadow: 0px 1px 3px 1px rgba(0, 0, 0, 0.15);\n",
              "      filter: drop-shadow(0px 1px 2px rgba(0, 0, 0, 0.3));\n",
              "      fill: #FFFFFF;\n",
              "    }\n",
              "  </style>\n",
              "\n",
              "      <script>\n",
              "        const buttonEl =\n",
              "          document.querySelector('#df-7b04b304-6710-46b3-823b-c12379fd15e0 button.colab-df-convert');\n",
              "        buttonEl.style.display =\n",
              "          google.colab.kernel.accessAllowed ? 'block' : 'none';\n",
              "\n",
              "        async function convertToInteractive(key) {\n",
              "          const element = document.querySelector('#df-7b04b304-6710-46b3-823b-c12379fd15e0');\n",
              "          const dataTable =\n",
              "            await google.colab.kernel.invokeFunction('convertToInteractive',\n",
              "                                                     [key], {});\n",
              "          if (!dataTable) return;\n",
              "\n",
              "          const docLinkHtml = 'Like what you see? Visit the ' +\n",
              "            '<a target=\"_blank\" href=https://colab.research.google.com/notebooks/data_table.ipynb>data table notebook</a>'\n",
              "            + ' to learn more about interactive tables.';\n",
              "          element.innerHTML = '';\n",
              "          dataTable['output_type'] = 'display_data';\n",
              "          await google.colab.output.renderOutput(dataTable, element);\n",
              "          const docLink = document.createElement('div');\n",
              "          docLink.innerHTML = docLinkHtml;\n",
              "          element.appendChild(docLink);\n",
              "        }\n",
              "      </script>\n",
              "    </div>\n",
              "  </div>\n",
              "  "
            ],
            "text/plain": [
              "   oh_label  ...                                       Updated_Text\n",
              "0       1.0  ...                                 you fuck your dad.\n",
              "1       0.0  ...  i really do not understand your point.xa0 it s...\n",
              "2       0.0  ...  axc2xa0majority of canadians can and has been ...\n",
              "3       0.0  ...  listen if you dont wanna get married to a man ...\n",
              "4       0.0  ...  cxe1c bu1ea1n xuu1ed1ng u0111u01b0u1eddng biu1...\n",
              "\n",
              "[5 rows x 3 columns]"
            ]
          },
          "metadata": {},
          "execution_count": 32
        }
      ]
    },
    {
      "cell_type": "code",
      "metadata": {
        "colab": {
          "base_uri": "https://localhost:8080/"
        },
        "id": "AomcwicRRTKb",
        "outputId": "7c5e0b49-c3b5-4363-a51f-129d87e650ba"
      },
      "source": [
        "nondup_data.shape"
      ],
      "execution_count": null,
      "outputs": [
        {
          "output_type": "execute_result",
          "data": {
            "text/plain": [
              "(255281, 3)"
            ]
          },
          "metadata": {},
          "execution_count": 33
        }
      ]
    },
    {
      "cell_type": "code",
      "metadata": {
        "colab": {
          "base_uri": "https://localhost:8080/",
          "height": 206
        },
        "id": "5EDhZlHERXHE",
        "outputId": "0ec049b9-f588-4730-98c7-4213e1983c36"
      },
      "source": [
        "nondup_data.reset_index(inplace=True, drop=True)\n",
        "master_data = pd.DataFrame([nondup_data.Updated_Text, nondup_data.oh_label]).transpose()\n",
        "master_data = master_data.rename(columns={\"Updated_Text\": \"text\", \"oh_label\": \"label\"})\n",
        "master_data.head()"
      ],
      "execution_count": null,
      "outputs": [
        {
          "output_type": "execute_result",
          "data": {
            "text/html": [
              "\n",
              "  <div id=\"df-50122ce4-f72d-40ab-bdac-b204f4af5886\">\n",
              "    <div class=\"colab-df-container\">\n",
              "      <div>\n",
              "<style scoped>\n",
              "    .dataframe tbody tr th:only-of-type {\n",
              "        vertical-align: middle;\n",
              "    }\n",
              "\n",
              "    .dataframe tbody tr th {\n",
              "        vertical-align: top;\n",
              "    }\n",
              "\n",
              "    .dataframe thead th {\n",
              "        text-align: right;\n",
              "    }\n",
              "</style>\n",
              "<table border=\"1\" class=\"dataframe\">\n",
              "  <thead>\n",
              "    <tr style=\"text-align: right;\">\n",
              "      <th></th>\n",
              "      <th>text</th>\n",
              "      <th>label</th>\n",
              "    </tr>\n",
              "  </thead>\n",
              "  <tbody>\n",
              "    <tr>\n",
              "      <th>0</th>\n",
              "      <td>you fuck your dad.</td>\n",
              "      <td>1</td>\n",
              "    </tr>\n",
              "    <tr>\n",
              "      <th>1</th>\n",
              "      <td>i really do not understand your point.xa0 it s...</td>\n",
              "      <td>0</td>\n",
              "    </tr>\n",
              "    <tr>\n",
              "      <th>2</th>\n",
              "      <td>axc2xa0majority of canadians can and has been ...</td>\n",
              "      <td>0</td>\n",
              "    </tr>\n",
              "    <tr>\n",
              "      <th>3</th>\n",
              "      <td>listen if you dont wanna get married to a man ...</td>\n",
              "      <td>0</td>\n",
              "    </tr>\n",
              "    <tr>\n",
              "      <th>4</th>\n",
              "      <td>cxe1c bu1ea1n xuu1ed1ng u0111u01b0u1eddng biu1...</td>\n",
              "      <td>0</td>\n",
              "    </tr>\n",
              "  </tbody>\n",
              "</table>\n",
              "</div>\n",
              "      <button class=\"colab-df-convert\" onclick=\"convertToInteractive('df-50122ce4-f72d-40ab-bdac-b204f4af5886')\"\n",
              "              title=\"Convert this dataframe to an interactive table.\"\n",
              "              style=\"display:none;\">\n",
              "        \n",
              "  <svg xmlns=\"http://www.w3.org/2000/svg\" height=\"24px\"viewBox=\"0 0 24 24\"\n",
              "       width=\"24px\">\n",
              "    <path d=\"M0 0h24v24H0V0z\" fill=\"none\"/>\n",
              "    <path d=\"M18.56 5.44l.94 2.06.94-2.06 2.06-.94-2.06-.94-.94-2.06-.94 2.06-2.06.94zm-11 1L8.5 8.5l.94-2.06 2.06-.94-2.06-.94L8.5 2.5l-.94 2.06-2.06.94zm10 10l.94 2.06.94-2.06 2.06-.94-2.06-.94-.94-2.06-.94 2.06-2.06.94z\"/><path d=\"M17.41 7.96l-1.37-1.37c-.4-.4-.92-.59-1.43-.59-.52 0-1.04.2-1.43.59L10.3 9.45l-7.72 7.72c-.78.78-.78 2.05 0 2.83L4 21.41c.39.39.9.59 1.41.59.51 0 1.02-.2 1.41-.59l7.78-7.78 2.81-2.81c.8-.78.8-2.07 0-2.86zM5.41 20L4 18.59l7.72-7.72 1.47 1.35L5.41 20z\"/>\n",
              "  </svg>\n",
              "      </button>\n",
              "      \n",
              "  <style>\n",
              "    .colab-df-container {\n",
              "      display:flex;\n",
              "      flex-wrap:wrap;\n",
              "      gap: 12px;\n",
              "    }\n",
              "\n",
              "    .colab-df-convert {\n",
              "      background-color: #E8F0FE;\n",
              "      border: none;\n",
              "      border-radius: 50%;\n",
              "      cursor: pointer;\n",
              "      display: none;\n",
              "      fill: #1967D2;\n",
              "      height: 32px;\n",
              "      padding: 0 0 0 0;\n",
              "      width: 32px;\n",
              "    }\n",
              "\n",
              "    .colab-df-convert:hover {\n",
              "      background-color: #E2EBFA;\n",
              "      box-shadow: 0px 1px 2px rgba(60, 64, 67, 0.3), 0px 1px 3px 1px rgba(60, 64, 67, 0.15);\n",
              "      fill: #174EA6;\n",
              "    }\n",
              "\n",
              "    [theme=dark] .colab-df-convert {\n",
              "      background-color: #3B4455;\n",
              "      fill: #D2E3FC;\n",
              "    }\n",
              "\n",
              "    [theme=dark] .colab-df-convert:hover {\n",
              "      background-color: #434B5C;\n",
              "      box-shadow: 0px 1px 3px 1px rgba(0, 0, 0, 0.15);\n",
              "      filter: drop-shadow(0px 1px 2px rgba(0, 0, 0, 0.3));\n",
              "      fill: #FFFFFF;\n",
              "    }\n",
              "  </style>\n",
              "\n",
              "      <script>\n",
              "        const buttonEl =\n",
              "          document.querySelector('#df-50122ce4-f72d-40ab-bdac-b204f4af5886 button.colab-df-convert');\n",
              "        buttonEl.style.display =\n",
              "          google.colab.kernel.accessAllowed ? 'block' : 'none';\n",
              "\n",
              "        async function convertToInteractive(key) {\n",
              "          const element = document.querySelector('#df-50122ce4-f72d-40ab-bdac-b204f4af5886');\n",
              "          const dataTable =\n",
              "            await google.colab.kernel.invokeFunction('convertToInteractive',\n",
              "                                                     [key], {});\n",
              "          if (!dataTable) return;\n",
              "\n",
              "          const docLinkHtml = 'Like what you see? Visit the ' +\n",
              "            '<a target=\"_blank\" href=https://colab.research.google.com/notebooks/data_table.ipynb>data table notebook</a>'\n",
              "            + ' to learn more about interactive tables.';\n",
              "          element.innerHTML = '';\n",
              "          dataTable['output_type'] = 'display_data';\n",
              "          await google.colab.output.renderOutput(dataTable, element);\n",
              "          const docLink = document.createElement('div');\n",
              "          docLink.innerHTML = docLinkHtml;\n",
              "          element.appendChild(docLink);\n",
              "        }\n",
              "      </script>\n",
              "    </div>\n",
              "  </div>\n",
              "  "
            ],
            "text/plain": [
              "                                                text label\n",
              "0                                 you fuck your dad.     1\n",
              "1  i really do not understand your point.xa0 it s...     0\n",
              "2  axc2xa0majority of canadians can and has been ...     0\n",
              "3  listen if you dont wanna get married to a man ...     0\n",
              "4  cxe1c bu1ea1n xuu1ed1ng u0111u01b0u1eddng biu1...     0"
            ]
          },
          "metadata": {},
          "execution_count": 34
        }
      ]
    },
    {
      "cell_type": "markdown",
      "metadata": {
        "id": "V9C1VxoeT2-g"
      },
      "source": [
        "## Train Test Split"
      ]
    },
    {
      "cell_type": "code",
      "metadata": {
        "id": "D_MSgs_LT1w_"
      },
      "source": [
        "y = master_data.label\n",
        "x = master_data.text"
      ],
      "execution_count": null,
      "outputs": []
    },
    {
      "cell_type": "code",
      "metadata": {
        "colab": {
          "base_uri": "https://localhost:8080/"
        },
        "id": "Lr_HySLdUFhy",
        "outputId": "d9970670-2e57-4b0f-8cb7-99b2db7c91b1"
      },
      "source": [
        "train_data, test_data = train_test_split(master_data, test_size=0.2, random_state=7)\n",
        "print(\"Training Data size:\", len(train_data))\n",
        "print(\"Testing Data size\", len(test_data))"
      ],
      "execution_count": null,
      "outputs": [
        {
          "output_type": "stream",
          "name": "stdout",
          "text": [
            "Training Data size: 204224\n",
            "Testing Data size 51057\n"
          ]
        }
      ]
    },
    {
      "cell_type": "code",
      "metadata": {
        "colab": {
          "base_uri": "https://localhost:8080/",
          "height": 206
        },
        "id": "eCEnfUbwUuLD",
        "outputId": "2e1f4459-362e-4687-cd8e-38fc74f6e8f6"
      },
      "source": [
        "train_data.head()"
      ],
      "execution_count": null,
      "outputs": [
        {
          "output_type": "execute_result",
          "data": {
            "text/html": [
              "\n",
              "  <div id=\"df-d97866f0-f5bc-4711-95b4-c586d62b565a\">\n",
              "    <div class=\"colab-df-container\">\n",
              "      <div>\n",
              "<style scoped>\n",
              "    .dataframe tbody tr th:only-of-type {\n",
              "        vertical-align: middle;\n",
              "    }\n",
              "\n",
              "    .dataframe tbody tr th {\n",
              "        vertical-align: top;\n",
              "    }\n",
              "\n",
              "    .dataframe thead th {\n",
              "        text-align: right;\n",
              "    }\n",
              "</style>\n",
              "<table border=\"1\" class=\"dataframe\">\n",
              "  <thead>\n",
              "    <tr style=\"text-align: right;\">\n",
              "      <th></th>\n",
              "      <th>text</th>\n",
              "      <th>label</th>\n",
              "    </tr>\n",
              "  </thead>\n",
              "  <tbody>\n",
              "    <tr>\n",
              "      <th>235711</th>\n",
              "      <td>first daily cat collage impression cats katzen...</td>\n",
              "      <td>0</td>\n",
              "    </tr>\n",
              "    <tr>\n",
              "      <th>182090</th>\n",
              "      <td>this is worth a comment at the good article r...</td>\n",
              "      <td>0</td>\n",
              "    </tr>\n",
              "    <tr>\n",
              "      <th>97441</th>\n",
              "      <td>id just like to refer any interested readers t...</td>\n",
              "      <td>0</td>\n",
              "    </tr>\n",
              "    <tr>\n",
              "      <th>24621</th>\n",
              "      <td>maxblumenthal ajzionts has bloomenthal ever wr...</td>\n",
              "      <td>1</td>\n",
              "    </tr>\n",
              "    <tr>\n",
              "      <th>197460</th>\n",
              "      <td>we go with most iconic not most recent. that v...</td>\n",
              "      <td>0</td>\n",
              "    </tr>\n",
              "  </tbody>\n",
              "</table>\n",
              "</div>\n",
              "      <button class=\"colab-df-convert\" onclick=\"convertToInteractive('df-d97866f0-f5bc-4711-95b4-c586d62b565a')\"\n",
              "              title=\"Convert this dataframe to an interactive table.\"\n",
              "              style=\"display:none;\">\n",
              "        \n",
              "  <svg xmlns=\"http://www.w3.org/2000/svg\" height=\"24px\"viewBox=\"0 0 24 24\"\n",
              "       width=\"24px\">\n",
              "    <path d=\"M0 0h24v24H0V0z\" fill=\"none\"/>\n",
              "    <path d=\"M18.56 5.44l.94 2.06.94-2.06 2.06-.94-2.06-.94-.94-2.06-.94 2.06-2.06.94zm-11 1L8.5 8.5l.94-2.06 2.06-.94-2.06-.94L8.5 2.5l-.94 2.06-2.06.94zm10 10l.94 2.06.94-2.06 2.06-.94-2.06-.94-.94-2.06-.94 2.06-2.06.94z\"/><path d=\"M17.41 7.96l-1.37-1.37c-.4-.4-.92-.59-1.43-.59-.52 0-1.04.2-1.43.59L10.3 9.45l-7.72 7.72c-.78.78-.78 2.05 0 2.83L4 21.41c.39.39.9.59 1.41.59.51 0 1.02-.2 1.41-.59l7.78-7.78 2.81-2.81c.8-.78.8-2.07 0-2.86zM5.41 20L4 18.59l7.72-7.72 1.47 1.35L5.41 20z\"/>\n",
              "  </svg>\n",
              "      </button>\n",
              "      \n",
              "  <style>\n",
              "    .colab-df-container {\n",
              "      display:flex;\n",
              "      flex-wrap:wrap;\n",
              "      gap: 12px;\n",
              "    }\n",
              "\n",
              "    .colab-df-convert {\n",
              "      background-color: #E8F0FE;\n",
              "      border: none;\n",
              "      border-radius: 50%;\n",
              "      cursor: pointer;\n",
              "      display: none;\n",
              "      fill: #1967D2;\n",
              "      height: 32px;\n",
              "      padding: 0 0 0 0;\n",
              "      width: 32px;\n",
              "    }\n",
              "\n",
              "    .colab-df-convert:hover {\n",
              "      background-color: #E2EBFA;\n",
              "      box-shadow: 0px 1px 2px rgba(60, 64, 67, 0.3), 0px 1px 3px 1px rgba(60, 64, 67, 0.15);\n",
              "      fill: #174EA6;\n",
              "    }\n",
              "\n",
              "    [theme=dark] .colab-df-convert {\n",
              "      background-color: #3B4455;\n",
              "      fill: #D2E3FC;\n",
              "    }\n",
              "\n",
              "    [theme=dark] .colab-df-convert:hover {\n",
              "      background-color: #434B5C;\n",
              "      box-shadow: 0px 1px 3px 1px rgba(0, 0, 0, 0.15);\n",
              "      filter: drop-shadow(0px 1px 2px rgba(0, 0, 0, 0.3));\n",
              "      fill: #FFFFFF;\n",
              "    }\n",
              "  </style>\n",
              "\n",
              "      <script>\n",
              "        const buttonEl =\n",
              "          document.querySelector('#df-d97866f0-f5bc-4711-95b4-c586d62b565a button.colab-df-convert');\n",
              "        buttonEl.style.display =\n",
              "          google.colab.kernel.accessAllowed ? 'block' : 'none';\n",
              "\n",
              "        async function convertToInteractive(key) {\n",
              "          const element = document.querySelector('#df-d97866f0-f5bc-4711-95b4-c586d62b565a');\n",
              "          const dataTable =\n",
              "            await google.colab.kernel.invokeFunction('convertToInteractive',\n",
              "                                                     [key], {});\n",
              "          if (!dataTable) return;\n",
              "\n",
              "          const docLinkHtml = 'Like what you see? Visit the ' +\n",
              "            '<a target=\"_blank\" href=https://colab.research.google.com/notebooks/data_table.ipynb>data table notebook</a>'\n",
              "            + ' to learn more about interactive tables.';\n",
              "          element.innerHTML = '';\n",
              "          dataTable['output_type'] = 'display_data';\n",
              "          await google.colab.output.renderOutput(dataTable, element);\n",
              "          const docLink = document.createElement('div');\n",
              "          docLink.innerHTML = docLinkHtml;\n",
              "          element.appendChild(docLink);\n",
              "        }\n",
              "      </script>\n",
              "    </div>\n",
              "  </div>\n",
              "  "
            ],
            "text/plain": [
              "                                                     text label\n",
              "235711  first daily cat collage impression cats katzen...     0\n",
              "182090   this is worth a comment at the good article r...     0\n",
              "97441   id just like to refer any interested readers t...     0\n",
              "24621   maxblumenthal ajzionts has bloomenthal ever wr...     1\n",
              "197460  we go with most iconic not most recent. that v...     0"
            ]
          },
          "metadata": {},
          "execution_count": 37
        }
      ]
    },
    {
      "cell_type": "code",
      "metadata": {
        "id": "jIx4CapKbLiS"
      },
      "source": [
        "from keras.preprocessing.text import Tokenizer\n",
        "from keras.preprocessing.sequence import pad_sequences\n",
        "from keras.models import Sequential\n",
        "from keras import layers\n",
        "from sklearn.preprocessing import LabelEncoder"
      ],
      "execution_count": null,
      "outputs": []
    },
    {
      "cell_type": "code",
      "metadata": {
        "id": "daGdgdT6bN4R"
      },
      "source": [
        "MAXLENGTH = 30"
      ],
      "execution_count": null,
      "outputs": []
    },
    {
      "cell_type": "markdown",
      "metadata": {
        "id": "gYWBco7QbmUA"
      },
      "source": [
        "## Tokenizer"
      ]
    },
    {
      "cell_type": "code",
      "metadata": {
        "colab": {
          "base_uri": "https://localhost:8080/"
        },
        "id": "UbO9NSEhbmxw",
        "outputId": "7bad976c-7497-4928-c7d5-1cd62009fb54"
      },
      "source": [
        "tokenizer = Tokenizer()\n",
        "tokenizer.fit_on_texts(train_data.text)\n",
        "\n",
        "word_index = tokenizer.word_index\n",
        "vocab_size = len(tokenizer.word_index) + 1\n",
        "print(\"Vocabulary Size :\", vocab_size)"
      ],
      "execution_count": null,
      "outputs": [
        {
          "output_type": "stream",
          "name": "stdout",
          "text": [
            "Vocabulary Size : 287353\n"
          ]
        }
      ]
    },
    {
      "cell_type": "code",
      "source": [
        "import pickle\n",
        "\n",
        "# saving\n",
        "with open(dataset_path + 'tokenizer.pickle', 'wb') as handle:\n",
        "    pickle.dump(tokenizer, handle, protocol=pickle.HIGHEST_PROTOCOL)"
      ],
      "metadata": {
        "id": "nVBwODP_72th"
      },
      "execution_count": null,
      "outputs": []
    },
    {
      "cell_type": "code",
      "metadata": {
        "colab": {
          "base_uri": "https://localhost:8080/"
        },
        "id": "gM3gb0fHfIW2",
        "outputId": "b93cf065-af28-4d24-cebf-f7079c0d2a54"
      },
      "source": [
        "list(word_index.items())[:10]"
      ],
      "execution_count": null,
      "outputs": [
        {
          "output_type": "execute_result",
          "data": {
            "text/plain": [
              "[('the', 1),\n",
              " ('to', 2),\n",
              " ('i', 3),\n",
              " ('a', 4),\n",
              " ('and', 5),\n",
              " ('of', 6),\n",
              " ('you', 7),\n",
              " ('is', 8),\n",
              " ('that', 9),\n",
              " ('it', 10)]"
            ]
          },
          "metadata": {},
          "execution_count": 42
        }
      ]
    },
    {
      "cell_type": "code",
      "metadata": {
        "colab": {
          "base_uri": "https://localhost:8080/"
        },
        "id": "hZTdrhiwbo0l",
        "outputId": "24ab3d85-5444-4110-a747-f5f92bb19620"
      },
      "source": [
        "x_train = pad_sequences(tokenizer.texts_to_sequences(train_data.text),\n",
        "                        maxlen = MAXLENGTH, padding='pre')\n",
        "x_test = pad_sequences(tokenizer.texts_to_sequences(test_data.text),\n",
        "                       maxlen = MAXLENGTH, padding='pre')\n",
        "\n",
        "print(\"Training Shape:\",x_train.shape)\n",
        "print(\"Testing Shape:\",x_test.shape)"
      ],
      "execution_count": null,
      "outputs": [
        {
          "output_type": "stream",
          "name": "stdout",
          "text": [
            "Training Shape: (204224, 30)\n",
            "Testing Shape: (51057, 30)\n"
          ]
        }
      ]
    },
    {
      "cell_type": "code",
      "metadata": {
        "colab": {
          "base_uri": "https://localhost:8080/"
        },
        "id": "1taoHyKUgNCR",
        "outputId": "2314e068-dc75-4838-933b-38269bdd8ae6"
      },
      "source": [
        "print(train_data.text[:5],\"\\n\\n\")\n",
        "print(x_train[:5])"
      ],
      "execution_count": null,
      "outputs": [
        {
          "output_type": "stream",
          "name": "stdout",
          "text": [
            "235711    first daily cat collage impression cats katzen...\n",
            "182090     this is worth a comment at the good article r...\n",
            "97441     id just like to refer any interested readers t...\n",
            "24621     maxblumenthal ajzionts has bloomenthal ever wr...\n",
            "197460    we go with most iconic not most recent. that v...\n",
            "Name: text, dtype: object \n",
            "\n",
            "\n",
            "[[    0     0     0     0     0     0     0     0     0     0     0     0\n",
            "      0     0     0     0     0     0   111  1963  1990 11422  2136  4056\n",
            "  74922 74923   597  7119    45   511]\n",
            " [    0     0     0     0     0     0     0     0     0     0     0    14\n",
            "      8   918     4   204    32     1    94    26  9726     6    14    26\n",
            "     19    10     8     4  1282  1740]\n",
            " [    0     0     0     0     0     0     0     0     0     0     0     0\n",
            "      0     0     0     0     0  1506    49    45     2   899    57   531\n",
            "   1012     2    28   791   204   458]\n",
            " [    0     0     0     0     0     0     0     0     0     0     0     0\n",
            "   4038 38893    47 74924   298   388    38     1  4477   559    33    65\n",
            "   1330    15  5061 25678   630 74925]\n",
            " [    0     0     0     0     0     0     0     0     0     0     0     0\n",
            "      0     0     0     0     0     0     0    53   102    22   126  9392\n",
            "     12   126   518     9  2735 28702]]\n"
          ]
        }
      ]
    },
    {
      "cell_type": "code",
      "metadata": {
        "colab": {
          "base_uri": "https://localhost:8080/"
        },
        "id": "BD6APGSjbrwp",
        "outputId": "fd3044d2-59c4-4688-a6ee-a947759a2990"
      },
      "source": [
        "labels = train_data.label.unique().tolist()\n",
        "print(labels)"
      ],
      "execution_count": null,
      "outputs": [
        {
          "output_type": "stream",
          "name": "stdout",
          "text": [
            "[0.0, 1.0]\n"
          ]
        }
      ]
    },
    {
      "cell_type": "code",
      "metadata": {
        "colab": {
          "base_uri": "https://localhost:8080/"
        },
        "id": "RhHRGDN_btRt",
        "outputId": "b77fa668-0092-40a8-833f-fca3fd3252a1"
      },
      "source": [
        "y_train = train_data.label\n",
        "y_train.shape"
      ],
      "execution_count": null,
      "outputs": [
        {
          "output_type": "execute_result",
          "data": {
            "text/plain": [
              "(204224,)"
            ]
          },
          "metadata": {},
          "execution_count": 46
        }
      ]
    },
    {
      "cell_type": "code",
      "metadata": {
        "colab": {
          "base_uri": "https://localhost:8080/"
        },
        "id": "hECN0vw8buza",
        "outputId": "850d880a-d1f6-4fbe-ab97-7238d6281525"
      },
      "source": [
        "encoder = LabelEncoder()\n",
        "encoder.fit(train_data.label.to_list())\n",
        "\n",
        "y_train = encoder.transform(train_data.label.to_list())\n",
        "y_test = encoder.transform(test_data.label.to_list())\n",
        "\n",
        "y_train = y_train.reshape(-1,1)\n",
        "y_test = y_test.reshape(-1,1)\n",
        "\n",
        "print(\"y_train shape:\", y_train.shape)\n",
        "print(\"y_test shape:\", y_test.shape)"
      ],
      "execution_count": null,
      "outputs": [
        {
          "output_type": "stream",
          "name": "stdout",
          "text": [
            "y_train shape: (204224, 1)\n",
            "y_test shape: (51057, 1)\n"
          ]
        }
      ]
    },
    {
      "cell_type": "code",
      "metadata": {
        "colab": {
          "base_uri": "https://localhost:8080/"
        },
        "id": "Stu6vJOMbxKl",
        "outputId": "0e3aab64-2fb6-42b8-ffe4-97a79f91e37c"
      },
      "source": [
        "print(y_train)"
      ],
      "execution_count": null,
      "outputs": [
        {
          "output_type": "stream",
          "name": "stdout",
          "text": [
            "[[0]\n",
            " [0]\n",
            " [0]\n",
            " ...\n",
            " [0]\n",
            " [0]\n",
            " [0]]\n"
          ]
        }
      ]
    },
    {
      "cell_type": "markdown",
      "metadata": {
        "id": "lc1ETHGtbz9d"
      },
      "source": [
        "## Glove Embeddings"
      ]
    },
    {
      "cell_type": "code",
      "metadata": {
        "colab": {
          "base_uri": "https://localhost:8080/"
        },
        "id": "F-S-g5aob1TG",
        "outputId": "4325ddcb-c4dc-450b-b206-48316e8f1d42"
      },
      "source": [
        "!unzip drive/MyDrive/yBully-dataset/glove.6B.zip"
      ],
      "execution_count": null,
      "outputs": [
        {
          "output_type": "stream",
          "name": "stdout",
          "text": [
            "Archive:  drive/MyDrive/yBully-dataset/glove.6B.zip\n",
            "  inflating: glove.6B.50d.txt        \n",
            "  inflating: glove.6B.100d.txt       \n",
            "  inflating: glove.6B.200d.txt       \n",
            "  inflating: glove.6B.300d.txt       \n"
          ]
        }
      ]
    },
    {
      "cell_type": "code",
      "metadata": {
        "colab": {
          "base_uri": "https://localhost:8080/"
        },
        "id": "VQIp2WyicKT4",
        "outputId": "7ca8db55-c37a-45ea-cbac-d02ca93c005a"
      },
      "source": [
        "embeddings_index = {}\n",
        "GLOVE_PATH = './glove.6B.300d.txt'\n",
        "f = open(GLOVE_PATH)\n",
        "for line in f:\n",
        "  values = line.split()\n",
        "  word = value = values[0]\n",
        "  coefs = np.asarray(values[1:], dtype='float32')\n",
        "  embeddings_index[word] = coefs\n",
        "f.close()\n",
        "\n",
        "print('Found %s word vectors.' %len(embeddings_index))"
      ],
      "execution_count": null,
      "outputs": [
        {
          "output_type": "stream",
          "name": "stdout",
          "text": [
            "Found 400000 word vectors.\n"
          ]
        }
      ]
    },
    {
      "cell_type": "code",
      "metadata": {
        "colab": {
          "base_uri": "https://localhost:8080/"
        },
        "id": "w0sYFszbiDM9",
        "outputId": "026801fc-6d3d-4b82-f3e5-984372c81bb4"
      },
      "source": [
        "list(embeddings_index.items())[:3]"
      ],
      "execution_count": null,
      "outputs": [
        {
          "output_type": "execute_result",
          "data": {
            "text/plain": [
              "[('the',\n",
              "  array([ 4.6560e-02,  2.1318e-01, -7.4364e-03, -4.5854e-01, -3.5639e-02,\n",
              "          2.3643e-01, -2.8836e-01,  2.1521e-01, -1.3486e-01, -1.6413e+00,\n",
              "         -2.6091e-01,  3.2434e-02,  5.6621e-02, -4.3296e-02, -2.1672e-02,\n",
              "          2.2476e-01, -7.5129e-02, -6.7018e-02, -1.4247e-01,  3.8825e-02,\n",
              "         -1.8951e-01,  2.9977e-01,  3.9305e-01,  1.7887e-01, -1.7343e-01,\n",
              "         -2.1178e-01,  2.3617e-01, -6.3681e-02, -4.2318e-01, -1.1661e-01,\n",
              "          9.3754e-02,  1.7296e-01, -3.3073e-01,  4.9112e-01, -6.8995e-01,\n",
              "         -9.2462e-02,  2.4742e-01, -1.7991e-01,  9.7908e-02,  8.3118e-02,\n",
              "          1.5299e-01, -2.7276e-01, -3.8934e-02,  5.4453e-01,  5.3737e-01,\n",
              "          2.9105e-01, -7.3514e-03,  4.7880e-02, -4.0760e-01, -2.6759e-02,\n",
              "          1.7919e-01,  1.0977e-02, -1.0963e-01, -2.6395e-01,  7.3990e-02,\n",
              "          2.6236e-01, -1.5080e-01,  3.4623e-01,  2.5758e-01,  1.1971e-01,\n",
              "         -3.7135e-02, -7.1593e-02,  4.3898e-01, -4.0764e-02,  1.6425e-02,\n",
              "         -4.4640e-01,  1.7197e-01,  4.6246e-02,  5.8639e-02,  4.1499e-02,\n",
              "          5.3948e-01,  5.2495e-01,  1.1361e-01, -4.8315e-02, -3.6385e-01,\n",
              "          1.8704e-01,  9.2761e-02, -1.1129e-01, -4.2085e-01,  1.3992e-01,\n",
              "         -3.9338e-01, -6.7945e-02,  1.2188e-01,  1.6707e-01,  7.5169e-02,\n",
              "         -1.5529e-02, -1.9499e-01,  1.9638e-01,  5.3194e-02,  2.5170e-01,\n",
              "         -3.4845e-01, -1.0638e-01, -3.4692e-01, -1.9024e-01, -2.0040e-01,\n",
              "          1.2154e-01, -2.9208e-01,  2.3353e-02, -1.1618e-01, -3.5768e-01,\n",
              "          6.2304e-02,  3.5884e-01,  2.9060e-02,  7.3005e-03,  4.9482e-03,\n",
              "         -1.5048e-01, -1.2313e-01,  1.9337e-01,  1.2173e-01,  4.4503e-01,\n",
              "          2.5147e-01,  1.0781e-01, -1.7716e-01,  3.8691e-02,  8.1530e-02,\n",
              "          1.4667e-01,  6.3666e-02,  6.1332e-02, -7.5569e-02, -3.7724e-01,\n",
              "          1.5850e-02, -3.0342e-01,  2.8374e-01, -4.2013e-02, -4.0715e-02,\n",
              "         -1.5269e-01,  7.4980e-02,  1.5577e-01,  1.0433e-01,  3.1393e-01,\n",
              "          1.9309e-01,  1.9429e-01,  1.5185e-01, -1.0192e-01, -1.8785e-02,\n",
              "          2.0791e-01,  1.3366e-01,  1.9038e-01, -2.5558e-01,  3.0400e-01,\n",
              "         -1.8960e-02,  2.0147e-01, -4.2110e-01, -7.5156e-03, -2.7977e-01,\n",
              "         -1.9314e-01,  4.6204e-02,  1.9971e-01, -3.0207e-01,  2.5735e-01,\n",
              "          6.8107e-01, -1.9409e-01,  2.3984e-01,  2.2493e-01,  6.5224e-01,\n",
              "         -1.3561e-01, -1.7383e-01, -4.8209e-02, -1.1860e-01,  2.1588e-03,\n",
              "         -1.9525e-02,  1.1948e-01,  1.9346e-01, -4.0820e-01, -8.2966e-02,\n",
              "          1.6626e-01, -1.0601e-01,  3.5861e-01,  1.6922e-01,  7.2590e-02,\n",
              "         -2.4803e-01, -1.0024e-01, -5.2491e-01, -1.7745e-01, -3.6647e-01,\n",
              "          2.6180e-01, -1.2077e-02,  8.3190e-02, -2.1528e-01,  4.1045e-01,\n",
              "          2.9136e-01,  3.0869e-01,  7.8864e-02,  3.2207e-01, -4.1023e-02,\n",
              "         -1.0970e-01, -9.2041e-02, -1.2339e-01, -1.6416e-01,  3.5382e-01,\n",
              "         -8.2774e-02,  3.3171e-01, -2.4738e-01, -4.8928e-02,  1.5746e-01,\n",
              "          1.8988e-01, -2.6642e-02,  6.3315e-02, -1.0673e-02,  3.4089e-01,\n",
              "          1.4106e+00,  1.3417e-01,  2.8191e-01, -2.5940e-01,  5.5267e-02,\n",
              "         -5.2425e-02, -2.5789e-01,  1.9127e-02, -2.2084e-02,  3.2113e-01,\n",
              "          6.8818e-02,  5.1207e-01,  1.6478e-01, -2.0194e-01,  2.9232e-01,\n",
              "          9.8575e-02,  1.3145e-02, -1.0652e-01,  1.3510e-01, -4.5332e-02,\n",
              "          2.0697e-01, -4.8425e-01, -4.4706e-01,  3.3305e-03,  2.9264e-03,\n",
              "         -1.0975e-01, -2.3325e-01,  2.2442e-01, -1.0503e-01,  1.2339e-01,\n",
              "          1.0978e-01,  4.8994e-02, -2.5157e-01,  4.0319e-01,  3.5318e-01,\n",
              "          1.8651e-01, -2.3622e-02, -1.2734e-01,  1.1475e-01,  2.7359e-01,\n",
              "         -2.1866e-01,  1.5794e-02,  8.1754e-01, -2.3792e-02, -8.5469e-01,\n",
              "         -1.6203e-01,  1.8076e-01,  2.8014e-02, -1.4340e-01,  1.3139e-03,\n",
              "         -9.1735e-02, -8.9704e-02,  1.1105e-01, -1.6703e-01,  6.8377e-02,\n",
              "         -8.7388e-02, -3.9789e-02,  1.4184e-02,  2.1187e-01,  2.8579e-01,\n",
              "         -2.8797e-01, -5.8996e-02, -3.2436e-02, -4.7009e-03, -1.7052e-01,\n",
              "         -3.4741e-02, -1.1489e-01,  7.5093e-02,  9.9526e-02,  4.8183e-02,\n",
              "         -7.3775e-02, -4.1817e-01,  4.1268e-03,  4.4414e-01, -1.6062e-01,\n",
              "          1.4294e-01, -2.2628e+00, -2.7347e-02,  8.1311e-01,  7.7417e-01,\n",
              "         -2.5639e-01, -1.1576e-01, -1.1982e-01, -2.1363e-01,  2.8429e-02,\n",
              "          2.7261e-01,  3.1026e-02,  9.6782e-02,  6.7769e-03,  1.4082e-01,\n",
              "         -1.3064e-02, -2.9686e-01, -7.9913e-02,  1.9500e-01,  3.1549e-02,\n",
              "          2.8506e-01, -8.7461e-02,  9.0611e-03, -2.0989e-01,  5.3913e-02],\n",
              "        dtype=float32)),\n",
              " (',', array([-2.5539e-01, -2.5723e-01,  1.3169e-01, -4.2688e-02,  2.1817e-01,\n",
              "         -2.2702e-02, -1.7854e-01,  1.0756e-01,  5.8936e-02, -1.3854e+00,\n",
              "          5.8509e-01,  3.6501e-02, -1.9846e-01,  1.9613e-01,  4.0929e-01,\n",
              "          1.5702e-01, -1.5305e-01,  5.0447e-02,  3.0045e-01, -1.1295e-01,\n",
              "         -1.7043e-02,  1.8593e-01,  1.9982e-01,  2.0053e-01, -6.3141e-01,\n",
              "         -1.2622e-01,  2.9510e-01, -2.6282e-01, -1.5831e-01,  1.2383e-03,\n",
              "          1.1784e-02,  5.8758e-01, -1.5914e-01,  2.7731e-01, -8.2343e-01,\n",
              "         -2.1134e-01,  1.3414e-02,  1.9637e-01, -4.1470e-01,  1.0276e-03,\n",
              "          1.3422e-01, -1.4205e-01,  5.1545e-02,  3.4993e-01, -2.9868e-01,\n",
              "         -3.2090e-01,  1.9566e-01,  4.7886e-01,  1.0744e-01,  1.0004e-02,\n",
              "          1.8503e-01,  8.0694e-02,  2.0739e-01, -9.7365e-02, -3.9448e-02,\n",
              "          2.0151e-02, -1.7378e-01,  2.5679e-01,  2.4198e-01, -3.5100e-01,\n",
              "          1.8759e-01,  6.3857e-03,  1.8395e-01, -1.3929e-01,  8.1855e-03,\n",
              "         -6.3109e-01,  2.9832e-01,  3.1731e-01,  1.3022e-01, -3.2284e-01,\n",
              "         -5.0343e-02, -1.1400e-01,  1.2097e-01,  1.4687e-01, -3.3244e-01,\n",
              "         -5.5789e-02, -5.8490e-02,  2.7551e-01, -4.3855e-02,  3.9664e-02,\n",
              "          1.5162e-01, -8.6627e-02,  6.7729e-02,  2.3146e-01,  1.5351e-02,\n",
              "         -1.5142e-01, -3.1975e-02,  4.5181e-01, -6.8806e-02, -7.7058e-02,\n",
              "          5.5193e-02,  5.4596e-02, -2.4708e-01,  3.1113e-02, -1.2826e-01,\n",
              "          1.2782e-01, -4.6708e-01, -2.6264e-02,  1.0387e-02, -3.3174e-01,\n",
              "          1.7277e-01, -2.6894e-01,  2.0467e-01, -1.6181e-01, -4.1519e-02,\n",
              "         -1.4878e-02,  1.0279e-01,  1.8868e-01, -2.3396e-01, -1.8436e-02,\n",
              "         -1.4747e-01, -3.2685e-01, -2.2055e-02, -5.4000e-02,  1.6264e-01,\n",
              "          2.7095e-01, -2.2792e-01, -7.7006e-03,  1.1206e-01, -3.9787e-02,\n",
              "         -1.1906e-01,  2.1773e-02,  5.5280e-02, -1.3318e-01, -5.6867e-02,\n",
              "          8.3040e-03, -2.7021e-02,  2.3447e-01,  8.6864e-02,  1.2009e-01,\n",
              "         -3.0726e-01,  2.4735e-03,  2.9041e-01, -4.4887e-02,  1.2297e-01,\n",
              "          1.3077e-01,  9.0807e-02, -3.9141e-01,  8.0546e-02,  1.8724e-01,\n",
              "         -9.7481e-02,  1.0397e-01,  1.1492e-01,  1.7775e-01, -1.8167e-01,\n",
              "          2.4652e-01,  2.0136e-01, -2.3395e-01, -3.5018e-01, -1.4061e-01,\n",
              "          1.7091e-01, -9.5465e-02, -1.0962e-01, -9.8360e-02,  1.5344e-01,\n",
              "          8.8680e-02, -2.2048e-01, -1.3803e-01, -1.1288e-01, -8.5340e-02,\n",
              "          7.2735e-02, -1.2732e-01, -1.9640e-01, -1.0586e-01,  2.0616e-03,\n",
              "          1.3496e-01,  5.8912e-02, -4.3979e-02, -9.1375e-02,  2.4408e-01,\n",
              "          1.6872e-01,  2.4297e-01, -4.3983e-01,  4.7089e-01, -1.8595e-02,\n",
              "          1.6146e-01,  1.9828e-01, -1.7237e-01, -2.6998e-03,  5.2097e-01,\n",
              "         -8.0197e-02,  4.3324e-01, -6.6261e-02,  4.3240e-02,  8.4954e-02,\n",
              "         -1.4836e-01, -4.1936e-01,  1.5988e-01, -1.8411e-01,  1.3210e-01,\n",
              "          2.7476e-01,  2.7279e-01, -1.3465e-01, -9.1238e-02, -3.2523e-01,\n",
              "          2.7936e-01,  2.3296e-02, -3.3472e-01,  1.6878e-02, -5.5544e-02,\n",
              "          9.2915e-01, -3.3914e-01, -1.4791e-01,  1.7301e-02,  1.8272e-01,\n",
              "          3.5108e-01, -1.1438e-01,  1.3228e-01, -2.1064e-02, -2.7453e-01,\n",
              "         -1.0081e-01, -4.6296e-02,  2.1689e-01, -5.6319e-02,  1.4651e-01,\n",
              "         -2.3536e-02,  6.8026e-02, -4.5453e-02, -2.3851e-01, -3.3868e-01,\n",
              "          3.1396e-01, -3.1914e-02, -1.9217e-02,  1.8715e-03, -1.3328e-01,\n",
              "          7.0148e-02, -3.9761e-02,  7.0801e-02,  1.8422e-03, -1.2646e-01,\n",
              "          2.8675e-02, -9.5728e-02,  2.6673e-01, -3.5536e-01,  1.5286e-01,\n",
              "          6.4565e-02,  1.2647e-01,  2.3397e-01, -4.6058e-02,  1.3519e-01,\n",
              "         -1.4549e-01,  2.3031e-01,  4.2066e-01,  1.6267e-01, -1.6541e-01,\n",
              "         -2.0155e-03,  8.0653e-02, -3.0025e-01, -7.6014e-02,  7.0612e-02,\n",
              "          3.1570e-01,  5.3520e-02, -1.0721e-01, -1.3660e-01,  3.2214e-01,\n",
              "          2.0040e-01,  1.1609e-01, -2.2501e-01,  1.2155e-01, -1.0851e-01,\n",
              "         -6.3187e-02, -2.4553e-01, -5.9751e-02,  6.8787e-02, -1.1627e-01,\n",
              "         -8.3402e-03,  5.2044e-03, -2.0159e-01, -2.3663e-02,  1.7562e-01,\n",
              "         -3.1475e-01, -1.1162e-01, -1.2492e-01,  1.0949e-01, -2.6913e-01,\n",
              "          3.4893e-01, -1.6997e+00, -2.4470e-01,  3.0292e-01,  5.6720e-02,\n",
              "         -3.1737e-01,  8.3612e-02,  9.5949e-02, -1.7590e-01,  1.0235e-01,\n",
              "          3.6808e-01, -3.4380e-01,  2.0607e-01,  1.9135e-01,  1.0992e-01,\n",
              "          7.5968e-02, -1.4359e-02, -7.3794e-02,  2.2176e-01,  1.4652e-01,\n",
              "          5.6686e-01,  5.3307e-02, -2.3290e-01, -1.2226e-01,  3.5499e-01],\n",
              "        dtype=float32)),\n",
              " ('.', array([-1.2559e-01,  1.3630e-02,  1.0306e-01, -1.0123e-01,  9.8128e-02,\n",
              "          1.3627e-01, -1.0721e-01,  2.3697e-01,  3.2870e-01, -1.6785e+00,\n",
              "          2.2393e-01,  1.2409e-01, -8.6708e-02,  3.3010e-01,  3.4375e-01,\n",
              "         -8.7582e-04, -2.9658e-01,  2.4417e-01, -1.1592e-01, -3.5742e-02,\n",
              "         -1.0830e-02,  2.0776e-01,  2.9285e-01, -7.3491e-02, -1.8598e-01,\n",
              "         -2.0090e-01, -9.5366e-02,  6.3732e-03, -1.3620e-01,  9.2028e-02,\n",
              "         -3.9957e-02,  1.9027e-01, -1.0456e-01,  2.7670e-03, -7.1742e-01,\n",
              "         -1.2915e-01, -1.3451e-03,  2.7002e-01, -5.3023e-02,  2.2148e-01,\n",
              "          1.3881e-01, -1.5051e-01, -1.9150e-01,  1.6402e-01,  9.7484e-02,\n",
              "          5.6841e-02,  3.9789e-01,  4.0725e-01,  1.4802e-01,  2.1569e-01,\n",
              "         -1.0671e-01, -1.0232e-01,  2.4810e-02, -2.2100e-01, -1.0720e-02,\n",
              "          1.4234e-01, -2.8242e-01,  1.9254e-01,  8.6720e-02, -3.8970e-01,\n",
              "          1.1321e-01,  1.3779e-03,  6.4009e-03, -1.6206e-01, -8.2153e-02,\n",
              "         -5.5397e-01,  3.6789e-01, -4.0159e-03,  2.0710e-01, -3.7157e-01,\n",
              "          2.5135e-01, -1.9544e-01, -4.7059e-02,  1.7155e-01, -2.4036e-01,\n",
              "         -4.6086e-02,  1.9429e-01, -1.8939e-01, -7.1974e-03,  6.9481e-02,\n",
              "          5.9175e-02, -1.7585e-01,  1.0653e-01,  1.6933e-01, -3.6122e-02,\n",
              "          2.9911e-02, -1.1830e-01,  1.3916e-01, -3.7951e-02,  1.0690e-01,\n",
              "         -2.6069e-01, -1.0307e-01, -1.2272e-01, -1.5032e-01, -4.2409e-02,\n",
              "          1.3354e-02, -2.8510e-01,  1.1248e-02,  1.6073e-01, -1.6384e-01,\n",
              "          2.1233e-01, -1.8476e-01, -9.0874e-04,  6.6687e-02,  1.6918e-01,\n",
              "         -3.5004e-01,  9.9016e-02,  4.6393e-01, -1.9462e-01,  1.0346e-01,\n",
              "         -2.5668e-01, -3.6516e-01, -1.8963e-01, -2.1933e-01,  2.4634e-02,\n",
              "          6.5627e-02, -1.1120e-01, -1.6400e-01,  1.0874e-02, -8.4688e-02,\n",
              "         -1.4923e-01, -7.0223e-02,  2.8887e-02,  8.3497e-02, -1.6193e-02,\n",
              "         -2.4926e-03,  1.7186e-01,  9.8749e-03,  8.0237e-02,  1.4774e-01,\n",
              "          4.3206e-02,  2.7716e-01,  5.7697e-01, -4.1297e-02,  1.2765e-01,\n",
              "         -9.1517e-02,  1.4132e-01,  8.7579e-02,  9.3224e-02,  1.5346e-02,\n",
              "         -1.9856e-01,  1.7277e-02, -1.0708e-01, -1.3059e-02, -3.7227e-01,\n",
              "          7.8568e-02,  1.6677e-01, -1.5359e-01, -3.3294e-01,  3.6986e-02,\n",
              "          1.1697e-01,  3.9781e-02,  3.8464e-02, -1.6247e-01,  4.1280e-01,\n",
              "         -7.7491e-02,  4.5490e-02,  1.1330e-01,  8.2177e-03, -2.5052e-01,\n",
              "          7.0966e-02, -1.1388e-01, -1.1503e-01, -1.1014e-01,  1.0499e-01,\n",
              "          1.5878e-01, -2.7023e-01, -1.1006e-02,  7.6057e-04,  3.3902e-01,\n",
              "          2.5564e-01,  1.6342e-01, -5.6019e-01,  1.3055e-01,  7.6311e-02,\n",
              "         -2.8334e-02,  2.8721e-01, -2.7844e-02, -1.1561e-01,  3.4925e-01,\n",
              "         -1.2420e-01,  2.1405e-01,  2.4116e-01, -3.1343e-02,  1.0913e-01,\n",
              "         -2.4755e-01, -4.5429e-02, -8.2178e-02, -1.8831e-01,  1.8446e-01,\n",
              "         -9.7074e-02,  3.2395e-01,  1.0658e-01, -2.6676e-01, -2.7311e-01,\n",
              "          1.7181e-02,  2.5796e-01, -2.8048e-01,  3.0790e-01, -2.1800e-01,\n",
              "          8.7415e-01, -1.2297e-01,  1.0991e-01, -2.9797e-01,  1.3394e-01,\n",
              "          1.0615e-01, -1.0789e-01, -3.5976e-01, -1.8311e-01, -4.5133e-01,\n",
              "          3.4967e-02, -1.9847e-01,  2.1965e-01,  8.1520e-02,  2.5810e-01,\n",
              "          4.0173e-02,  3.1394e-02,  1.9069e-01,  7.5800e-02, -6.0638e-02,\n",
              "          2.0739e-01,  9.8390e-03, -2.6930e-01,  6.6515e-02, -1.0711e-01,\n",
              "          5.9916e-03,  2.3284e-01, -5.8663e-02,  9.8993e-02, -8.1464e-02,\n",
              "          6.7004e-02, -1.4305e-01,  2.5506e-01, -3.1971e-01, -3.1070e-02,\n",
              "         -9.2451e-02,  2.9440e-01,  2.8947e-01, -5.9804e-02,  2.4286e-01,\n",
              "         -1.6755e-01,  4.2031e-02,  5.1261e-01,  2.4525e-01, -6.5983e-01,\n",
              "          6.2456e-02,  5.2204e-02, -2.5717e-02, -8.0613e-02,  8.0869e-02,\n",
              "          2.2821e-01, -1.0217e-01, -2.0719e-01, -1.2123e-02,  3.4916e-01,\n",
              "          8.6527e-02,  6.6288e-02, -9.9828e-02,  2.5843e-01,  1.1943e-01,\n",
              "         -1.3667e-01, -4.3962e-01,  2.3704e-01,  3.1296e-02,  7.4701e-02,\n",
              "         -2.2387e-01,  7.8162e-03, -1.9016e-01,  4.4444e-02,  2.0191e-01,\n",
              "         -2.0814e-01, -2.8382e-01,  1.0427e-01, -2.1098e-01,  1.8865e-01,\n",
              "          3.1659e-01, -2.0753e+00, -7.1045e-02,  5.2419e-01,  5.6023e-02,\n",
              "         -2.5295e-01, -6.2168e-02, -1.0989e-01, -3.5755e-01, -7.9244e-02,\n",
              "          3.7472e-01, -2.8353e-01,  1.6337e-01,  1.1165e-01, -9.8002e-02,\n",
              "          6.0148e-02, -1.5619e-01, -1.1949e-01,  2.3445e-01,  8.1367e-02,\n",
              "          2.4618e-01, -1.5242e-01, -3.4224e-01, -2.2394e-02,  1.3684e-01],\n",
              "        dtype=float32))]"
            ]
          },
          "metadata": {},
          "execution_count": 51
        }
      ]
    },
    {
      "cell_type": "code",
      "metadata": {
        "id": "C0g-LXZ_cRHb"
      },
      "source": [
        "EMBEDDING_DIM = 300\n",
        "\n",
        "embedding_matrix = np.zeros((vocab_size, EMBEDDING_DIM))\n",
        "\n",
        "for word, i in word_index.items():\n",
        "  embedding_vector = embeddings_index.get(word)\n",
        "  if embedding_vector is not None:\n",
        "    embedding_matrix[i] = embedding_vector"
      ],
      "execution_count": null,
      "outputs": []
    },
    {
      "cell_type": "code",
      "metadata": {
        "colab": {
          "base_uri": "https://localhost:8080/"
        },
        "id": "JywrpfU4cSbc",
        "outputId": "cdf89ad0-f318-4032-92fe-e17d707dbd60"
      },
      "source": [
        "embedding_matrix[:10]"
      ],
      "execution_count": null,
      "outputs": [
        {
          "output_type": "execute_result",
          "data": {
            "text/plain": [
              "array([[ 0.        ,  0.        ,  0.        , ...,  0.        ,\n",
              "         0.        ,  0.        ],\n",
              "       [ 0.04656   ,  0.21318001, -0.0074364 , ...,  0.0090611 ,\n",
              "        -0.20988999,  0.053913  ],\n",
              "       [-0.25756001, -0.057132  , -0.67189997, ..., -0.16043   ,\n",
              "         0.046744  , -0.070621  ],\n",
              "       ...,\n",
              "       [-0.28426999,  0.047977  , -0.15062   , ..., -0.090071  ,\n",
              "         0.016922  ,  0.29278001],\n",
              "       [-0.1749    ,  0.22956   ,  0.24924   , ..., -0.24131   ,\n",
              "        -0.40402001,  0.054744  ],\n",
              "       [-0.18256   ,  0.49851   , -0.1639    , ..., -0.27224001,\n",
              "        -0.19107001, -0.094104  ]])"
            ]
          },
          "metadata": {},
          "execution_count": 53
        }
      ]
    },
    {
      "cell_type": "code",
      "metadata": {
        "id": "rKlggFh8aRmf"
      },
      "source": [
        "def plot_history(history):\n",
        "\t  # plot loss\n",
        "    plt.title('Loss')\n",
        "    plt.plot(history.history['loss'], color='blue', label='train')\n",
        "    plt.plot(history.history['val_loss'], color='red', label='test')\n",
        "    plt.ylabel('Loss')\n",
        "    plt.xlabel('Epoch')\n",
        "    plt.legend(['Train', 'Test'])\n",
        "    plt.show()\n",
        "    \n",
        "    # plot accuracy\n",
        "    plt.title('Accuracy')\n",
        "    plt.plot(history.history['accuracy'], color='blue', label='train')\n",
        "    plt.plot(history.history['val_accuracy'], color='red', label='test')\n",
        "    plt.ylabel('Accuracy')\n",
        "    plt.xlabel('Epoch')\n",
        "    plt.legend(['Train', 'Test'])\n",
        "    plt.show()\n",
        "\n",
        "    #plot F1\n",
        "    plt.title('F1 score')\n",
        "    plt.plot(history.history['f1_m'], color='blue', label='train')\n",
        "    plt.plot(history.history['val_f1_m'], color='red', label='test')\n",
        "    plt.ylabel('F1 score')\n",
        "    plt.xlabel('Epoch')\n",
        "    plt.legend(['Train', 'Test'])\n",
        "    plt.show()\n",
        "\n",
        "    #plot Recall\n",
        "    plt.title('Recall')\n",
        "    plt.plot(history.history['recall'], color='blue', label='train')\n",
        "    plt.plot(history.history['val_recall'], color='red', label='test')\n",
        "    plt.ylabel('Recall')\n",
        "    plt.xlabel('Epoch')\n",
        "    plt.legend(['Train', 'Test'])\n",
        "    plt.show()"
      ],
      "execution_count": null,
      "outputs": []
    },
    {
      "cell_type": "markdown",
      "source": [
        "## Model Training"
      ],
      "metadata": {
        "id": "4YquDou4CG4e"
      }
    },
    {
      "cell_type": "code",
      "metadata": {
        "id": "bsPiREO4yJBL"
      },
      "source": [
        "import keras\n",
        "from sklearn.metrics import log_loss, roc_auc_score, accuracy_score\n",
        "from keras.losses import binary_crossentropy\n",
        "from keras.metrics import binary_accuracy\n",
        "from keras import backend as K\n",
        "from keras.callbacks import *\n",
        "\n",
        "def recall_m(y_true, y_pred):\n",
        "    true_positives = K.sum(K.round(K.clip(y_true * y_pred, 0, 1)))\n",
        "    possible_positives = K.sum(K.round(K.clip(y_true, 0, 1)))\n",
        "    recall = true_positives / (possible_positives + K.epsilon())\n",
        "    return recall\n",
        "\n",
        "def precision_m(y_true, y_pred):\n",
        "    true_positives = K.sum(K.round(K.clip(y_true * y_pred, 0, 1)))\n",
        "    predicted_positives = K.sum(K.round(K.clip(y_pred, 0, 1)))\n",
        "    precision = true_positives / (predicted_positives + K.epsilon())\n",
        "    return precision\n",
        "    \n",
        "def f1_m(y_true, y_pred):\n",
        "    precision = precision_m(y_true, y_pred)\n",
        "    recall = recall_m(y_true, y_pred)\n",
        "    return 2*((precision*recall)/(precision+recall+K.epsilon()))\n",
        "\n",
        "\n",
        "METRICS = [\n",
        "      keras.metrics.TruePositives(name='tp'),\n",
        "      keras.metrics.FalsePositives(name='fp'),\n",
        "      keras.metrics.TrueNegatives(name='tn'),\n",
        "      keras.metrics.FalseNegatives(name='fn'), \n",
        "      keras.metrics.BinaryAccuracy(name='accuracy'),\n",
        "      keras.metrics.Precision(name='precision'),\n",
        "      keras.metrics.Recall(name='recall'),\n",
        "      keras.metrics.AUC(name='auc'),\n",
        "      keras.metrics.AUC(name='prc', curve='PR'), # precision-recall curve\n",
        "      f1_m\n",
        "]"
      ],
      "execution_count": null,
      "outputs": []
    },
    {
      "cell_type": "markdown",
      "source": [
        "### LSTM"
      ],
      "metadata": {
        "id": "c6yrehX0Cj_z"
      }
    },
    {
      "cell_type": "code",
      "metadata": {
        "id": "0gDd-vNiyKjy"
      },
      "source": [
        "import tensorflow as tf\n",
        "import matplotlib.pyplot as plt\n",
        "from keras.layers import Bidirectional, LSTM, Dense, Input, Dropout, Conv1D, SpatialDropout1D\n",
        "from keras.callbacks import ModelCheckpoint\n",
        "from tensorflow.keras.optimizers import Adam\n",
        "from tensorflow.keras.callbacks import ReduceLROnPlateau"
      ],
      "execution_count": null,
      "outputs": []
    },
    {
      "cell_type": "code",
      "metadata": {
        "colab": {
          "base_uri": "https://localhost:8080/"
        },
        "id": "_N2dHHlFyL5b",
        "outputId": "7a9ab86f-31fc-4ec5-e882-b7d2517144f5"
      },
      "source": [
        "embedding_layer = layers.Embedding(vocab_size,\n",
        "                                          EMBEDDING_DIM,\n",
        "                                          weights=[embedding_matrix],\n",
        "                                          input_length=MAXLENGTH,\n",
        "                                          trainable=False)\n",
        "\n",
        "sequence_input = Input(shape=(MAXLENGTH,), dtype='int32')\n",
        "embedding_sequences = embedding_layer(sequence_input)\n",
        "x = SpatialDropout1D(0.2)(embedding_sequences)\n",
        "x = LSTM(64, dropout=0.2, recurrent_dropout=0.2)(x)\n",
        "x = Dense(512, activation='relu')(x)\n",
        "x = Dropout(0.2)(x)\n",
        "x = Dense(512, activation='relu')(x)\n",
        "outputs = Dense(1, activation='sigmoid')(x)\n",
        "lstm_model = tf.keras.Model(sequence_input, outputs)"
      ],
      "execution_count": null,
      "outputs": [
        {
          "output_type": "stream",
          "name": "stdout",
          "text": [
            "WARNING:tensorflow:Layer lstm will not use cuDNN kernels since it doesn't meet the criteria. It will use a generic GPU kernel as fallback when running on GPU.\n"
          ]
        }
      ]
    },
    {
      "cell_type": "code",
      "metadata": {
        "colab": {
          "base_uri": "https://localhost:8080/"
        },
        "id": "-BH4fx5JyNw0",
        "outputId": "fd8cd06e-7bea-4d0b-a162-a48ba1029644"
      },
      "source": [
        "lstm_model.summary()"
      ],
      "execution_count": null,
      "outputs": [
        {
          "output_type": "stream",
          "name": "stdout",
          "text": [
            "Model: \"model\"\n",
            "_________________________________________________________________\n",
            " Layer (type)                Output Shape              Param #   \n",
            "=================================================================\n",
            " input_1 (InputLayer)        [(None, 30)]              0         \n",
            "                                                                 \n",
            " embedding (Embedding)       (None, 30, 300)           86205900  \n",
            "                                                                 \n",
            " spatial_dropout1d (SpatialD  (None, 30, 300)          0         \n",
            " ropout1D)                                                       \n",
            "                                                                 \n",
            " lstm (LSTM)                 (None, 64)                93440     \n",
            "                                                                 \n",
            " dense (Dense)               (None, 512)               33280     \n",
            "                                                                 \n",
            " dropout (Dropout)           (None, 512)               0         \n",
            "                                                                 \n",
            " dense_1 (Dense)             (None, 512)               262656    \n",
            "                                                                 \n",
            " dense_2 (Dense)             (None, 1)                 513       \n",
            "                                                                 \n",
            "=================================================================\n",
            "Total params: 86,595,789\n",
            "Trainable params: 389,889\n",
            "Non-trainable params: 86,205,900\n",
            "_________________________________________________________________\n"
          ]
        }
      ]
    },
    {
      "cell_type": "code",
      "metadata": {
        "id": "MK-OXLJGydiF"
      },
      "source": [
        "lstm_model.compile(optimizer=Adam(learning_rate=0.001), loss='binary_crossentropy',metrics=[METRICS])"
      ],
      "execution_count": null,
      "outputs": []
    },
    {
      "cell_type": "code",
      "metadata": {
        "colab": {
          "base_uri": "https://localhost:8080/"
        },
        "id": "W3neFIkXyQYe",
        "outputId": "135814c0-7fbc-488b-bc94-53803081fb51"
      },
      "source": [
        "lstm_history = lstm_model.fit(x_train, y_train, batch_size=512, epochs=15,\n",
        "                    validation_data=(x_test, y_test))"
      ],
      "execution_count": null,
      "outputs": [
        {
          "output_type": "stream",
          "name": "stdout",
          "text": [
            "Epoch 1/15\n",
            "399/399 [==============================] - 102s 237ms/step - loss: 0.2267 - tp: 7750.0000 - fp: 3407.0000 - tn: 179081.0000 - fn: 13986.0000 - accuracy: 0.9148 - precision: 0.6946 - recall: 0.3566 - auc: 0.8785 - prc: 0.5656 - f1_m: 0.4447 - val_loss: 0.1942 - val_tp: 3123.0000 - val_fp: 1459.0000 - val_tn: 44130.0000 - val_fn: 2345.0000 - val_accuracy: 0.9255 - val_precision: 0.6816 - val_recall: 0.5711 - val_auc: 0.9211 - val_prc: 0.6871 - val_f1_m: 0.6189\n",
            "Epoch 2/15\n",
            "399/399 [==============================] - 94s 234ms/step - loss: 0.1942 - tp: 10475.0000 - fp: 3825.0000 - tn: 178663.0000 - fn: 11261.0000 - accuracy: 0.9261 - precision: 0.7325 - recall: 0.4819 - auc: 0.9151 - prc: 0.6677 - f1_m: 0.5782 - val_loss: 0.1839 - val_tp: 3247.0000 - val_fp: 1392.0000 - val_tn: 44197.0000 - val_fn: 2221.0000 - val_accuracy: 0.9292 - val_precision: 0.6999 - val_recall: 0.5938 - val_auc: 0.9278 - val_prc: 0.7095 - val_f1_m: 0.6400\n",
            "Epoch 3/15\n",
            "399/399 [==============================] - 94s 235ms/step - loss: 0.1836 - tp: 11264.0000 - fp: 3755.0000 - tn: 178733.0000 - fn: 10472.0000 - accuracy: 0.9303 - precision: 0.7500 - recall: 0.5182 - auc: 0.9252 - prc: 0.6986 - f1_m: 0.6096 - val_loss: 0.1764 - val_tp: 3180.0000 - val_fp: 1148.0000 - val_tn: 44441.0000 - val_fn: 2288.0000 - val_accuracy: 0.9327 - val_precision: 0.7348 - val_recall: 0.5816 - val_auc: 0.9329 - val_prc: 0.7277 - val_f1_m: 0.6465\n",
            "Epoch 4/15\n",
            "399/399 [==============================] - 93s 232ms/step - loss: 0.1776 - tp: 11627.0000 - fp: 3818.0000 - tn: 178670.0000 - fn: 10109.0000 - accuracy: 0.9318 - precision: 0.7528 - recall: 0.5349 - auc: 0.9307 - prc: 0.7152 - f1_m: 0.6220 - val_loss: 0.1719 - val_tp: 3115.0000 - val_fp: 1001.0000 - val_tn: 44588.0000 - val_fn: 2353.0000 - val_accuracy: 0.9343 - val_precision: 0.7568 - val_recall: 0.5697 - val_auc: 0.9358 - val_prc: 0.7361 - val_f1_m: 0.6473\n",
            "Epoch 5/15\n",
            "399/399 [==============================] - 94s 235ms/step - loss: 0.1709 - tp: 12078.0000 - fp: 3716.0000 - tn: 178772.0000 - fn: 9658.0000 - accuracy: 0.9345 - precision: 0.7647 - recall: 0.5557 - auc: 0.9366 - prc: 0.7334 - f1_m: 0.6407 - val_loss: 0.1714 - val_tp: 3106.0000 - val_fp: 977.0000 - val_tn: 44612.0000 - val_fn: 2362.0000 - val_accuracy: 0.9346 - val_precision: 0.7607 - val_recall: 0.5680 - val_auc: 0.9362 - val_prc: 0.7393 - val_f1_m: 0.6479\n",
            "Epoch 6/15\n",
            "399/399 [==============================] - 94s 236ms/step - loss: 0.1672 - tp: 12368.0000 - fp: 3698.0000 - tn: 178790.0000 - fn: 9368.0000 - accuracy: 0.9360 - precision: 0.7698 - recall: 0.5690 - auc: 0.9397 - prc: 0.7427 - f1_m: 0.6509 - val_loss: 0.1687 - val_tp: 3106.0000 - val_fp: 945.0000 - val_tn: 44644.0000 - val_fn: 2362.0000 - val_accuracy: 0.9352 - val_precision: 0.7667 - val_recall: 0.5680 - val_auc: 0.9382 - val_prc: 0.7459 - val_f1_m: 0.6493\n",
            "Epoch 7/15\n",
            "399/399 [==============================] - 93s 234ms/step - loss: 0.1632 - tp: 12600.0000 - fp: 3675.0000 - tn: 178813.0000 - fn: 9136.0000 - accuracy: 0.9373 - precision: 0.7742 - recall: 0.5797 - auc: 0.9428 - prc: 0.7533 - f1_m: 0.6604 - val_loss: 0.1705 - val_tp: 3403.0000 - val_fp: 1248.0000 - val_tn: 44341.0000 - val_fn: 2065.0000 - val_accuracy: 0.9351 - val_precision: 0.7317 - val_recall: 0.6223 - val_auc: 0.9380 - val_prc: 0.7486 - val_f1_m: 0.6693\n",
            "Epoch 8/15\n",
            "399/399 [==============================] - 94s 237ms/step - loss: 0.1597 - tp: 12867.0000 - fp: 3626.0000 - tn: 178862.0000 - fn: 8869.0000 - accuracy: 0.9388 - precision: 0.7801 - recall: 0.5920 - auc: 0.9459 - prc: 0.7620 - f1_m: 0.6701 - val_loss: 0.1684 - val_tp: 3330.0000 - val_fp: 1134.0000 - val_tn: 44455.0000 - val_fn: 2138.0000 - val_accuracy: 0.9359 - val_precision: 0.7460 - val_recall: 0.6090 - val_auc: 0.9386 - val_prc: 0.7499 - val_f1_m: 0.6676\n",
            "Epoch 9/15\n",
            "399/399 [==============================] - 94s 235ms/step - loss: 0.1554 - tp: 13224.0000 - fp: 3630.0000 - tn: 178858.0000 - fn: 8512.0000 - accuracy: 0.9405 - precision: 0.7846 - recall: 0.6084 - auc: 0.9489 - prc: 0.7730 - f1_m: 0.6831 - val_loss: 0.1704 - val_tp: 3469.0000 - val_fp: 1272.0000 - val_tn: 44317.0000 - val_fn: 1999.0000 - val_accuracy: 0.9359 - val_precision: 0.7317 - val_recall: 0.6344 - val_auc: 0.9385 - val_prc: 0.7521 - val_f1_m: 0.6766\n",
            "Epoch 10/15\n",
            "399/399 [==============================] - 94s 235ms/step - loss: 0.1532 - tp: 13295.0000 - fp: 3634.0000 - tn: 178854.0000 - fn: 8441.0000 - accuracy: 0.9409 - precision: 0.7853 - recall: 0.6117 - auc: 0.9506 - prc: 0.7781 - f1_m: 0.6855 - val_loss: 0.1673 - val_tp: 3384.0000 - val_fp: 1165.0000 - val_tn: 44424.0000 - val_fn: 2084.0000 - val_accuracy: 0.9364 - val_precision: 0.7439 - val_recall: 0.6189 - val_auc: 0.9393 - val_prc: 0.7519 - val_f1_m: 0.6729\n",
            "Epoch 11/15\n",
            "399/399 [==============================] - 95s 237ms/step - loss: 0.1503 - tp: 13517.0000 - fp: 3623.0000 - tn: 178865.0000 - fn: 8219.0000 - accuracy: 0.9420 - precision: 0.7886 - recall: 0.6219 - auc: 0.9529 - prc: 0.7850 - f1_m: 0.6930 - val_loss: 0.1693 - val_tp: 3523.0000 - val_fp: 1333.0000 - val_tn: 44256.0000 - val_fn: 1945.0000 - val_accuracy: 0.9358 - val_precision: 0.7255 - val_recall: 0.6443 - val_auc: 0.9391 - val_prc: 0.7547 - val_f1_m: 0.6801\n",
            "Epoch 12/15\n",
            "399/399 [==============================] - 94s 236ms/step - loss: 0.1473 - tp: 13668.0000 - fp: 3515.0000 - tn: 178973.0000 - fn: 8068.0000 - accuracy: 0.9433 - precision: 0.7954 - recall: 0.6288 - auc: 0.9551 - prc: 0.7914 - f1_m: 0.7003 - val_loss: 0.1733 - val_tp: 3414.0000 - val_fp: 1166.0000 - val_tn: 44423.0000 - val_fn: 2054.0000 - val_accuracy: 0.9369 - val_precision: 0.7454 - val_recall: 0.6244 - val_auc: 0.9360 - val_prc: 0.7541 - val_f1_m: 0.6766\n",
            "Epoch 13/15\n",
            "399/399 [==============================] - 94s 235ms/step - loss: 0.1448 - tp: 13857.0000 - fp: 3511.0000 - tn: 178977.0000 - fn: 7879.0000 - accuracy: 0.9442 - precision: 0.7978 - recall: 0.6375 - auc: 0.9565 - prc: 0.7985 - f1_m: 0.7065 - val_loss: 0.1702 - val_tp: 3548.0000 - val_fp: 1373.0000 - val_tn: 44216.0000 - val_fn: 1920.0000 - val_accuracy: 0.9355 - val_precision: 0.7210 - val_recall: 0.6489 - val_auc: 0.9389 - val_prc: 0.7545 - val_f1_m: 0.6806\n",
            "Epoch 14/15\n",
            "399/399 [==============================] - 93s 234ms/step - loss: 0.1437 - tp: 13845.0000 - fp: 3430.0000 - tn: 179058.0000 - fn: 7891.0000 - accuracy: 0.9446 - precision: 0.8014 - recall: 0.6370 - auc: 0.9572 - prc: 0.8018 - f1_m: 0.7072 - val_loss: 0.1750 - val_tp: 3530.0000 - val_fp: 1389.0000 - val_tn: 44200.0000 - val_fn: 1938.0000 - val_accuracy: 0.9348 - val_precision: 0.7176 - val_recall: 0.6456 - val_auc: 0.9369 - val_prc: 0.7497 - val_f1_m: 0.6772\n",
            "Epoch 15/15\n",
            "399/399 [==============================] - 93s 234ms/step - loss: 0.1418 - tp: 13953.0000 - fp: 3442.0000 - tn: 179046.0000 - fn: 7783.0000 - accuracy: 0.9450 - precision: 0.8021 - recall: 0.6419 - auc: 0.9585 - prc: 0.8055 - f1_m: 0.7107 - val_loss: 0.1730 - val_tp: 3522.0000 - val_fp: 1338.0000 - val_tn: 44251.0000 - val_fn: 1946.0000 - val_accuracy: 0.9357 - val_precision: 0.7247 - val_recall: 0.6441 - val_auc: 0.9362 - val_prc: 0.7531 - val_f1_m: 0.6793\n"
          ]
        }
      ]
    },
    {
      "cell_type": "code",
      "metadata": {
        "colab": {
          "base_uri": "https://localhost:8080/",
          "height": 1000
        },
        "id": "VA9d_3tkziDH",
        "outputId": "dde25066-e241-4189-9009-2b67333233d6"
      },
      "source": [
        "plot_history(lstm_history)"
      ],
      "execution_count": null,
      "outputs": [
        {
          "output_type": "display_data",
          "data": {
            "image/png": "[encoded data removed]",
            "text/plain": [
              "<Figure size 432x288 with 1 Axes>"
            ]
          },
          "metadata": {
            "needs_background": "light"
          }
        },
        {
          "output_type": "display_data",
          "data": {
            "image/png": "[encoded data removed]",
            "text/plain": [
              "<Figure size 432x288 with 1 Axes>"
            ]
          },
          "metadata": {
            "needs_background": "light"
          }
        },
        {
          "output_type": "display_data",
          "data": {
            "image/png": "[encoded data removed]",
            "text/plain": [
              "<Figure size 432x288 with 1 Axes>"
            ]
          },
          "metadata": {
            "needs_background": "light"
          }
        },
        {
          "output_type": "display_data",
          "data": {
            "image/png": "[encoded data removed]",
            "text/plain": [
              "<Figure size 432x288 with 1 Axes>"
            ]
          },
          "metadata": {
            "needs_background": "light"
          }
        }
      ]
    },
    {
      "cell_type": "code",
      "source": [
        "print(lstm_history.history)"
      ],
      "metadata": {
        "colab": {
          "base_uri": "https://localhost:8080/"
        },
        "id": "CXaAX-SG2ubv",
        "outputId": "4ab21b34-7ca5-43e3-ee7f-0a91a95ffde7"
      },
      "execution_count": null,
      "outputs": [
        {
          "output_type": "stream",
          "name": "stdout",
          "text": [
            "{'loss': [0.22671544551849365, 0.1942182034254074, 0.18357805907726288, 0.17761485278606415, 0.17086593806743622, 0.16722148656845093, 0.16315467655658722, 0.1596653312444687, 0.15539807081222534, 0.1532330960035324, 0.1502894163131714, 0.1473483443260193, 0.14477217197418213, 0.14368340373039246, 0.1417883336544037], 'tp': [7750.0, 10475.0, 11264.0, 11627.0, 12078.0, 12368.0, 12600.0, 12867.0, 13224.0, 13295.0, 13517.0, 13668.0, 13857.0, 13845.0, 13953.0], 'fp': [3407.0, 3825.0, 3755.0, 3818.0, 3716.0, 3698.0, 3675.0, 3626.0, 3630.0, 3634.0, 3623.0, 3515.0, 3511.0, 3430.0, 3442.0], 'tn': [179081.0, 178663.0, 178733.0, 178670.0, 178772.0, 178790.0, 178813.0, 178862.0, 178858.0, 178854.0, 178865.0, 178973.0, 178977.0, 179058.0, 179046.0], 'fn': [13986.0, 11261.0, 10472.0, 10109.0, 9658.0, 9368.0, 9136.0, 8869.0, 8512.0, 8441.0, 8219.0, 8068.0, 7879.0, 7891.0, 7783.0], 'accuracy': [0.9148337244987488, 0.9261301159858704, 0.9303362965583801, 0.9318052530288696, 0.9345130920410156, 0.9360212087631226, 0.9372698664665222, 0.9388172030448914, 0.9405456781387329, 0.9408737421035767, 0.9420146346092224, 0.9432828426361084, 0.944227933883667, 0.9445657730102539, 0.9450358152389526], 'precision': [0.6946311593055725, 0.7325174808502197, 0.7499833703041077, 0.7528002858161926, 0.7647207975387573, 0.7698244452476501, 0.774193525314331, 0.7801491618156433, 0.7846208810806274, 0.7853387594223022, 0.7886230945587158, 0.7954373359680176, 0.7978466153144836, 0.8014471530914307, 0.8021270632743835], 'recall': [0.3565513491630554, 0.48191940784454346, 0.5182186365127563, 0.534919023513794, 0.5556679964065552, 0.5690099596977234, 0.5796834826469421, 0.5919672250747681, 0.6083915829658508, 0.6116580963134766, 0.6218715310096741, 0.6288185715675354, 0.6375138163566589, 0.6369616985321045, 0.6419304609298706], 'auc': [0.8784838318824768, 0.9151167273521423, 0.9252220988273621, 0.9307335615158081, 0.9365943074226379, 0.9397081136703491, 0.9428218603134155, 0.9458786845207214, 0.9488639831542969, 0.9506396055221558, 0.9528573751449585, 0.9551296830177307, 0.9564771056175232, 0.9572153091430664, 0.9584825038909912], 'prc': [0.5655996203422546, 0.6677245497703552, 0.6985819339752197, 0.7152077555656433, 0.7333971858024597, 0.7426934838294983, 0.7533161640167236, 0.7619629502296448, 0.7729619145393372, 0.7780750393867493, 0.7849708795547485, 0.7914283275604248, 0.7985141277313232, 0.8018205761909485, 0.8055177927017212], 'f1_m': [0.44467416405677795, 0.5782254338264465, 0.6095795035362244, 0.6219701766967773, 0.6406812071800232, 0.6509294509887695, 0.6604291200637817, 0.6701246500015259, 0.6831158995628357, 0.6855401396751404, 0.692959725856781, 0.7003352046012878, 0.7065253257751465, 0.707242488861084, 0.7106926441192627], 'val_loss': [0.19419094920158386, 0.18393123149871826, 0.17637772858142853, 0.17192067205905914, 0.17138703167438507, 0.16872644424438477, 0.17054685950279236, 0.16842113435268402, 0.17038995027542114, 0.16734352707862854, 0.16932256519794464, 0.1733085811138153, 0.17022916674613953, 0.1749655306339264, 0.17295265197753906], 'val_tp': [3123.0, 3247.0, 3180.0, 3115.0, 3106.0, 3106.0, 3403.0, 3330.0, 3469.0, 3384.0, 3523.0, 3414.0, 3548.0, 3530.0, 3522.0], 'val_fp': [1459.0, 1392.0, 1148.0, 1001.0, 977.0, 945.0, 1248.0, 1134.0, 1272.0, 1165.0, 1333.0, 1166.0, 1373.0, 1389.0, 1338.0], 'val_tn': [44130.0, 44197.0, 44441.0, 44588.0, 44612.0, 44644.0, 44341.0, 44455.0, 44317.0, 44424.0, 44256.0, 44423.0, 44216.0, 44200.0, 44251.0], 'val_fn': [2345.0, 2221.0, 2288.0, 2353.0, 2362.0, 2362.0, 2065.0, 2138.0, 1999.0, 2084.0, 1945.0, 2054.0, 1920.0, 1938.0, 1946.0], 'val_accuracy': [0.9254950284957886, 0.9292359352111816, 0.9327026605606079, 0.9343087077140808, 0.9346024990081787, 0.9352292418479919, 0.9351117610931396, 0.9359147548675537, 0.9359343647956848, 0.9363652467727661, 0.9357972741127014, 0.9369332194328308, 0.9355034828186035, 0.9348375201225281, 0.9356797337532043], 'val_precision': [0.6815800666809082, 0.6999353170394897, 0.7347504496574402, 0.7568027377128601, 0.7607151865959167, 0.7667242884635925, 0.731670618057251, 0.7459677457809448, 0.7317021489143372, 0.7438997626304626, 0.7254942059516907, 0.7454148530960083, 0.7209916710853577, 0.7176255583763123, 0.7246913313865662], 'val_recall': [0.5711411833763123, 0.5938186049461365, 0.5815654993057251, 0.5696781277656555, 0.5680322051048279, 0.5680322051048279, 0.6223481893539429, 0.6089978218078613, 0.6344184279441833, 0.6188734173774719, 0.6442940831184387, 0.6243599057197571, 0.6488661170005798, 0.6455742716789246, 0.6441112160682678], 'val_auc': [0.9211094379425049, 0.9277591109275818, 0.9328706860542297, 0.9358099699020386, 0.936191737651825, 0.9381814002990723, 0.9380245208740234, 0.9386235475540161, 0.9384957551956177, 0.9393418431282043, 0.9390967488288879, 0.9360220432281494, 0.9388645887374878, 0.93694007396698, 0.9361591339111328], 'val_prc': [0.6871370673179626, 0.7094966173171997, 0.7276624441146851, 0.7360516786575317, 0.7393037676811218, 0.7459069490432739, 0.7485926151275635, 0.7498870491981506, 0.7520781755447388, 0.7519310712814331, 0.7546597123146057, 0.754118025302887, 0.7544699907302856, 0.7497341632843018, 0.7530571222305298], 'val_f1_m': [0.6189479231834412, 0.6399505138397217, 0.6464563608169556, 0.6473191976547241, 0.6478732824325562, 0.6493403911590576, 0.6693443059921265, 0.6675677299499512, 0.676622748374939, 0.6728878617286682, 0.6801340579986572, 0.6766241192817688, 0.6805525422096252, 0.6771703958511353, 0.6792610287666321]}\n"
          ]
        }
      ]
    },
    {
      "cell_type": "markdown",
      "metadata": {
        "id": "5BDLJZNvy_Bo"
      },
      "source": [
        "### Bidirectional LSTM\n"
      ]
    },
    {
      "cell_type": "code",
      "metadata": {
        "colab": {
          "base_uri": "https://localhost:8080/"
        },
        "id": "qc44VJF6y7Wo",
        "outputId": "ac0cdac4-ff3f-47b7-da28-88c9c52f4055"
      },
      "source": [
        "sequence_input = Input(shape=(MAXLENGTH,), dtype='int32')\n",
        "embedding_sequences = embedding_layer(sequence_input)\n",
        "x = SpatialDropout1D(0.2)(embedding_sequences)\n",
        "x = Bidirectional(LSTM(64, dropout=0.2, recurrent_dropout=0.2))(x)\n",
        "x = Dense(512, activation='relu')(x)\n",
        "x = Dropout(0.2)(x)\n",
        "x = Dense(512, activation='relu')(x)\n",
        "outputs = Dense(1, activation='sigmoid')(x)\n",
        "bidir_model = tf.keras.Model(sequence_input, outputs)"
      ],
      "execution_count": null,
      "outputs": [
        {
          "output_type": "stream",
          "name": "stdout",
          "text": [
            "WARNING:tensorflow:Layer lstm_1 will not use cuDNN kernels since it doesn't meet the criteria. It will use a generic GPU kernel as fallback when running on GPU.\n",
            "WARNING:tensorflow:Layer lstm_1 will not use cuDNN kernels since it doesn't meet the criteria. It will use a generic GPU kernel as fallback when running on GPU.\n",
            "WARNING:tensorflow:Layer lstm_1 will not use cuDNN kernels since it doesn't meet the criteria. It will use a generic GPU kernel as fallback when running on GPU.\n"
          ]
        }
      ]
    },
    {
      "cell_type": "code",
      "metadata": {
        "id": "DXXt9_KtzDJ5"
      },
      "source": [
        "bidir_model.compile(optimizer=Adam(learning_rate=0.001), loss='binary_crossentropy',metrics=[METRICS])\n"
      ],
      "execution_count": null,
      "outputs": []
    },
    {
      "cell_type": "code",
      "metadata": {
        "colab": {
          "base_uri": "https://localhost:8080/"
        },
        "id": "UGGjNhAZzFGA",
        "outputId": "1b4d590a-9da7-49ef-d17d-f22027deaada"
      },
      "source": [
        "bidir_model.summary()\n"
      ],
      "execution_count": null,
      "outputs": [
        {
          "output_type": "stream",
          "name": "stdout",
          "text": [
            "Model: \"model_1\"\n",
            "_________________________________________________________________\n",
            " Layer (type)                Output Shape              Param #   \n",
            "=================================================================\n",
            " input_2 (InputLayer)        [(None, 30)]              0         \n",
            "                                                                 \n",
            " embedding (Embedding)       (None, 30, 300)           86205900  \n",
            "                                                                 \n",
            " spatial_dropout1d_1 (Spatia  (None, 30, 300)          0         \n",
            " lDropout1D)                                                     \n",
            "                                                                 \n",
            " bidirectional (Bidirectiona  (None, 128)              186880    \n",
            " l)                                                              \n",
            "                                                                 \n",
            " dense_3 (Dense)             (None, 512)               66048     \n",
            "                                                                 \n",
            " dropout_1 (Dropout)         (None, 512)               0         \n",
            "                                                                 \n",
            " dense_4 (Dense)             (None, 512)               262656    \n",
            "                                                                 \n",
            " dense_5 (Dense)             (None, 1)                 513       \n",
            "                                                                 \n",
            "=================================================================\n",
            "Total params: 86,721,997\n",
            "Trainable params: 516,097\n",
            "Non-trainable params: 86,205,900\n",
            "_________________________________________________________________\n"
          ]
        }
      ]
    },
    {
      "cell_type": "code",
      "metadata": {
        "colab": {
          "base_uri": "https://localhost:8080/"
        },
        "id": "G-TJGT8wzHZ0",
        "outputId": "1d5e0f0a-e355-4f1e-b665-1be39c03c09d"
      },
      "source": [
        "bidir_history = bidir_model.fit(x_train, y_train, batch_size=512, epochs=15,\n",
        "                    validation_data=(x_test, y_test))\n"
      ],
      "execution_count": null,
      "outputs": [
        {
          "output_type": "stream",
          "name": "stdout",
          "text": [
            "Epoch 1/15\n",
            "399/399 [==============================] - 190s 456ms/step - loss: 0.2223 - tp: 11625.0000 - fp: 4886.0000 - tn: 223191.0000 - fn: 15579.0000 - accuracy: 0.9198 - precision: 0.7041 - recall: 0.4273 - auc: 0.8961 - prc: 0.6177 - f1_m: 0.4599 - val_loss: 0.1891 - val_tp: 2819.0000 - val_fp: 1027.0000 - val_tn: 44562.0000 - val_fn: 2649.0000 - val_accuracy: 0.9280 - val_precision: 0.7330 - val_recall: 0.5155 - val_auc: 0.9225 - val_prc: 0.6931 - val_f1_m: 0.6029\n",
            "Epoch 2/15\n",
            "399/399 [==============================] - 181s 454ms/step - loss: 0.1880 - tp: 10828.0000 - fp: 3783.0000 - tn: 178705.0000 - fn: 10908.0000 - accuracy: 0.9281 - precision: 0.7411 - recall: 0.4982 - auc: 0.9214 - prc: 0.6860 - f1_m: 0.5923 - val_loss: 0.1783 - val_tp: 3113.0000 - val_fp: 1107.0000 - val_tn: 44482.0000 - val_fn: 2355.0000 - val_accuracy: 0.9322 - val_precision: 0.7377 - val_recall: 0.5693 - val_auc: 0.9311 - val_prc: 0.7200 - val_f1_m: 0.6401\n",
            "Epoch 3/15\n",
            "399/399 [==============================] - 180s 450ms/step - loss: 0.1771 - tp: 11627.0000 - fp: 3655.0000 - tn: 178833.0000 - fn: 10109.0000 - accuracy: 0.9326 - precision: 0.7608 - recall: 0.5349 - auc: 0.9313 - prc: 0.7165 - f1_m: 0.6239 - val_loss: 0.1745 - val_tp: 3455.0000 - val_fp: 1424.0000 - val_tn: 44165.0000 - val_fn: 2013.0000 - val_accuracy: 0.9327 - val_precision: 0.7081 - val_recall: 0.6319 - val_auc: 0.9352 - val_prc: 0.7340 - val_f1_m: 0.6658\n",
            "Epoch 4/15\n",
            "399/399 [==============================] - 179s 450ms/step - loss: 0.1706 - tp: 12139.0000 - fp: 3757.0000 - tn: 178731.0000 - fn: 9597.0000 - accuracy: 0.9346 - precision: 0.7637 - recall: 0.5585 - auc: 0.9369 - prc: 0.7335 - f1_m: 0.6425 - val_loss: 0.1718 - val_tp: 3494.0000 - val_fp: 1402.0000 - val_tn: 44187.0000 - val_fn: 1974.0000 - val_accuracy: 0.9339 - val_precision: 0.7136 - val_recall: 0.6390 - val_auc: 0.9376 - val_prc: 0.7434 - val_f1_m: 0.6717\n",
            "Epoch 5/15\n",
            "399/399 [==============================] - 179s 449ms/step - loss: 0.1641 - tp: 12579.0000 - fp: 3684.0000 - tn: 178804.0000 - fn: 9157.0000 - accuracy: 0.9371 - precision: 0.7735 - recall: 0.5787 - auc: 0.9423 - prc: 0.7504 - f1_m: 0.6592 - val_loss: 0.1715 - val_tp: 3367.0000 - val_fp: 1218.0000 - val_tn: 44371.0000 - val_fn: 2101.0000 - val_accuracy: 0.9350 - val_precision: 0.7344 - val_recall: 0.6158 - val_auc: 0.9375 - val_prc: 0.7463 - val_f1_m: 0.6673\n",
            "Epoch 6/15\n",
            "399/399 [==============================] - 180s 451ms/step - loss: 0.1585 - tp: 13057.0000 - fp: 3773.0000 - tn: 178715.0000 - fn: 8679.0000 - accuracy: 0.9390 - precision: 0.7758 - recall: 0.6007 - auc: 0.9468 - prc: 0.7639 - f1_m: 0.6745 - val_loss: 0.1742 - val_tp: 3685.0000 - val_fp: 1645.0000 - val_tn: 43944.0000 - val_fn: 1783.0000 - val_accuracy: 0.9329 - val_precision: 0.6914 - val_recall: 0.6739 - val_auc: 0.9397 - val_prc: 0.7504 - val_f1_m: 0.6794\n",
            "Epoch 7/15\n",
            "399/399 [==============================] - 182s 457ms/step - loss: 0.1536 - tp: 13346.0000 - fp: 3670.0000 - tn: 178818.0000 - fn: 8390.0000 - accuracy: 0.9409 - precision: 0.7843 - recall: 0.6140 - auc: 0.9507 - prc: 0.7760 - f1_m: 0.6859 - val_loss: 0.1711 - val_tp: 3637.0000 - val_fp: 1539.0000 - val_tn: 44050.0000 - val_fn: 1831.0000 - val_accuracy: 0.9340 - val_precision: 0.7027 - val_recall: 0.6651 - val_auc: 0.9393 - val_prc: 0.7522 - val_f1_m: 0.6804\n",
            "Epoch 8/15\n",
            "399/399 [==============================] - 198s 495ms/step - loss: 0.1489 - tp: 13665.0000 - fp: 3680.0000 - tn: 178808.0000 - fn: 8071.0000 - accuracy: 0.9425 - precision: 0.7878 - recall: 0.6287 - auc: 0.9539 - prc: 0.7871 - f1_m: 0.6964 - val_loss: 0.1690 - val_tp: 3509.0000 - val_fp: 1333.0000 - val_tn: 44256.0000 - val_fn: 1959.0000 - val_accuracy: 0.9355 - val_precision: 0.7247 - val_recall: 0.6417 - val_auc: 0.9382 - val_prc: 0.7534 - val_f1_m: 0.6781\n",
            "Epoch 9/15\n",
            "399/399 [==============================] - 182s 457ms/step - loss: 0.1449 - tp: 13835.0000 - fp: 3544.0000 - tn: 178944.0000 - fn: 7901.0000 - accuracy: 0.9440 - precision: 0.7961 - recall: 0.6365 - auc: 0.9567 - prc: 0.7975 - f1_m: 0.7052 - val_loss: 0.1708 - val_tp: 3373.0000 - val_fp: 1113.0000 - val_tn: 44476.0000 - val_fn: 2095.0000 - val_accuracy: 0.9372 - val_precision: 0.7519 - val_recall: 0.6169 - val_auc: 0.9373 - val_prc: 0.7539 - val_f1_m: 0.6751\n",
            "Epoch 10/15\n",
            "399/399 [==============================] - 180s 452ms/step - loss: 0.1399 - tp: 14203.0000 - fp: 3639.0000 - tn: 178849.0000 - fn: 7533.0000 - accuracy: 0.9453 - precision: 0.7960 - recall: 0.6534 - auc: 0.9602 - prc: 0.8082 - f1_m: 0.7147 - val_loss: 0.1708 - val_tp: 3418.0000 - val_fp: 1168.0000 - val_tn: 44421.0000 - val_fn: 2050.0000 - val_accuracy: 0.9370 - val_precision: 0.7453 - val_recall: 0.6251 - val_auc: 0.9366 - val_prc: 0.7543 - val_f1_m: 0.6770\n",
            "Epoch 11/15\n",
            "399/399 [==============================] - 180s 450ms/step - loss: 0.1356 - tp: 14465.0000 - fp: 3544.0000 - tn: 178944.0000 - fn: 7271.0000 - accuracy: 0.9470 - precision: 0.8032 - recall: 0.6655 - auc: 0.9628 - prc: 0.8178 - f1_m: 0.7253 - val_loss: 0.1769 - val_tp: 3456.0000 - val_fp: 1253.0000 - val_tn: 44336.0000 - val_fn: 2012.0000 - val_accuracy: 0.9361 - val_precision: 0.7339 - val_recall: 0.6320 - val_auc: 0.9334 - val_prc: 0.7512 - val_f1_m: 0.6766\n",
            "Epoch 12/15\n",
            "399/399 [==============================] - 182s 456ms/step - loss: 0.1314 - tp: 14716.0000 - fp: 3427.0000 - tn: 179061.0000 - fn: 7020.0000 - accuracy: 0.9488 - precision: 0.8111 - recall: 0.6770 - auc: 0.9651 - prc: 0.8277 - f1_m: 0.7358 - val_loss: 0.1780 - val_tp: 3676.0000 - val_fp: 1575.0000 - val_tn: 44014.0000 - val_fn: 1792.0000 - val_accuracy: 0.9341 - val_precision: 0.7001 - val_recall: 0.6723 - val_auc: 0.9356 - val_prc: 0.7507 - val_f1_m: 0.6832\n",
            "Epoch 13/15\n",
            "399/399 [==============================] - 179s 448ms/step - loss: 0.1277 - tp: 14928.0000 - fp: 3402.0000 - tn: 179086.0000 - fn: 6808.0000 - accuracy: 0.9500 - precision: 0.8144 - recall: 0.6868 - auc: 0.9675 - prc: 0.8361 - f1_m: 0.7433 - val_loss: 0.1828 - val_tp: 3453.0000 - val_fp: 1275.0000 - val_tn: 44314.0000 - val_fn: 2015.0000 - val_accuracy: 0.9356 - val_precision: 0.7303 - val_recall: 0.6315 - val_auc: 0.9318 - val_prc: 0.7463 - val_f1_m: 0.6748\n",
            "Epoch 14/15\n",
            "399/399 [==============================] - 179s 450ms/step - loss: 0.1251 - tp: 15129.0000 - fp: 3458.0000 - tn: 179030.0000 - fn: 6607.0000 - accuracy: 0.9507 - precision: 0.8140 - recall: 0.6960 - auc: 0.9686 - prc: 0.8421 - f1_m: 0.7474 - val_loss: 0.1791 - val_tp: 3367.0000 - val_fp: 1166.0000 - val_tn: 44423.0000 - val_fn: 2101.0000 - val_accuracy: 0.9360 - val_precision: 0.7428 - val_recall: 0.6158 - val_auc: 0.9326 - val_prc: 0.7451 - val_f1_m: 0.6707\n",
            "Epoch 15/15\n",
            "399/399 [==============================] - 179s 448ms/step - loss: 0.1220 - tp: 15311.0000 - fp: 3246.0000 - tn: 179242.0000 - fn: 6425.0000 - accuracy: 0.9526 - precision: 0.8251 - recall: 0.7044 - auc: 0.9701 - prc: 0.8492 - f1_m: 0.7576 - val_loss: 0.1818 - val_tp: 3567.0000 - val_fp: 1440.0000 - val_tn: 44149.0000 - val_fn: 1901.0000 - val_accuracy: 0.9346 - val_precision: 0.7124 - val_recall: 0.6523 - val_auc: 0.9337 - val_prc: 0.7458 - val_f1_m: 0.6783\n"
          ]
        }
      ]
    },
    {
      "cell_type": "code",
      "metadata": {
        "colab": {
          "base_uri": "https://localhost:8080/",
          "height": 1000
        },
        "id": "0L0K4pvSzH-h",
        "outputId": "b003f34f-6ca8-4561-bd75-4fac707faf15"
      },
      "source": [
        "plot_history(bidir_history)\n"
      ],
      "execution_count": null,
      "outputs": [
        {
          "output_type": "display_data",
          "data": {
            "image/png": "[encoded data removed]",
            "text/plain": [
              "<Figure size 432x288 with 1 Axes>"
            ]
          },
          "metadata": {
            "needs_background": "light"
          }
        },
        {
          "output_type": "display_data",
          "data": {
            "image/png": "[encoded data removed]",
            "text/plain": [
              "<Figure size 432x288 with 1 Axes>"
            ]
          },
          "metadata": {
            "needs_background": "light"
          }
        },
        {
          "output_type": "display_data",
          "data": {
            "image/png": "[encoded data removed]",
            "text/plain": [
              "<Figure size 432x288 with 1 Axes>"
            ]
          },
          "metadata": {
            "needs_background": "light"
          }
        },
        {
          "output_type": "display_data",
          "data": {
            "image/png": "[encoded data removed]",
            "text/plain": [
              "<Figure size 432x288 with 1 Axes>"
            ]
          },
          "metadata": {
            "needs_background": "light"
          }
        }
      ]
    }
  ]
}